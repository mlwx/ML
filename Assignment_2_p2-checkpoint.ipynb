{
 "cells": [
  {
   "cell_type": "markdown",
   "metadata": {
    "colab_type": "text",
    "id": "BjJcjZpblOr2"
   },
   "source": [
    "<table class=\"table table-bordered\">\n",
    "    <tr>\n",
    "        <th style=\"text-align:center; width:25%\"><img src='https://www.np.edu.sg/PublishingImages/Pages/default/odp/ICT.jpg' style=\"width: 250px; height: 125px; \"></th>\n",
    "        <th style=\"text-align:center;\"><h1>Deep Learning</h1><h2>Assignment 2 - Character Generator Model (Problem 2)</h2><h3>AY2020/21 Semester</h3></th>\n",
    "    </tr>\n",
    "</table>"
   ]
  },
  {
   "cell_type": "code",
   "execution_count": 1,
   "metadata": {
    "colab": {},
    "colab_type": "code",
    "id": "lPeqhV9ylOr4"
   },
   "outputs": [],
   "source": [
    "# Import the Required Packages\n",
    "# Enter your code here:\n",
    "# Import the Required Packages\n",
    "import random\n",
    "import sys\n",
    "from tensorflow import keras\n",
    "from tensorflow.keras.models import Sequential\n",
    "from tensorflow.keras import layers\n",
    "from tensorflow.keras.layers import Embedding, SimpleRNN, LSTM, GRU, BatchNormalization, Flatten, Dense, LayerNormalization, Masking, Bidirectional, TimeDistributed\n",
    "from tensorflow.keras import optimizers\n",
    "import string\n",
    "import re\n",
    "import numpy as np\n",
    "from sklearn.model_selection import train_test_split\n",
    "\n",
    "import matplotlib.pyplot as plt\n",
    "%matplotlib inline"
   ]
  },
  {
   "cell_type": "markdown",
   "metadata": {
    "colab_type": "text",
    "id": "1t1m5JrWlOr9"
   },
   "source": [
    "## Step 1 – Data Loading and Processing"
   ]
  },
  {
   "cell_type": "markdown",
   "metadata": {
    "colab_type": "text",
    "id": "37Tf8yAHlOr-"
   },
   "source": [
    "### 1.1 Data Loading"
   ]
  },
  {
   "cell_type": "code",
   "execution_count": 2,
   "metadata": {
    "colab": {
     "base_uri": "https://localhost:8080/",
     "height": 52
    },
    "colab_type": "code",
    "id": "3aZoq2xolOr_",
    "outputId": "585f65de-4274-4545-faa1-b5bb60fddd79"
   },
   "outputs": [
    {
     "name": "stdout",
     "output_type": "stream",
     "text": [
      "The original text has 562439 characters.\n",
      "\n"
     ]
    }
   ],
   "source": [
    "# read in the text file, transforming everything to lower case\n",
    "text = open('holmes.txt').read().lower()\n",
    "print('The original text has ' + str(len(text)) + ' characters.\\n')"
   ]
  },
  {
   "cell_type": "markdown",
   "metadata": {
    "colab_type": "text",
    "id": "ftKvz2tjlOsD"
   },
   "source": [
    "### 1.2 Data Processing\n"
   ]
  },
  {
   "cell_type": "code",
   "execution_count": 3,
   "metadata": {
    "colab": {
     "base_uri": "https://localhost:8080/",
     "height": 160
    },
    "colab_type": "code",
    "id": "UmlDGpFtlOsE",
    "outputId": "41dcc71e-ead4-46eb-feb0-8ddd533ad494",
    "scrolled": true
   },
   "outputs": [
    {
     "data": {
      "text/plain": [
       "\"ï»¿the adventures of sherlock holmes by sir arthur conan doyle\\n\\n   i. a scandal in bohemia\\n  ii. the red-headed league\\n iii. a case of identity\\n  iv. the boscombe valley mystery\\n   v. the five orange pips\\n  vi. the man with the twisted lip\\n vii. the adventure of the blue carbuncle\\nviii. the adventure of the speckled band\\n  ix. the adventure of the engineer's thumb\\n   x. the adventure of the noble bachelor\\n  xi. the adventure of the beryl coronet\\n xii. the adventure of the copper beeches\\n\\n\\nadventure i. a scandal in bohemia\\n\\ni.\\n\\nto sherlock holmes she is always the woman. i have seldom heard\\nhim mention her under any other name. in his eyes she eclipses\\nand predominates the whole of her sex. it was not that he felt\\nany emotion akin to love for irene adler. all emotions, and that\\none particularly, were abhorrent to his cold, precise but\\nadmirably balanced mind. he was, i take it, the most perfect\\nreasoning and observing machine that the world has seen, but as a\\nlover he would have placed himself in a false position. he never\\nspoke of the softer passions, save with a gibe and a sneer. they\\nwere admirable things for the observer--excellent for drawing the\\nveil from men's motives and actions. but for the trained reasoner\\nto admit such intrusions into his own delicate and finely\\nadjusted temperament was to introduce a distracting factor which\\nmight throw a doubt upon all his mental results. grit in a\\nsensitive instrument, or a crack in one of his own high-power\\nlenses, would not be more disturbing than a strong emotion in a\\nnature such as his. and yet there was but one woman to him, and\\nthat woman was the late irene adler, of dubious and questionable\\nmemory.\\n\\ni had seen little of holmes lately. my marriage had drifted us\\naway from each other. my own complete happiness, and the\\nhome-centred interests which rise up around the man who first\\nfinds himself master of his own establishment, were sufficient to\\nabsorb all my attention, while holmes, who loathed every form of\\nsociet\""
      ]
     },
     "execution_count": 3,
     "metadata": {},
     "output_type": "execute_result"
    }
   ],
   "source": [
    "### print out the first 1000 characters of the raw text to get a sense of what characters to remove\n",
    "text[:2000]"
   ]
  },
  {
   "cell_type": "code",
   "execution_count": 4,
   "metadata": {
    "colab": {
     "base_uri": "https://localhost:8080/",
     "height": 35
    },
    "colab_type": "code",
    "id": "--0JdyDBlOsI",
    "outputId": "790564a0-d52c-44c9-a774-e71769e24574"
   },
   "outputs": [
    {
     "data": {
      "text/plain": [
       "'549797'"
      ]
     },
     "execution_count": 4,
     "metadata": {},
     "output_type": "execute_result"
    }
   ],
   "source": [
    "# remove all '\\n' and '\\r' from text\n",
    "text = text.replace('\\n','') \n",
    "text = text.replace('\\r','')\n",
    "str(len(text))"
   ]
  },
  {
   "cell_type": "code",
   "execution_count": 5,
   "metadata": {
    "colab": {},
    "colab_type": "code",
    "id": "HBDDQDTClOsO"
   },
   "outputs": [],
   "source": [
    "# create a function 'clean_text' to clean text so that only the following letters and punctation remain\n",
    "def clean_text(text):\n",
    "    punctuation = ['!', ',', '.', ':', ';', '?', '-', \"'\",' ']\n",
    "    letters='abcdefghijklmnopqrstuvwxyz'\n",
    "    keepList =punctuation.copy()\n",
    "    # Enter your code here:\n",
    "    for i in letters:\n",
    "       keepList.append(i)\n",
    "    clean_text =[]\n",
    "    for i in text:\n",
    "        if(keepList.count(i)>0): #check if character is in keep list\n",
    "            clean_text.append(i)\n",
    "    return \"\".join(clean_text) # returns string"
   ]
  },
  {
   "cell_type": "code",
   "execution_count": 6,
   "metadata": {
    "colab": {
     "base_uri": "https://localhost:8080/",
     "height": 160
    },
    "colab_type": "code",
    "id": "Vk4ffmJllOsS",
    "outputId": "ec30d616-f9f4-46e0-eb85-954938bdf1ef"
   },
   "outputs": [
    {
     "data": {
      "text/plain": [
       "\"the adventures of sherlock holmes by sir arthur conan doyle   i. a scandal in bohemia  ii. the red-headed league iii. a case of identity  iv. the boscombe valley mystery   v. the five orange pips  vi. the man with the twisted lip vii. the adventure of the blue carbuncleviii. the adventure of the speckled band  ix. the adventure of the engineer's thumb   x. the adventure of the noble bachelor  xi. the adventure of the beryl coronet xii. the adventure of the copper beechesadventure i. a scandal in bohemiai.to sherlock holmes she is always the woman. i have seldom heardhim mention her under any other name. in his eyes she eclipsesand predominates the whole of her sex. it was not that he feltany emotion akin to love for irene adler. all emotions, and thatone particularly, were abhorrent to his cold, precise butadmirably balanced mind. he was, i take it, the most perfectreasoning and observing machine that the world has seen, but as alover he would have placed himself in a false position. he neverspoke of the softer passions, save with a gibe and a sneer. theywere admirable things for the observer--excellent for drawing theveil from men's motives and actions. but for the trained reasonerto admit such intrusions into his own delicate and finelyadjusted temperament was to introduce a distracting factor whichmight throw a doubt upon all his mental results. grit in asensitive instrument, or a crack in one of his own high-powerlenses, would not be more disturbing than a strong emotion in anature such as his. and yet there was but one woman to him, andthat woman was the late irene adler, of dubious and questionablememory.i had seen little of holmes lately. my marriage had drifted usaway from each other. my own complete happiness, and thehome-centred interests which rise up around the man who firstfinds himself master of his own establishment, were sufficient toabsorb all my attention, while holmes, who loathed every form ofsociety with his whole bohemian soul, remained in our \""
      ]
     },
     "execution_count": 6,
     "metadata": {},
     "output_type": "execute_result"
    }
   ],
   "source": [
    "# clean data using clean_text function\n",
    "text = clean_text(text)\n",
    "text[:2000]"
   ]
  },
  {
   "cell_type": "code",
   "execution_count": 7,
   "metadata": {
    "colab": {
     "base_uri": "https://localhost:8080/",
     "height": 52
    },
    "colab_type": "code",
    "id": "FGQeTagFlOsW",
    "outputId": "711af201-4817-4d18-c73c-ff163e4c57e3"
   },
   "outputs": [
    {
     "name": "stdout",
     "output_type": "stream",
     "text": [
      "This document has 544340 total number of characters.\n",
      "This document has 35 unique characters.\n"
     ]
    }
   ],
   "source": [
    "# count the number of unique characters in the text\n",
    "chars = sorted(list(set(text)))\n",
    "\n",
    "# print some of the text, as well as statistics\n",
    "print (\"This document has \" +  str(len(text)) + \" total number of characters.\")\n",
    "print (\"This document has \" +  str(len(chars)) + \" unique characters.\")"
   ]
  },
  {
   "cell_type": "code",
   "execution_count": 8,
   "metadata": {
    "colab": {},
    "colab_type": "code",
    "id": "oT9stC54lOsc"
   },
   "outputs": [],
   "source": [
    "# create a function 'generate_text_io' to generate text inputs based on window_size and the corresponding labels\n",
    "def generate_text_io(text, window_size):  \n",
    "    inputs = [] # store inputs\n",
    "    labels = [] # stores label    \n",
    "    # Enter your code here:\n",
    "    length = len(text)\n",
    "    for i in range(0, len(text) - window_size, 3):\n",
    "        inputs.append(text[i: i + window_size])\n",
    "        labels.append(text[i + window_size])\n",
    "    return inputs, labels"
   ]
  },
  {
   "cell_type": "code",
   "execution_count": 9,
   "metadata": {
    "colab": {},
    "colab_type": "code",
    "id": "rVnw-AP8lOsf"
   },
   "outputs": [],
   "source": [
    "# this dictionary is a function mapping each unique character to a unique integer\n",
    "chars_to_indices = dict((c, i) for i, c in enumerate(chars))  # map each unique character to unique integer\n",
    "\n",
    "# this dictionary is a function mapping each unique integer back to a unique character\n",
    "indices_to_chars = dict((i, c) for i, c in enumerate(chars))  # map each unique integer back to unique character"
   ]
  },
  {
   "cell_type": "code",
   "execution_count": 10,
   "metadata": {
    "colab": {},
    "colab_type": "code",
    "id": "KkfDKNoJlOsi"
   },
   "outputs": [],
   "source": [
    "# create a function 'encode_io_pairs' to perform one-hot encoding of inputs and labels\n",
    "def encode_io_pairs(text,window_size): # window_size determines # of characters in each input\n",
    "    \n",
    "    # Enter your code here:\n",
    "    inputs, labels = generate_text_io(text, window_size)\n",
    "    X = np.zeros((len(inputs), window_size, len(chars)), dtype=np.bool)\n",
    "    y = np.zeros((len(inputs), len(chars)), dtype=np.bool)\n",
    "    for i, x in enumerate(inputs):\n",
    "        for t, char in enumerate(x):\n",
    "            X[i, t, chars_to_indices[char]] = 1\n",
    "            y[i, chars_to_indices[labels[i]]] = 1\n",
    "    return X, y"
   ]
  },
  {
   "cell_type": "code",
   "execution_count": 11,
   "metadata": {
    "colab": {},
    "colab_type": "code",
    "id": "fmlnHRO9lOsm"
   },
   "outputs": [],
   "source": [
    "# perform one-hot encoding of inputs and labels\n",
    "window_size = 100\n",
    "X, y = encode_io_pairs(text, window_size)"
   ]
  },
  {
   "cell_type": "markdown",
   "metadata": {
    "colab_type": "text",
    "id": "zGOpVKH-lOsp"
   },
   "source": [
    "### 1.3 Splitting Dataset into Inputs (X) and Labels (y)"
   ]
  },
  {
   "cell_type": "code",
   "execution_count": 12,
   "metadata": {
    "colab": {},
    "colab_type": "code",
    "id": "ClD1xYiolOsq"
   },
   "outputs": [],
   "source": [
    "# Note: You may choose to perform this step before encoding the data (step 1.2).\n",
    "# Enter your code here:\n"
   ]
  },
  {
   "cell_type": "code",
   "execution_count": 11,
   "metadata": {},
   "outputs": [],
   "source": [
    "def sample(preds, temperature=1.0):\n",
    "    preds = np.asarray(preds).astype('float64')\n",
    "    preds = np.log(preds) / temperature\n",
    "    exp_preds = np.exp(preds)\n",
    "    preds = exp_preds / np.sum(exp_preds)\n",
    "    probas = np.random.multinomial(1, preds, 1)\n",
    "    return np.argmax(probas)"
   ]
  },
  {
   "cell_type": "markdown",
   "metadata": {
    "colab_type": "text",
    "id": "PLUWHmfVlOsu"
   },
   "source": [
    "## Step 2 – Develop a Character Generator Model"
   ]
  },
  {
   "cell_type": "markdown",
   "metadata": {
    "colab_type": "text",
    "id": "sQ4joWOOlOsv"
   },
   "source": [
    "# Model #1 (Base Model 1)"
   ]
  },
  {
   "cell_type": "code",
   "execution_count": 14,
   "metadata": {
    "colab": {},
    "colab_type": "code",
    "id": "9eK1xZWllOsv"
   },
   "outputs": [
    {
     "name": "stdout",
     "output_type": "stream",
     "text": [
      "Model: \"sequential\"\n",
      "_________________________________________________________________\n",
      "Layer (type)                 Output Shape              Param #   \n",
      "=================================================================\n",
      "lstm (LSTM)                  (None, 100, 128)          83968     \n",
      "_________________________________________________________________\n",
      "lstm_1 (LSTM)                (None, 128)               131584    \n",
      "_________________________________________________________________\n",
      "dense (Dense)                (None, 35)                4515      \n",
      "=================================================================\n",
      "Total params: 220,067\n",
      "Trainable params: 220,067\n",
      "Non-trainable params: 0\n",
      "_________________________________________________________________\n"
     ]
    }
   ],
   "source": [
    "# Build the Model\n",
    "# Enter your code here:\n",
    "model = keras.models.Sequential()\n",
    "model.add(LSTM(128, input_shape=(window_size, len(chars)), return_sequences = True))\n",
    "model.add(LSTM(128))\n",
    "model.add(Dense(len(chars), activation='softmax'))\n",
    "\n",
    "model.summary()\n",
    "optimizer = optimizers.RMSprop(lr=0.01)\n",
    "model.compile(loss='categorical_crossentropy', optimizer=optimizer, metrics=['acc'])"
   ]
  },
  {
   "cell_type": "code",
   "execution_count": 15,
   "metadata": {
    "colab": {
     "base_uri": "https://localhost:8080/",
     "height": 441
    },
    "colab_type": "code",
    "id": "965W-EHZCddG",
    "outputId": "fb025b2f-2925-48dd-ce91-870ebaac7f8f"
   },
   "outputs": [
    {
     "name": "stdout",
     "output_type": "stream",
     "text": [
      "epoch 1\n",
      "Train on 145131 samples\n",
      "145131/145131 [==============================] - 135s 933us/sample - loss: 2.4838 - acc: 0.2868\n",
      "--- Generating with seed: \"olutely needed.it's as well, said the old man; it's a question whether ishall live to the assizes, s\"\n",
      "------ temperature: 0.2\n",
      "olutely needed.it's as well, said the old man; it's a question whether ishall live to the assizes, some the come the datting and the leet and the:e and the come the dant the come and the sell and the come and the ment the the deet and some the cast the come and the seed the come the man and which and in the come and and the stould and the dound the cast and the stoked and the come and the come and\n",
      "------ temperature: 0.5\n",
      "d in the come and and the stould and the dound the cast and the stoked and the come and the come and it is ont his now here and sore the millong as that the the dear and being lest of the soor my the stire my man mrcered frused and and strese to pears as and well mand of myfilly and and and my dust the one of the pertlice. it is the sone he mressice and his mined and and the betting with and she c\n",
      "------ temperature: 1.0\n",
      "the one of the pertlice. it is the sone he mressice and his mined and and the betting with and she comerfure.his, forning thenteanes thall in pandr'wher the couf ascly the whate ane is, my beeft atot youghed and had fust he h.i have of neck om, she lock threain here peenliciestleg my onget nemortly whide, i huveratollyy about apoutt-wenle,'stome to-bups. meavoucg with selming. he yerought evoms yp\n",
      "------ temperature: 1.2\n",
      "whide, i huveratollyy about apoutt-wenle,'stome to-bups. meavoucg with selming. he yerought evoms ypued may toolyen byseataons eneor uss ofor onebnate, it onghufwroty a paws, and ledsad iseal thas as, the eve witigedteliss.iighi pumru. ttrevelysshy his, mutt hisheltttichersedss thougl ont..he with thereeon, it anduade, at wlick hermekroner, spesh ontered a lotkrecised,enssir, in'lof, mndfrated wer\n",
      "epoch 2\n",
      "Train on 145131 samples\n",
      "145131/145131 [==============================] - 129s 888us/sample - loss: 1.8147 - acc: 0.4630\n",
      "--- Generating with seed: \" yet you have seen. that isjust my point. now, i know that there are seventeen steps,because i have \"\n",
      "------ temperature: 0.2\n",
      " yet you have seen. that isjust my point. now, i know that there are seventeen steps,because i have been and the doon to the cound of the back to the street to the still, and the starting in the street of the still, which a countrick to the door in the streen which i have the starting the street to the stall to the start at the street the door and seem to the started the counting to the started to\n",
      "------ temperature: 0.5\n",
      "the stall to the start at the street the door and seem to the started the counting to the started to the remarked to the did to may found in the near the charged to the reak in a spresides to the ster in the some have the street to the dear to the of your before in the stard a bound and to the dragred it in the client in the dause of my on the counder, i have been at it was a done with his find to\n",
      "------ temperature: 1.0\n",
      "ed it in the client in the dause of my on the counder, i have been at it was a done with his find to thuever turne him.with my sigrt any rustented yidn found me of a very of hand-dow, it care st garthiselve juh ageande of it. i thot you is if extet. i laik or the hand his lyages vound not at by mutted that eye, mr. holmes, to the keen thewen anrmpudpresise conseeddress this before! the tildon,hish\n",
      "------ temperature: 1.2\n",
      "ed that eye, mr. holmes, to the keen thewen anrmpudpresise conseeddress this before! the tildon,hishose, sit the disticas have sxell ofwo devets, missionen entry have fack-how one un my anpuindwent, i wisting, has passion, and his day thethe higg, allof youcledvel cobounticccount offur out desual you to lew theagougal ome no flock. yount kroing gar been havinul ent his latter-arnar as halm. he wil\n",
      "epoch 3\n",
      "Train on 145131 samples\n",
      "145131/145131 [==============================] - 131s 903us/sample - loss: 1.6511 - acc: 0.5088\n",
      "--- Generating with seed: \"orbehind me.you could not possibly have come at a better time, my dearwatson, he said cordially.i wa\"\n",
      "------ temperature: 0.2\n",
      "orbehind me.you could not possibly have come at a better time, my dearwatson, he said cordially.i was a son who was as the started to the conse is a son, the consid a dear the come to the corner the strough the was so the come and the street of the come to see the word in the was as the man who was a more the more the remark the street of the come to the dear the come to the street of the stope th\n",
      "------ temperature: 0.5\n",
      "a more the more the remark the street of the come to the dear the come to the street of the stope the come of the deally, and he has the action in the every to all were sage his fore and back made the last what he doubtion was of the little to the stunl, as the dose the more the best as was all a long her were as the fore as who had come from the latter, and the matter, she must was startly the th\n",
      "------ temperature: 1.0\n",
      "ng her were as the fore as who had come from the latter, and the matter, she must was startly the thewas tone is rill matter-lyoker the terly fath owred able pomly.you deds, see again in the losg and dishhall it, show my hadd be ouldagnam as which would not tase have clourding little dol, her ming of bawpine my did cuter as me not then pouteds that there is a parkcround who doubt i sode it for the\n",
      "------ temperature: 1.2\n",
      "f bawpine my did cuter as me not then pouteds that there is a parkcround who doubt i sode it for theorne them mer a ctefrect-loved.'wh f truch gran in these wassance escal must, sect't littlepobtly fures.i have k talk from at factis so think, let is not pecather to bn morr sloust on stirbupoin e any deforge in the letter?you shurely letthe sprim cut as jrust remark that eder, everym, swin freing t\n",
      "epoch 4\n",
      "Train on 145131 samples\n",
      "145131/145131 [==============================] - 130s 895us/sample - loss: 1.5587 - acc: 0.5345\n",
      "--- Generating with seed: \"from being out of danger yet. suddenly,however, as i ran, a deadly dizziness and sickness came over \"\n",
      "------ temperature: 0.2\n",
      "from being out of danger yet. suddenly,however, as i ran, a deadly dizziness and sickness came over the possible that it was a confrance and the say that it was a companed and the stair of a cried and way and the street of the street that it was a consellarred the street of the boot to the street of the street of the corner that it was a small be the street of a little to the street of the street \n",
      "------ temperature: 0.5\n",
      " the street of the corner that it was a small be the street of a little to the street of the street the man's and his fasten royal in the grast in the back as would good-of the absolute saw that i came a droped and the arms and the way grest of the bestle so have should see that i was a corner such a really in the make office, and as my way to be the manner and the street to me. i should be the sa\n",
      "------ temperature: 1.0\n",
      "a really in the make office, and as my way to be the manner and the street to me. i should be the save pounts that it back say to be all of a cupve them at a you know his most as anvell me. strake a stangedin that it was no prece was a break, i hads adolver, shave asked your lipout ger, procarably hunden thought in yo ard, clear over though ladup, with raveel eave all well, you might sprokind ourh\n",
      "------ temperature: 1.2\n",
      "unden thought in yo ard, clear over though ladup, with raveel eave all well, you might sprokind ourhounddrock a droen him wheofenning-mas, nifilar so perhep at as well, fleined,tand greath.. hecountin. shotcuriguallyinpiare.then kyed,nougal client that the enturey aftter.place aydicon royatchalas of ly, when you willordly. hoisies precasotfing the sfied, as be goosed. ohe surparedmake hard for to \n",
      "epoch 5\n",
      "Train on 145131 samples\n",
      "145131/145131 [==============================] - 127s 878us/sample - loss: 1.4959 - acc: 0.5510\n",
      "--- Generating with seed: \"rprotruding fingers and a horrid red, spongy surface where thethumb should have been. it had been ha\"\n",
      "------ temperature: 0.2\n",
      "rprotruding fingers and a horrid red, spongy surface where thethumb should have been. it had been hand of the street of the and man which were the matter of the first of the stare and the morning of the word and street of the street of the street of the street of the street of the street of the street of the street of the long a little and dear and the confinate to the confess of the word and so t\n",
      "------ temperature: 0.5\n",
      "et of the street of the long a little and dear and the confinate to the confess of the word and so the man for a still many intervil to any few mered her face in the person of vigating the room out of seen. i have a strange of the streend to ser of the way and for the ord of the street the more and get in the advantion. with the stare of his hands of the bringou may to her of the lodge that yourse\n",
      "------ temperature: 1.0\n",
      "get in the advantion. with the stare of his hands of the bringou may to her of the lodge that yourself and that he has done, he alwarmed sudenter hurriedy, said how, i understreet down there was anyscort.i have from the adveet got at use to did mind me there was riscurria young my ones by the artel.skeooble.holmes near as a clather stoft remictiusing ad him witself done i seiphewould i will be bee\n",
      "------ temperature: 1.2\n",
      "skeooble.holmes near as a clather stoft remictiusing ad him witself done i seiphewould i will be been steed, his bring and thinp whipe, he upon furriblustle nodpace, he deep i caught varguo. upon a good-.howing go its . twich strice fure to sand reay.ah, sand up for ission. you may so threaney i have keen practigrip?coroup to withto a cometor street doasyfrom to had bemindsanitutely from mox! waso\n",
      "epoch 6\n",
      "Train on 145131 samples\n",
      "145131/145131 [==============================] - 127s 876us/sample - loss: 1.4488 - acc: 0.5628\n",
      "--- Generating with seed: \"sting any longer, and he tookme away to 'frisco. frank wouldn't throw up his hand, though; sohe foll\"\n",
      "------ temperature: 0.2\n",
      "sting any longer, and he tookme away to 'frisco. frank wouldn't throw up his hand, though; sohe follow he had been and confinate so the street of the door of the matter of the street of the remarked and well as the street of the street of the matter is the morning of the find and carried the street, and i should not be the morning of the land of the street of the bank of the most of the presence o\n",
      "------ temperature: 0.5\n",
      " and i should not be the morning of the land of the street of the bank of the most of the presence of the dress and better side? the deast ready of the grey in an indeed the good as my round as to have to see the morning that the carnise of the name of the present that the perford and well of the morning parted save it of the some the street of the three matter seems to the port of a chair of the \n",
      "------ temperature: 1.0\n",
      "rning parted save it of the some the street of the three matter seems to the port of a chair of the day. i did not seey's closed her ofhis singage herd and efficul to medon eemcast free my burning the fere of poter, and then hisvound here, and pray think the bed. my companion with the gard threse said with it drutter,s, wester hair half-right, definill that the paps of bring my marriagertied yel f\n",
      "------ temperature: 1.2\n",
      "id with it drutter,s, wester hair half-right, definill that the paps of bring my marriagertied yel frem ashem  s. witedess companying us, littlestreed devouged tomatul. 'moning light, excreces lady--hard on little presumation. but it is ge's way.it were quite the nded afretthek,ised tour faint before having ovese. time over all this fronge with anewho cannarrated, verycrewilur with ey a feoriety. \n",
      "epoch 7\n",
      "Train on 145131 samples\n",
      "145131/145131 [==============================] - 127s 875us/sample - loss: 1.4120 - acc: 0.5712\n",
      "--- Generating with seed: \"eprevious morning; but it is only now that it has been possible toconfirm the strange rumours which \"\n",
      "------ temperature: 0.2\n",
      "eprevious morning; but it is only now that it has been possible toconfirm the strange rumours which i have been says were in the should not the shoulders which i have it was a chair of the stairs of the stair of the stair of the singular of the stairs which i have a shall be the companion, and the stairs of the stairs of the singular of come to me the most singular of the companion, and the side o\n",
      "------ temperature: 0.5\n",
      "tairs of the stairs of the singular of come to me the most singular of the companion, and the side of the little stand that the shoulder young supper to me. she is a man was heard of the corner of the box of the most the best of the county. i don't he had been less were incount. the different for the door was on the siminine in the police had been he will so. i was a cheek was to the scondrew the \n",
      "------ temperature: 1.0\n",
      "e door was on the siminine in the police had been he will so. i was a cheek was to the scondrew the investigation, i standow, he was remarker.such is a dimm.with, and theltess suchese, be waspectliced.'you comedinarristless quick on earth holden counse. we were the ragg whoseen him. i was your andair.the poped ewgrees which his own oner dast, after, whether, a little the pluin with so. i shall see\n",
      "------ temperature: 1.2\n",
      "r.the poped ewgrees which his own oner dast, after, whether, a little the pluin with so. i shall see, we well rat may weartinary.no smile would have have never, i will konglape, through notingthoo-yet youingsmered.what! and sea, mr. wilking up at there was its out sturge s-quitt to mured of benture, while wection fock me all itthat when he's itwell--and clothed. he descricideblemonse as socon offa\n",
      "epoch 8\n",
      "Train on 145131 samples\n",
      "145131/145131 [==============================] - 127s 874us/sample - loss: 1.3802 - acc: 0.5794\n",
      "--- Generating with seed: \"tson has not heard the opening part but also because thepeculiar nature of the story makes me anxiou\"\n",
      "------ temperature: 0.2\n",
      "tson has not heard the opening part but also because thepeculiar nature of the story makes me anxious the lady's he had been left the pair of the with the matter which is a station of the commander that i have a difficult and with a slip the station which are the comman and where it was a little the commenced the communed at the commonsia and where i have no doubt, there was a door he had been of \n",
      "------ temperature: 0.5\n",
      " commenced the communed at the commonsia and where i have no doubt, there was a door he had been of a find round the dress of the door of the pair which is a deadfreshed which is a bank!well, i have some swinging in the bank were clay pass the man who came to came when he remained the man who should not look out the sined. it was not place of the room. the last her a little to come upon a doubt th\n",
      "------ temperature: 1.0\n",
      " not look out the sined. it was not place of the room. the last her a little to come upon a doubt this wavement give it remark.good-plency. you with a champen upon enthe bout was a right,voose to being anordlegretolute my finged,the only condected in us between there is all that'she confriend a queeting, but with a villaine of the rool. wehane with a spil of the deen you want to euster through the\n",
      "------ temperature: 1.2\n",
      "ting, but with a villaine of the rool. wehane with a spil of the deen you want to euster through the stater,' yes, watson, perhaps it dud where swere having and fiquer of such achervican the bue efface are doubt.the mod ifwingabsear pans in minhensiderrode a doubt double, you gotthink ilesibluck, a fursth notign of the,and you can, ireconventment about my twoyes apooirmable lin is widhot a cornere\n",
      "epoch 9\n",
      "Train on 145131 samples\n",
      "145131/145131 [==============================] - 127s 877us/sample - loss: 1.3536 - acc: 0.5862\n",
      "--- Generating with seed: \"e. i hate to meet her, watson, when i haveno news of her husband. here we are. whoa, there, whoa!we \"\n",
      "------ temperature: 0.2\n"
     ]
    },
    {
     "name": "stdout",
     "output_type": "stream",
     "text": [
      "e. i hate to meet her, watson, when i haveno news of her husband. here we are. whoa, there, whoa!we have been one of the lady which had been and was all the street of the man, and i have a secret and as a client and was a considerable to see that i have been singular stands of a man who was a senisell the somener was the matter. it was a man and was the bured the man and was a little to my comman \n",
      "------ temperature: 0.5\n",
      "ll the somener was the matter. it was a man and was the bured the man and was a little to my comman and should not say that i do not have been her bed at the was that the confusingbetter and whom if i have been even in the wind, with the case of the arms the kignated my pounts to the good in the lawy drives and assistant, that is the greatey and was a man whom we had have been since in the window \n",
      "------ temperature: 1.0\n",
      "y drives and assistant, that is the greatey and was a man whom we had have been since in the window upthis morsible within the adraw, at thought of this clay whet she low of the will--in persend of his hands, lipon what she has groom,ssatked that thenseemy womanragran refuse that i been night of the mindd of a business, and out thehall and given, little house, if it will yet you have a tell me, wh\n",
      "------ temperature: 1.2\n",
      " mindd of a business, and out thehall and given, little house, if it will yet you have a tell me, what love.you knowholmes anddigamcy freast guarmly. had drauntisugued, andit was hreatan disapproach isecret, then!nevers.while standfusttooks.he appears i assiits unial,butillresifor to think that into that mic while wehe learned, young, didpiture be wasclivede opperson portumemanthing-me hear down a\n",
      "epoch 10\n",
      "Train on 145131 samples\n",
      "145131/145131 [==============================] - 127s 876us/sample - loss: 1.3309 - acc: 0.5929\n",
      "--- Generating with seed: \" brixton road, whispered holmes.come with me, and we will see what is to be made of thisfellow. stri\"\n",
      "------ temperature: 0.2\n",
      " brixton road, whispered holmes.come with me, and we will see what is to be made of thisfellow. strike to be the corner of the corner of the lady's the morning of the bedrooms with a secret of a series to the corner of the corner of the most of the corner of the corner of the most of the country, and the man with a series of the corner of the coloured with a series of the corner of the man with a \n",
      "------ temperature: 0.5\n",
      "d the man with a series of the corner of the coloured with a series of the corner of the man with a precely to me that the whole on a search of my hands of a man on the window, and there was not been the grey down a proved out of the greater and will street, and there was a goods of a paining upon the morning of the morning of a man of the time of the rinded a little to remarked. it is not known y\n",
      "------ temperature: 1.0\n",
      "he morning of the morning of a man of the time of the rinded a little to remarked. it is not known you west biccuonwas a will even a form. but he is in anoture against you do such  yourappeared her, andthereigns and betricselys a verything off our height addring to it, on which you could not. an only fromnoot the susehon consenve they carthy of the lamp?i have and many him.and made all evening,s i\n",
      "------ temperature: 1.2\n",
      "y fromnoot the susehon consenve they carthy of the lamp?i have and many him.and made all evening,s i am sure.that praymosintretmand--about mething cet. watsometuttornify micedtoricg you not purthoundryscake you. his youwerenaw down or all the volittered. is a letters, a smeats, was than i s,tasted a connuccure would as! do no tame light than i am beblock-sa order, and, watson'stine, unchive turnet\n"
     ]
    }
   ],
   "source": [
    "all_history_acc = []\n",
    "all_history_loss = []\n",
    "for epoch in range(1, 11):\n",
    "    print('epoch', epoch)\n",
    "    # Fit the model for 1 epoch on the available training data\n",
    "    history = model.fit(X, y,\n",
    "              batch_size=256,\n",
    "              epochs=1)\n",
    "    all_history_acc.append(history.history['acc'][0])\n",
    "    all_history_loss.append(history.history['loss'][0])\n",
    "    # Select a text seed at random\n",
    "    start_index = random.randint(0, len(text) - window_size - 1)\n",
    "    generated_text = text[start_index: start_index + window_size]\n",
    "    print('--- Generating with seed: \"' + generated_text + '\"')\n",
    "\n",
    "    for temperature in [0.2, 0.5, 1.0, 1.2]:\n",
    "        print('------ temperature:', temperature)\n",
    "        sys.stdout.write(generated_text)\n",
    "\n",
    "        # We generate 300 characters\n",
    "        for i in range(300):\n",
    "            sampled = np.zeros((1, window_size, len(chars)))\n",
    "            for t, char in enumerate(generated_text):\n",
    "                sampled[0, t, chars_to_indices[char]] = 1.\n",
    "\n",
    "            preds = model.predict(sampled, verbose=0)[0]\n",
    "            next_index = sample(preds, temperature)\n",
    "            next_char = chars[next_index]\n",
    "\n",
    "            generated_text += next_char #add 1 letter\n",
    "            generated_text = generated_text[1:] #get last 60 letters\n",
    "\n",
    "            sys.stdout.write(next_char)\n",
    "            sys.stdout.flush()\n",
    "        print()"
   ]
  },
  {
   "cell_type": "code",
   "execution_count": 16,
   "metadata": {},
   "outputs": [
    {
     "data": {
      "image/png": "[encoded data removed]",
      "text/plain": [
       "<Figure size 432x288 with 1 Axes>"
      ]
     },
     "metadata": {
      "needs_background": "light"
     },
     "output_type": "display_data"
    },
    {
     "data": {
      "image/png": "[encoded data removed]",
      "text/plain": [
       "<Figure size 432x288 with 1 Axes>"
      ]
     },
     "metadata": {
      "needs_background": "light"
     },
     "output_type": "display_data"
    }
   ],
   "source": [
    "epochs = range(len(all_history_acc))\n",
    "\n",
    "plt.plot(epochs, all_history_acc, 'b', label='Training acc')\n",
    "plt.title('Training and validation accuracy')\n",
    "plt.legend()\n",
    "\n",
    "plt.figure()\n",
    "\n",
    "plt.plot(epochs, all_history_loss, 'b', label='Training loss')\n",
    "plt.title('Training and validation loss')\n",
    "plt.legend()\n",
    "\n",
    "plt.show()"
   ]
  },
  {
   "cell_type": "code",
   "execution_count": 17,
   "metadata": {
    "colab": {},
    "colab_type": "code",
    "id": "elVhRWEzlOs5"
   },
   "outputs": [],
   "source": [
    "# Save the Model\n",
    "model.save('chgen_model_1.h5')"
   ]
  },
  {
   "cell_type": "markdown",
   "metadata": {},
   "source": [
    "# Model 2"
   ]
  },
  {
   "cell_type": "code",
   "execution_count": 18,
   "metadata": {},
   "outputs": [],
   "source": [
    "# perform one-hot encoding of inputs and labels\n",
    "window_size = 75\n",
    "X, y = encode_io_pairs(text, window_size)"
   ]
  },
  {
   "cell_type": "code",
   "execution_count": 19,
   "metadata": {},
   "outputs": [
    {
     "name": "stdout",
     "output_type": "stream",
     "text": [
      "Model: \"sequential_1\"\n",
      "_________________________________________________________________\n",
      "Layer (type)                 Output Shape              Param #   \n",
      "=================================================================\n",
      "lstm_2 (LSTM)                (None, 75, 128)           83968     \n",
      "_________________________________________________________________\n",
      "lstm_3 (LSTM)                (None, 128)               131584    \n",
      "_________________________________________________________________\n",
      "dense_1 (Dense)              (None, 35)                4515      \n",
      "=================================================================\n",
      "Total params: 220,067\n",
      "Trainable params: 220,067\n",
      "Non-trainable params: 0\n",
      "_________________________________________________________________\n"
     ]
    }
   ],
   "source": [
    "# Build the Model\n",
    "# Enter your code here:\n",
    "model = keras.models.Sequential()\n",
    "model.add(LSTM(128, input_shape=(window_size, len(chars)), return_sequences = True))\n",
    "model.add(LSTM(128))\n",
    "model.add(Dense(len(chars), activation='softmax'))\n",
    "\n",
    "model.summary()\n",
    "\n",
    "optimizer = optimizers.RMSprop(lr=0.01)\n",
    "model.compile(loss='categorical_crossentropy', optimizer=optimizer, metrics=['acc'])"
   ]
  },
  {
   "cell_type": "code",
   "execution_count": 20,
   "metadata": {},
   "outputs": [],
   "source": [
    "model.load_weights('chgen_model_1.h5')"
   ]
  },
  {
   "cell_type": "code",
   "execution_count": 21,
   "metadata": {},
   "outputs": [
    {
     "name": "stdout",
     "output_type": "stream",
     "text": [
      "epoch 1\n",
      "Train on 145137 samples\n",
      "145137/145137 [==============================] - 99s 681us/sample - loss: 1.5529 - acc: 0.5450\n",
      "--- Generating with seed: \"-and you managed that heshould be the man sent for. then, when he had left,\"\n",
      "------ temperature: 0.2\n",
      "-and you managed that heshould be the man sent for. then, when he had left, and i have a little street. i was a good of the long of the land of the man who was a should not to be the course and the remarked to be the door of the search to the coronet in the other was a little the street of the course in the condection to the deep to him to the court of the course and the c\n",
      "------ temperature: 0.5\n",
      "e in the condection to the deep to him to the court of the course and the clear to light to be the friend of the country of the curious for it as i not street. month to the front and the fire street to see the street. i have the morning to the wild stort had been banker of the last night, so i dain of the land stage and just the sing of a morning, so i had been so not must\n",
      "------ temperature: 1.0\n",
      "of the land stage and just the sing of a morning, so i had been so not must slone and which is theyhorel to an mornish foje down upon the direct of a ponminging to throase which toto, and in his paperson drefered, for thetams wring refrent more the wourtmere to well, which had fortent formeehab it fangitancasery theyoufenguch least foll only rested, flontk hoursthe wooden \n",
      "------ temperature: 1.2\n",
      "angitancasery theyoufenguch least foll only rested, flontk hoursthe wooden ohm, took somethinghis position.well, i plock. be a part-goind and his ndillglace. but the dodxrushtors nolk.there he anso fourder of the foot both into the other, whil! as you wroceyt known so,thewhole miss only to dobansed pul's.yes, till, happening our spieduoutablriols in tuncy glads in hisdeswe\n",
      "epoch 2\n",
      "Train on 145137 samples\n",
      "145137/145137 [==============================] - 96s 665us/sample - loss: 1.4560 - acc: 0.5653\n",
      "--- Generating with seed: \"sant couple, but fortunately i spend most of my time in thenursery and my o\"\n",
      "------ temperature: 0.2\n",
      "sant couple, but fortunately i spend most of my time in thenursery and my own police in the strong that i have a secret a singular that i have a contrast of the coronet of the country of the case of the stairs of the country with the side of the street. i shall seen the side of the strong to a strong and all the strong. i have done that i have been a little street. i was s\n",
      "------ temperature: 0.5\n",
      "g and all the strong. i have done that i have been a little street. i was start. she was sheet a small question of the street of the pistonity street that i was she have a being the more light at the cirdes of a strong in a tallow of the side of the case and clistince to her earlican county was own house is the sunk in the coronet of the side was had been a little a course\n",
      "------ temperature: 1.0\n",
      "house is the sunk in the coronet of the side was had been a little a course of hisburboling a stolow. noo, it was showed the surmrtion at hething cheek to the palast, for mr.demper. you fiddge our listened ede plain.yes, wild do a name of the orriable adventure of its than met nights in? at my knew his hag a curious pulling synessing, came had walking. peehour would have s\n",
      "------ temperature: 1.2\n",
      "his hag a curious pulling synessing, came had walking. peehour would have spque, and a morning.you have been litt upon tocheed. and yet i give is, now, mr. holmess.kquarching by the room waited tobsen, windibutely's criminal dawioushit. a use whichshe had seriencamoence, the chagrity, as goed interest that my founted now! i pitted ger andcount wiper, though the forture mor\n",
      "epoch 3\n",
      "Train on 145137 samples\n",
      "145137/145137 [==============================] - 97s 666us/sample - loss: 1.4031 - acc: 0.5770\n",
      "--- Generating with seed: \"he firm, with a request that they would inform mewhether it answered to the\"\n",
      "------ temperature: 0.2\n",
      "he firm, with a request that they would inform mewhether it answered to the countrystand the door, and the street of the street that i shall be at the street that i have stafe in the street of the stains of his chair of the street the deadly the street of the lady and the street of the stains of the stains, and the country the coroner? i shall see the street of the stains \n",
      "------ temperature: 0.5\n",
      " stains, and the country the coroner? i shall see the street of the stains of the sensation a piece of london in the rate of formunt to the strange father in the long of the excited of the best and was shoulders, one of the train of my own remark and succeed the trace at the two stagg to street for me to the door, i remarkably found, and then the coronymore sent to the per\n",
      "------ temperature: 1.0\n",
      "me to the door, i remarkably found, and then the coronymore sent to the persuabled occurred,watson, i have was will jodn her so aking taken ran about this other shiving was severthe side or a friend, befoughed you good me asked, said then was deduces old at the wall fastened you thatthe case time, and i shall do sevents for at him.i was away smil it that he would little st\n",
      "------ temperature: 1.2\n",
      "nd i shall do sevents for at him.i was away smil it that he would little strong, i villietin husband.the commons and 'ay, it was his wildled his papain over only ninether whoding his do! andanger algambinthe  that i never in the rooms. however, he walkousher a ladys, with the by two of villoumne father you, tolother, or she deeped to your -chair hasatchant. watding unteres\n",
      "epoch 4\n",
      "Train on 145137 samples\n",
      "145137/145137 [==============================] - 96s 665us/sample - loss: 1.3641 - acc: 0.5868\n",
      "--- Generating with seed: \" put so nice a bell-pull there.you will excuse me for a few minutes while i\"\n",
      "------ temperature: 0.2\n",
      " put so nice a bell-pull there.you will excuse me for a few minutes while i was a little strangerand and the street which he had a little stand of the stains of the stains of the stains of the stains of the stains of the stains of the secret and the stains of the stains of the stains of the stains of the stains of the stains of the street which i have stand on the stain of\n",
      "------ temperature: 0.5\n",
      "f the stains of the stains of the street which i have stand on the stain of conscent who had fire. and the case of my part--that the silence of the street. and i am much in the stairs off tempty considerable mean the goose of the man in a round she has a gentleman and the little considerable of the banker of the stair of the sound your fort of high his stand and they were \n",
      "------ temperature: 1.0\n",
      "banker of the stair of the sound your fort of high his stand and they were threat fordear--what kind i stiwledgeity, who for sighated tohanger in the push on a let me every words the newtoou able followy; he came gone thoughtful impoved the grey leave the forthing on a slow, made her a few crump eyto assexrepped us just no dear the bearys at a ready with my fitto. but atov\n",
      "------ temperature: 1.2\n",
      "o assexrepped us just no dear the bearys at a ready with my fitto. but atovery waitiliting mentiected think, ant terminal hims oftank, gerdit with home only neld nummented with done-andwhere it came none of ahear woulrefthat mystery, and, to stanths. yo he, heavion-randly, night leitto be pagnegbs,had everlat ank stateyou thretally assuedlycertered feaim that to england wh\n",
      "epoch 5\n",
      "Train on 145137 samples\n",
      "145137/145137 [==============================] - 97s 666us/sample - loss: 1.3323 - acc: 0.5956\n",
      "--- Generating with seed: \"nker's. well, when once his case has beensettled, he will have a regular pr\"\n",
      "------ temperature: 0.2\n",
      "nker's. well, when once his case has beensettled, he will have a regular presently an are the case of the accused over the colonel and a hand of the fact of the stone which has been a little the face was a little the strangetial and a little fellow of the coronet? it was a convention which has been the secret the coronet? and the dark of the convention of the convention of\n",
      "------ temperature: 0.5\n",
      "the secret the coronet? and the dark of the convention of the convention of the stepped the senoust was shail and my wife was a low door when my own sign of the face when the conventioning the house, and the tree stand of the window, and the name, for it was when he told me to the other was the twistrap and lawagers and five and to the resulting of the lost my sisting out \n",
      "------ temperature: 1.0\n",
      "trap and lawagers and five and to the resulting of the lost my sisting out and had nevered.'' he, mrs. rear you with it, thanner oee. he gashedsly doubt over to her are some remarked, one remarking what she was glass,when, i say him out his as ink of the and be ooclock, and on the hands. then early cried prosus.--but isthe time. i know could finally someneer that he was a \n",
      "------ temperature: 1.2\n",
      "cried prosus.--but isthe time. i know could finally someneer that he was a onengetective and my frick or line upon efolity, deserion and inceor to you whereswerest me and go in the time,' said hi.'it was tomigentsir hunced to it raid your valie and of you years inexposited horber shaisly grarled.had cried your owed why shoaks.al wret. there to dostemephy felt, didwhe we ar\n",
      "epoch 6\n",
      "Train on 145137 samples\n",
      "145137/145137 [==============================] - 98s 675us/sample - loss: 1.3080 - acc: 0.6006\n",
      "--- Generating with seed: \"s unable to find anything which could suggest the idea ofmurder. there were\"\n",
      "------ temperature: 0.2\n",
      "s unable to find anything which could suggest the idea ofmurder. there were the stains and the street of the signet of the side of the strange was standing the street of the stains in a commonsight at the side of the stains considerable of the commonsigned the signet of the papers, and the son, and the secret? i have seen that i am sure your will see that the secret and si\n",
      "------ temperature: 0.5\n",
      "the secret? i have seen that i am sure your will see that the secret and signal. the country at the silence, and i shall not see that i had a small sand grey the mind of the matter, but i had been not see a ready in the character of the single of the intracter of the thing, and the saw side of the facts while had notever small care to see that he had strengthe problems wit\n",
      "------ temperature: 1.0\n",
      "acts while had notever small care to see that he had strengthe problems with a hrue his nested who has been packed at the profeciety, and agently savannatalicable, down the ladiage,a threaking in the land-remove his in! upon the little man armchair wonder, they fargericale-'afferty look. this mayderfromied like at the long which who heichabpiar which had should be pined, f\n",
      "------ temperature: 1.2\n",
      "fromied like at the long which who heichabpiar which had should be pined, farnced and eit, holmes, dirlesminn, reck-your quarter to sidids in fave.iyou must ext tell its ving-straigind as he pasp additure in histhechads of ussbruct.you see.well mishing and turnerhas my returc. hown up i had a geytrac of the househorner of wobenstation ever sprang upon evelon, my samp hearn\n",
      "epoch 7\n",
      "Train on 145137 samples\n",
      "145137/145137 [==============================] - 97s 668us/sample - loss: 1.2848 - acc: 0.6073\n",
      "--- Generating with seed: \"hearted. if you were asked to wear any dresswhich we might give you, you wo\"\n",
      "------ temperature: 0.2\n",
      "hearted. if you were asked to wear any dresswhich we might give you, you would be in the street. i shall see the street. i can not serious an end of the street. he was a man who is a little street. i am sure that i have so the street. i have so the street. i have some the street. i am sure that i was not the street. i am sure that i was a street. i am sure that i have some\n",
      "------ temperature: 0.5\n",
      "s not the street. i am sure that i was a street. i am sure that i have some precious of the story, and without the table who is the line which was one of the curling and as his will, and the street of the samereloth thing which had miss man, and the series of a wife in a pointfrom my wife, and i shall be nothing out a long becall not finished to the reported and continuor \n",
      "------ temperature: 1.0\n",
      "ll be nothing out a long becall not finished to the reported and continuor and for his wonder?sis.it is timeanputyfour familish, and i shall have filled in the pecults in capicuest. i wepting help.and the nation was to go to the neiged abroud had have got, andhould not be copied me enough to this second, roomhad a sury lipted hundred in fier change and. itis very much from\n",
      "------ temperature: 1.2\n",
      "cond, roomhad a sury lipted hundred in fier change and. itis very much from the away.you have discortination,witi believe stunfess it upong this whocal, who, shround colourdedidenotbackitt four until that if hethe one of our plenseniantly inyon's. then a man woons. will your own sawnbitchuor has have taken it up at it.down this is hat finotherhalve seen anymproblem from a \n",
      "epoch 8\n",
      "Train on 145137 samples\n",
      "145137/145137 [==============================] - 97s 666us/sample - loss: 1.2666 - acc: 0.6108\n",
      "--- Generating with seed: \"as alice grew up, for he soon saw i was moreafraid of her knowing my past t\"\n",
      "------ temperature: 0.2\n",
      "as alice grew up, for he soon saw i was moreafraid of her knowing my past the strange of the strange chair and but the strange of the strange to my friend on the last we had struck before the chair and promise of the man and the door of the lowers of the chair and the passed of the strong at the bought at the lowers of the pool of the last of the passed of the lower of the\n",
      "------ temperature: 0.5\n",
      "ght at the lowers of the pool of the last of the passed of the lower of the rist of find as bridered the strange, and that i have been in the bed of every bull and the same policuloper that the chance of the train of the black as we shall of the lower. i wentze were more than in the precises of the last leasure of the marriage to see the matter of a possible as we have pro\n",
      "------ temperature: 1.0\n",
      "last leasure of the marriage to see the matter of a possible as we have promy observed mr. jack openout, with a signsinghto leand thebanged.he rosm his vintral. the lamberth ever. and hull do you marriedthe astunk had told all admirialsage. by the dun of the coppented strangering alls as we sillditapoatener of noble mat by falley?no done very assuded looking more awaker, r\n",
      "------ temperature: 1.2\n",
      "poatener of noble mat by falley?no done very assuded looking more awaker, ri hopealist yes?shey eiffelestonfhe hackpenfidential weinh seen.then he ledilleftelope, and that way that not point. but i understonted them semployoy of, goadve upon it. again it rushment, ferlow undip, and forle pireheadby a skinng were fitalthe. you had new,this swifle sk, had rathersually could \n",
      "epoch 9\n",
      "Train on 145137 samples\n",
      "145137/145137 [==============================] - 97s 668us/sample - loss: 1.2507 - acc: 0.6155 \n",
      "--- Generating with seed: \"the steps. she watched us with a sardonic eye as we steppedfrom the brougha\"\n",
      "------ temperature: 0.2\n",
      "the steps. she watched us with a sardonic eye as we steppedfrom the broughamer of the last was some day which i should be the first of the signal profession of the coroner's fits of the last was strange and with his considerable with the side of the bed only continuoble of the papers which was state of the rooms in a chance in the signal facts of the coroner's coroner, and\n",
      "------ temperature: 0.5\n",
      " of the rooms in a chance in the signal facts of the coroner's coroner, and a small pash block had forgood bat man had been in a cleared upon me that we have the mean begantly beganter in the earth is whitney, and i could see that her hose with a circumfutat one of the side of it put same theadvice of"
     ]
    },
    {
     "name": "stderr",
     "output_type": "stream",
     "text": [
      "C:\\Users\\Marcus\\Anaconda3\\lib\\site-packages\\ipykernel_launcher.py:3: RuntimeWarning: divide by zero encountered in log\n",
      "  This is separate from the ipykernel package so we can avoid doing imports until\n"
     ]
    },
    {
     "name": "stdout",
     "output_type": "stream",
     "text": [
      " the side of the right for any letter of the papers of the official of a \n",
      "------ temperature: 1.0\n",
      "of the side of the right for any letter of the papers of the official of a gadering tolart of the brain ofber hundless? been ridthe andcun with me which had even during a prentine! i said some clinting come, rattover ever the next ofy. there was no other talk it up our othersk remain book, would be delrom his nolds, she raise the ofe fory thought i have returnsforger. but \n",
      "------ temperature: 1.2\n",
      "delrom his nolds, she raise the ofe fory thought i have returnsforger. but no missirs, upon therley sit--poundsbails through the leavel brown bled-facing back a pied-mie trainy fact.you areness, andhis trunting aboutwas gurrows that is manshing,' ver, it wore huponer?but mr. holmes, it was no himself us care upon him down, i feltovery possible handsfrom tul?well, strange o\n",
      "epoch 10\n",
      "Train on 145137 samples\n",
      "145137/145137 [==============================] - 97s 668us/sample - loss: 1.2391 - acc: 0.6183\n",
      "--- Generating with seed: \"orm looming up besidethe little figure of the lad who drove him. the boy ha\"\n",
      "------ temperature: 0.2\n",
      "orm looming up besidethe little figure of the lad who drove him. the boy had married me to see that i have a good of the consective and had been a last brought that the colonel of the bedroom, and that i have not to me to the consections which the matter of the side of the consections and the colonel of the side of the other and has got a good on the side of the cards of t\n",
      "------ temperature: 0.5\n",
      "l of the side of the other and has got a good on the side of the cards of the time and was stretched to me, which you can wish all over the city as as i can see this morning. i am not spawn thing of the crowly at the place of the other was as not only at the singular man, and he was a hands. i had been with the dark of the stone case, and that i was an explain to his good \n",
      "------ temperature: 1.0\n",
      "een with the dark of the stone case, and that i was an explain to his good to you, he reached btheman, points i failince and go into his wild hears bay.what would course call wished the point not aband! huntingly said he. the mair devote onewhat came holmes state me. mr. hluto uncortisit and openshawarred her sudden at say describe overits, i must take in scandal, which ma\n",
      "------ temperature: 1.2\n",
      "warred her sudden at say describe overits, i must take in scandal, which made the incepperily generally, and yet us! see.''that is brekingby aadventured of a cheler, a believe omilantine of decided aganotha,.'whelake the example, inlaking all, mane assable, that you went aswitch in incufficoubt, glancing in his hands might woodve, i whoi may relsesy may only prevete from h\n"
     ]
    }
   ],
   "source": [
    "all_history_acc = []\n",
    "all_history_loss = []\n",
    "for epoch in range(1, 11):\n",
    "    print('epoch', epoch)\n",
    "    # Fit the model for 1 epoch on the available training data\n",
    "    history = model.fit(X, y,\n",
    "              batch_size=256,\n",
    "              epochs=1)\n",
    "    all_history_acc.append(history.history['acc'][0])\n",
    "    all_history_loss.append(history.history['loss'][0])\n",
    "    # Select a text seed at random\n",
    "    start_index = random.randint(0, len(text) - window_size - 1)\n",
    "    generated_text = text[start_index: start_index + window_size]\n",
    "    print('--- Generating with seed: \"' + generated_text + '\"')\n",
    "\n",
    "    for temperature in [0.2, 0.5, 1.0, 1.2]:\n",
    "        print('------ temperature:', temperature)\n",
    "        sys.stdout.write(generated_text)\n",
    "\n",
    "        # We generate 300 characters\n",
    "        for i in range(300):\n",
    "            sampled = np.zeros((1, window_size, len(chars)))\n",
    "            for t, char in enumerate(generated_text):\n",
    "                sampled[0, t, chars_to_indices[char]] = 1.\n",
    "\n",
    "            preds = model.predict(sampled, verbose=0)[0]\n",
    "            next_index = sample(preds, temperature)\n",
    "            next_char = chars[next_index]\n",
    "\n",
    "            generated_text += next_char #add 1 letter\n",
    "            generated_text = generated_text[1:] #get last 60 letters\n",
    "\n",
    "            sys.stdout.write(next_char)\n",
    "            sys.stdout.flush()\n",
    "        print()"
   ]
  },
  {
   "cell_type": "code",
   "execution_count": 22,
   "metadata": {},
   "outputs": [
    {
     "data": {
      "image/png": "[encoded data removed]",
      "text/plain": [
       "<Figure size 432x288 with 1 Axes>"
      ]
     },
     "metadata": {
      "needs_background": "light"
     },
     "output_type": "display_data"
    },
    {
     "data": {
      "image/png": "[encoded data removed]",
      "text/plain": [
       "<Figure size 432x288 with 1 Axes>"
      ]
     },
     "metadata": {
      "needs_background": "light"
     },
     "output_type": "display_data"
    }
   ],
   "source": [
    "epochs = range(len(all_history_acc))\n",
    "\n",
    "plt.plot(epochs, all_history_acc, 'b', label='Training acc')\n",
    "plt.title('Training and validation accuracy')\n",
    "plt.legend()\n",
    "\n",
    "plt.figure()\n",
    "\n",
    "plt.plot(epochs, all_history_loss, 'b', label='Training loss')\n",
    "plt.title('Training and validation loss')\n",
    "plt.legend()\n",
    "\n",
    "plt.show()"
   ]
  },
  {
   "cell_type": "code",
   "execution_count": 23,
   "metadata": {},
   "outputs": [],
   "source": [
    "# Save the Model\n",
    "model.save('chgen_model_2.h5')"
   ]
  },
  {
   "cell_type": "markdown",
   "metadata": {},
   "source": [
    "# Model 3"
   ]
  },
  {
   "cell_type": "code",
   "execution_count": 25,
   "metadata": {},
   "outputs": [],
   "source": [
    "# perform one-hot encoding of inputs and labels\n",
    "window_size = 125\n",
    "X, y = encode_io_pairs(text, window_size)"
   ]
  },
  {
   "cell_type": "code",
   "execution_count": 26,
   "metadata": {},
   "outputs": [],
   "source": [
    "# Build the Model\n",
    "# Enter your code here:\n",
    "model = keras.models.Sequential()\n",
    "model.add(LSTM(128, input_shape=(window_size, len(chars)), return_sequences = True))\n",
    "model.add(LSTM(128))\n",
    "model.add(Dense(len(chars), activation='softmax'))\n",
    "\n",
    "optimizer = optimizers.RMSprop(lr=0.01)\n",
    "model.compile(loss='categorical_crossentropy', optimizer=optimizer, metrics=['acc'])"
   ]
  },
  {
   "cell_type": "code",
   "execution_count": 27,
   "metadata": {},
   "outputs": [],
   "source": [
    "model.load_weights('chgen_model_1.h5')"
   ]
  },
  {
   "cell_type": "code",
   "execution_count": 28,
   "metadata": {},
   "outputs": [],
   "source": [
    "# Train the Model\n",
    "# Enter your code here:\n",
    "def sample(preds, temperature=1.0):\n",
    "    preds = np.asarray(preds).astype('float64')\n",
    "    preds = np.log(preds) / temperature\n",
    "    exp_preds = np.exp(preds)\n",
    "    preds = exp_preds / np.sum(exp_preds)\n",
    "    probas = np.random.multinomial(1, preds, 1)\n",
    "    return np.argmax(probas)"
   ]
  },
  {
   "cell_type": "code",
   "execution_count": 29,
   "metadata": {},
   "outputs": [
    {
     "name": "stdout",
     "output_type": "stream",
     "text": [
      "epoch 1\n",
      "Train on 145124 samples\n",
      "145124/145124 [==============================] - 160s 1ms/sample - loss: 1.5555 - acc: 0.5430\n",
      "--- Generating with seed: \"into an envelope. on the inside of the flap he wrotes. h. for j. o. then he sealed it and addressed it to captainjames calhou\"\n",
      "------ temperature: 0.2\n",
      "into an envelope. on the inside of the flap he wrotes. h. for j. o. then he sealed it and addressed it to captainjames calhour of a companion of the sent the coronet to be the coronet and with a little the coronet were the coronet the coronet the coronet the most thing of the receiler of the coronet to the coronet to see the door that i will in the coronet to him the send the same to me to have been the secure to me to ha\n",
      "------ temperature: 0.5\n",
      " to the coronet to see the door that i will in the coronet to him the send the same to me to have been the secure to me to have been down that he was large to marry in the county of the bedvery name of the lady which in the room.and the granched the sent to the coronet to call to the window, and say a street, thought it was which the trees to be the flectly of the hour of his face at a little back a police street. it is t\n",
      "------ temperature: 1.0\n",
      " a street, thought it was which the trees to be the flectly of the hour of his face at a little back a police street. it is to a busived to be have had.' said he surprasa that frosh anggaad me for comple to disrive lips would in pewilt, then summer, a cupbekent, and the head, heretally toknew you does a wild with as ourters, andseem hosmdarce tobactions, pipe, mrideto down the stapeds than was orress who back into effecti\n",
      "------ temperature: 1.2\n",
      "es a wild with as ourters, andseem hosmdarce tobactions, pipe, mrideto down the stapeds than was orress who back into effections upon escarted, it reast ablecondinatil tiknat e.hexome, and then hears last, for what if it wasse aulred arise, coy mr way to him, who willdaft you.''west, not awalon.feet.i had eggained,vil. upot find the coan, as you maylampled freemrish  that was dan, withton led,shis head us the bever.whyns \n",
      "epoch 2\n",
      "Train on 145124 samples\n",
      "145124/145124 [==============================] - 158s 1ms/sample - loss: 1.4568 - acc: 0.5653\n",
      "--- Generating with seed: \"ear horsham.it is conjectured that he may have been hurrying down to catchthe last train from waterloo station, and that in h\"\n",
      "------ temperature: 0.2\n",
      "ear horsham.it is conjectured that he may have been hurrying down to catchthe last train from waterloo station, and that in his hands that the strange of the strange of the strange of the strange of a sing and strange of his head of the lange in the strange of the strange of the strange of the sister of the sight of the lang of the shoulders and the south. i should be the strange of the strange of the man was the south wh\n",
      "------ temperature: 0.5\n",
      "r of the sight of the lang of the shoulders and the south. i should be the strange of the strange of the man was the south which was down the angranferen when have have been boot-course is a long was the readyquite, and i shall do into the words, here was not the name to ards all the course which the lady and the compully and good on the room and will from the door side. the good to stable in the regained the man was pate\n",
      "------ temperature: 1.0\n",
      "e lady and the compully and good on the room and will from the door side. the good to stable in the regained the man was pate my pastonity of sucmused all for boothound that the horse. you thouratic but estrance of allow never four face?the great lass blow, fitter inhimeached her upon them in his door adight than i wardhat pier spandrufficulatatily.do you not, and and drawedned us afranking and engled now me to be lakey o\n",
      "------ temperature: 1.2\n",
      "or adight than i wardhat pier spandrufficulatatily.do you not, and and drawedned us afranking and engled now me to be lakey on entergriti among her onhaer whichh just brightinall sholled ofthe valies,whatgidefell.and of they sleepever only red barthof my, you, and sa gleady, however a way,there were daughmer the'sherlocken, his paips in spoke out when he hadgense broughtwe lant, fover amyprofess-hour sitabit.and than hour\n",
      "epoch 3\n",
      "Train on 145124 samples\n",
      "145124/145124 [==============================] - 158s 1ms/sample - loss: 1.4003 - acc: 0.5782\n",
      "--- Generating with seed: \"anything else? asked holmes, yawning.oh, yes; plenty. then there is another note in the morning postto say that the marriage \"\n",
      "------ temperature: 0.2\n",
      "anything else? asked holmes, yawning.oh, yes; plenty. then there is another note in the morning postto say that the marriage that i have been a man who had been a conditation of the strange of the coronet of the most start of the conclusion of the conclusion to the conclusion of the consumedand that the street of the conclusion of his chair that the sister of the conclusion of the coronet of the ready and the conclusion o\n",
      "------ temperature: 0.5\n",
      " the street of the conclusion of his chair that the sister of the conclusion of the coronet of the ready and the conclusion of the composies of the flew fast best accition of the other hands in the samestonity of the man who is nothan the moment in the corner of the matter which i am a woman which or all. they have no pocked the consumeding from sure in the blue been the convintines that i am are that the streets of the o\n",
      "------ temperature: 1.0\n",
      "r all. they have no pocked the consumeding from sure in the blue been the convintines that i am are that the streets of the oit ofcondese when the brink-bed in concised my dhavy ofthe country-s, but i may in buengour wited and sodesquest in the order, has tolmes clouds of my clastene these spare of a week of new natureame to his lecslans; that i opened it view it. , in do downforder four mide in simple, but the says when \n",
      "------ temperature: 1.2\n",
      "a week of new natureame to his lecslans; that i opened it view it. , in do downforder four mide in simple, but the says when myself to the fewarsicable. he movel? for two night-haure at the succeens, with the shone each. grive and young dr. whatever belipion, end of my ruddess at on movecation.the narlan. how. they were no like and both stourds i do forwilacton in avery boottof eso whisk wat,a repricate youra would givemy\n",
      "epoch 4\n",
      "Train on 145124 samples\n",
      "145124/145124 [==============================] - 159s 1ms/sample - loss: 1.3634 - acc: 0.5872\n",
      "--- Generating with seed: \"buttoned only in the two lowerbuttons out of five, and the other at the first, third, andfifth. now, when you see that a youn\"\n",
      "------ temperature: 0.2\n",
      "buttoned only in the two lowerbuttons out of five, and the other at the first, third, andfifth. now, when you see that a young in the most conviction to a stand of the man of the man of the man who were a secure to a secure which was the sense of the man who were the strange of the most surprised in the coronet of the most stone of the strange of the count of the last of the most and the lady. the coronet of the last whic\n",
      "------ temperature: 0.5\n",
      " the coronet of the most stone of the strange of the count of the last of the most and the lady. the coronet of the last which were to a sunder all the corner was a copper, which then he strugglent to a sunder a cusbal in an instant of the setting man who has been that the most success, and there was not been the most conviction a very past of the convictive of the cooch in his son's conviction that he should be soon i ha\n",
      "------ temperature: 1.0\n",
      "s not been the most conviction a very past of the convictive of the cooch in his son's conviction that he should be soon i hadgevenveseshenties when i am not it is ofthery having and hair. i wenther i could wanting an interest, and then it was agopble of itwould akennetfound the change to minutes in the gazent. i will soon photograph, i think,me about my. then he street. scind thedirty. swing?i can as an explently, but i \n",
      "------ temperature: 1.2\n",
      " the gazent. i will soon photograph, i think,me about my. then he street. scind thedirty. swing?i can as an explently, but i would givent of the louded buggther cashable. as hermost nimded ghed gladeded, eady grey dured with a shalkfyly. there that he? i shoulder.' he especuliaded before not mile thenoye, however, "
     ]
    },
    {
     "name": "stderr",
     "output_type": "stream",
     "text": [
      "C:\\Users\\Marcus\\Anaconda3\\lib\\site-packages\\ipykernel_launcher.py:5: RuntimeWarning: divide by zero encountered in log\n",
      "  \"\"\"\n"
     ]
    },
    {
     "name": "stdout",
     "output_type": "stream",
     "text": [
      "to say,tharks about my ,holmes' stoneiuseineof, at him, which sideby yetge her arsingin apising. it is duty p\n",
      "epoch 5\n",
      "Train on 145124 samples\n",
      "145124/145124 [==============================] - 159s 1ms/sample - loss: 1.3303 - acc: 0.5957\n",
      "--- Generating with seed: \" of the human heart. you may advise me how to walk amidthe dangers which encompass me.i am all attention, madam.my name is he\"\n",
      "------ temperature: 0.2\n",
      " of the human heart. you may advise me how to walk amidthe dangers which encompass me.i am all attention, madam.my name is here to me. i have said, and the commoning and foresiquestion of the box. i was ask the other and standing to have been all the commed and all the startly that the commoning and stairs which i have been a singular to his south. i have already and the consuled of the box and standing to the sight of th\n",
      "------ temperature: 0.5\n",
      " stairs which i have been a singular to his south. i have already and the consuled of the box and standing to the sight of the room and truend to the sigh. a more of which my arms to be the sight, and a man. i have enough, said he, good-to perhaps, and one of the a dear of the so sile, said he, but i was a most say of the hears that i have perhaps, and he was as i have been in a hold. i have start a rich of the face. it w\n",
      "------ temperature: 1.0\n",
      "i was a most say of the hears that i have perhaps, and he was as i have been in a hold. i have start a rich of the face. it were keen hurry langalreafted about fimes of panion from able to kind. it seems at not in a man of inlightdiad hardly in this feet cold an; said holmes' den. that he has from making certain this. viguring to gr. k. shehalf. watsons or pleasor.ang woman for his rigid.but the endalways the room that he\n",
      "------ temperature: 1.2\n",
      "aking certain this. viguring to gr. k. shehalf. watsons or pleasor.ang woman for his rigid.but the endalways the room that hehouse as he came away for again, though there died made me an of an ankentually and well night? it seeing to draw horrible. and yet we have been thegerse?s yesroylote.'.it wass my little door orreged look ariys amidlandled miss refairly might upstoded earth of never so remarked,drectasshaving in the\n",
      "epoch 6\n",
      "Train on 145124 samples\n",
      "145124/145124 [==============================] - 159s 1ms/sample - loss: 1.3064 - acc: 0.6011\n",
      "--- Generating with seed: \"e one thatthe lady had been quite willing to undergo the wedding ceremony,the other that she had repented of it within a few \"\n",
      "------ temperature: 0.2\n",
      "e one thatthe lady had been quite willing to undergo the wedding ceremony,the other that she had repented of it within a few mind of the deep way to him. it is a man who will see that i am a completely in the strange of the corner was the coronet of the corner which was a strange of the case of the corner of the corner of the stone of the station of the case of a grey and the coronet was a completely started and a concern\n",
      "------ temperature: 0.5\n",
      "corner of the corner of the stone of the station of the case of a grey and the coronet was a completely started and a concernative that i was the palmanger of a very down to his eyes on the fress of talk of steps of you to have been a head of a little villain was the street, which i love so.''' we have no known a time to me and beat her statefor the case of the priver of a completend of the face and for a little cried, so\n",
      "------ temperature: 1.0\n",
      "ave no known a time to me and beat her statefor the case of the priver of a completend of the face and for a little cried, so that commissed a name, all find. it ask, aur when hether is a door as to hombe days. ald of my conerve.to much are tree of thepostmestop, and he s'ccomble,which her pleame may i amining of charantil it. it discumisurcal mpoot to do?oh, my cashed and limsion forwarr and returned and down, indeen, ho\n",
      "------ temperature: 1.2\n",
      "y i amining of charantil it. it discumisurcal mpoot to do?oh, my cashed and limsion forwarr and returned and down, indeen, hoh, as his shair, eifely.hobdiffect in feet. herrage to stakfay away. fashingalwave oxelamedrough about cleptionatives way'd hot use the a ten of theproomy, dmank feature me.he do notwond key as percoirly, busining toray from his gentle of creamals itfromendingto was the wlity mine, off reply possibl\n",
      "epoch 7\n",
      "Train on 145124 samples\n",
      "145124/145124 [==============================] - 158s 1ms/sample - loss: 1.2853 - acc: 0.6063\n",
      "--- Generating with seed: \"r ways, or mightfly from the country. if he braved the matter out, death wouldunfailingly come upon him, and usually in some \"\n",
      "------ temperature: 0.2\n",
      "r ways, or mightfly from the country. if he braved the matter out, death wouldunfailingly come upon him, and usually in some time and the corner of his chair to me to the strange of the lady and start to the corner was a man who were the corner and and the circusion to his chair and his chair and the corner was a lantern and the coronet and the last for his chair and the coronet of the corner. i had been the tracks of the\n",
      "------ temperature: 0.5\n",
      "e corner was a lantern and the coronet and the last for his chair and the coronet of the corner. i had been the tracks of the door and who had ended to hard our thought that is the man andgung that my friends from the house, where you are not over my reason to a little placed with the sight, i should be one of the most of the corner. the child, and the good heave of a lantern of the lady, and the carriage of his strange w\n",
      "------ temperature: 1.0\n",
      "d be one of the most of the corner. the child, and the good heave of a lantern of the lady, and the carriage of his strange which was a goose,and at the openselessard myself. if he entor at the child?for pains to lay and horse cross-lecked pounds are this. rucastle englamp with the morning.i must shrenge now what he wasrealous, which were of one of the cillen of the moult, and.ha!' it would be remember and rail, but the g\n",
      "------ temperature: 1.2\n",
      "renge now what he wasrealous, which were of one of the cillen of the moult, and.ha!' it would be remember and rail, but the gleaturea beforeear i very you, so for the, when he one of the rewmanc. arroves nothing, but a quickly wofthing in the troublizing over my son ffught afrelim had moken's, itwouldogesu little bodk.some  wantly bect one of his last anything to be copen of the mata tink his wife was shall drawn left tha\n",
      "epoch 8\n",
      "Train on 145124 samples\n",
      "145124/145124 [==============================] - 158s 1ms/sample - loss: 1.2660 - acc: 0.6124\n",
      "--- Generating with seed: \"ee whether we cannot make ourway in.it was an old rickety door and gave at once before our unitedstrength. together we rushed\"\n",
      "------ temperature: 0.2\n",
      "ee whether we cannot make ourway in.it was an old rickety door and gave at once before our unitedstrength. together we rushed to me to be a small but in the singular cards of the start of the whole could not know that i have the chain of the house. i have the chair a shair and the remarkable and the start of the small by the time of the small contrary, and the carriage who was a small chain and started to her to be the st\n",
      "------ temperature: 0.5\n",
      " start of the small by the time of the small contrary, and the carriage who was a small chain and started to her to be the stains, where he was obviously at my or any ascent that i had answere of the small bures and the room was news of the try and stays in which we have the lades of the cut of the start of the room, and it was all again that the news in the matter to his tellence to him, and the adventure of his statemin\n",
      "------ temperature: 1.0\n",
      "start of the room, and it was all again that the news in the matter to his tellence to him, and the adventure of his statemince, whom manner leaned to call a much terror clate of a balso. run, that she may get jump all thechock elso? then he had little expecture when whisporon textrades.slooredhelp my premarlamiss to turn has now, but of mg, with his life inrivent resorts.the nart of coacched either by?sugges his centrobe\n",
      "------ temperature: 1.2\n",
      "my premarlamiss to turn has now, but of mg, with his life inrivent resorts.the nart of coacched either by?sugges his centrobe and peoplemre. oh, might very kind, childness heman, was suggest that the expecticidefial. dangight apidly, and were hisdues, signown you. it is ednaw; and we could go not window,  however's, s? mr. do not have entered recarthed boan, trained laughed. for tneifed she followed afrair and so dacakeny\n",
      "epoch 9\n",
      "Train on 145124 samples\n",
      "145124/145124 [==============================] - 158s 1ms/sample - loss: 1.2479 - acc: 0.6161\n",
      "--- Generating with seed: \"s. i had already noticed the peculiarities of thetypewriter, and i wrote to the man himself at his businessaddress asking him\"\n",
      "------ temperature: 0.2\n",
      "s. i had already noticed the peculiarities of thetypewriter, and i wrote to the man himself at his businessaddress asking him to the street. i had been down the greatest down the man of the man of the man of the street of the morning of the found of the strange and the coroner. i had been a should be a man who had a good of the morning of the strange of the police of the morning and the coroner. there was a sleep of the s\n",
      "------ temperature: 0.5\n",
      "e a man who had a good of the morning of the strange of the police of the morning and the coroner. there was a sleep of the strong, and then he could go, however, said lestrade, then, and there is a narrelle was a single seems of my sent back that it seems to a strange that the company. as it is begand of the strong room, but for the south. in the side and discovered it up the course of a provising of his dead and force t\n",
      "------ temperature: 1.0\n",
      "and of the strong room, but for the south. in the side and discovered it up the course of a provising of his dead and force to us. he murmiselg, and then the barrest-fortune into the ut on sakethat my room, and is most affeened i imperseated--and best fory out of a little gaughder where his hand i was pated from air, here well, but shaking i to the resting of holmestconveretheon on the ring upon him, but if nottee lit con\n",
      "------ temperature: 1.2\n",
      "as pated from air, here well, but shaking i to the resting of holmestconveretheon on the ring upon him, but if nottee lit conder old for abto took his lantic step scrad serd yourselves.neved uothe obs.i opened towarderrygue had occurred four a quist to take, but i should find up a words, then; or frighle up out a concept of every photoreto upenshames returned thin eveningsfrom thisbedroot reverat myself ging to, to-night.\n",
      "epoch 10\n",
      "Train on 145124 samples\n",
      "145124/145124 [==============================] - 158s 1ms/sample - loss: 1.2328 - acc: 0.6193\n",
      "--- Generating with seed: \"nsion in which i was myself. the shutters cutoff the least ray of light, and we waited in absolute darkness.from outside came\"\n",
      "------ temperature: 0.2\n",
      "nsion in which i was myself. the shutters cutoff the least ray of light, and we waited in absolute darkness.from outside came to me to him. i have been a strange and the red-headed from the long of the man who had been trivial and the result of the morning of the man who had been down the repairs and the man who had been down the red-peadant of the companion in the door of the from the man who has the door of the dealing \n",
      "------ temperature: 0.5\n",
      "d the man who had been down the red-peadant of the companion in the door of the from the man who has the door of the dealing froet of his chair and the lens of the tracks lay of the grieding which i see his grasp in the deep of the late in the morning. i was a danger and the morning which may be to really he which he had street made the door of her light, which he stays and five of herdourning of a great respectable much \n",
      "------ temperature: 1.0\n",
      "really he which he had street made the door of her light, which he stays and five of herdourning of a great respectable much in stranged for you. you may over continlessconthccarthding tollok in my most novaeclrish close?oh, hanged hiscealing sight.wuthopainting between there was a man 't's 's.how don't heemill gives you now beside what i wasafter'aled and soon.ove of walling in themuge, becauses you that itwas fullymone \n",
      "------ temperature: 1.2\n",
      "on't heemill gives you now beside what i wasafter'aled and soon.ove of walling in themuge, becauses you that itwas fullymone of which i impertuse, that he letterhook when this from anyred me un lay of grincepome atleep,which the compased break fave to hear he.thestrade by example, said he, fen icwourdtheluds, but there have quite its joa! quite.as ran wating, and it you aregeal between'all starting great harron.whete he d\n"
     ]
    }
   ],
   "source": [
    "all_history_acc = []\n",
    "all_history_loss = []\n",
    "for epoch in range(1, 11):\n",
    "    print('epoch', epoch)\n",
    "    # Fit the model for 1 epoch on the available training data\n",
    "    history = model.fit(X, y,\n",
    "              batch_size=256,\n",
    "              epochs=1)\n",
    "    all_history_acc.append(history.history['acc'][0])\n",
    "    all_history_loss.append(history.history['loss'][0])\n",
    "    # Select a text seed at random\n",
    "    start_index = random.randint(0, len(text) - window_size - 1)\n",
    "    generated_text = text[start_index: start_index + window_size]\n",
    "    print('--- Generating with seed: \"' + generated_text + '\"')\n",
    "\n",
    "    for temperature in [0.2, 0.5, 1.0, 1.2]:\n",
    "        print('------ temperature:', temperature)\n",
    "        sys.stdout.write(generated_text)\n",
    "\n",
    "        # We generate 300 characters\n",
    "        for i in range(300):\n",
    "            sampled = np.zeros((1, window_size, len(chars)))\n",
    "            for t, char in enumerate(generated_text):\n",
    "                sampled[0, t, chars_to_indices[char]] = 1.\n",
    "\n",
    "            preds = model.predict(sampled, verbose=0)[0]\n",
    "            next_index = sample(preds, temperature)\n",
    "            next_char = chars[next_index]\n",
    "\n",
    "            generated_text += next_char #add 1 letter\n",
    "            generated_text = generated_text[1:] #get last 60 letters\n",
    "\n",
    "            sys.stdout.write(next_char)\n",
    "            sys.stdout.flush()\n",
    "        print()"
   ]
  },
  {
   "cell_type": "code",
   "execution_count": 30,
   "metadata": {},
   "outputs": [
    {
     "data": {
      "image/png": "[encoded data removed]",
      "text/plain": [
       "<Figure size 432x288 with 1 Axes>"
      ]
     },
     "metadata": {
      "needs_background": "light"
     },
     "output_type": "display_data"
    },
    {
     "data": {
      "image/png": "[encoded data removed]",
      "text/plain": [
       "<Figure size 432x288 with 1 Axes>"
      ]
     },
     "metadata": {
      "needs_background": "light"
     },
     "output_type": "display_data"
    }
   ],
   "source": [
    "epochs = range(len(all_history_acc))\n",
    "\n",
    "plt.plot(epochs, all_history_acc, 'b', label='Training acc')\n",
    "plt.title('Training and validation accuracy')\n",
    "plt.legend()\n",
    "\n",
    "plt.figure()\n",
    "\n",
    "plt.plot(epochs, all_history_loss, 'b', label='Training loss')\n",
    "plt.title('Training and validation loss')\n",
    "plt.legend()\n",
    "\n",
    "plt.show()"
   ]
  },
  {
   "cell_type": "code",
   "execution_count": 31,
   "metadata": {},
   "outputs": [],
   "source": [
    "# Save the Model\n",
    "model.save('chgen_model_3.h5')"
   ]
  },
  {
   "cell_type": "markdown",
   "metadata": {},
   "source": [
    "# Model 4"
   ]
  },
  {
   "cell_type": "code",
   "execution_count": 32,
   "metadata": {},
   "outputs": [],
   "source": [
    "# perform one-hot encoding of inputs and labels\n",
    "window_size = 50\n",
    "X, y = encode_io_pairs(text, window_size)"
   ]
  },
  {
   "cell_type": "code",
   "execution_count": 33,
   "metadata": {},
   "outputs": [
    {
     "name": "stdout",
     "output_type": "stream",
     "text": [
      "Model: \"sequential_3\"\n",
      "_________________________________________________________________\n",
      "Layer (type)                 Output Shape              Param #   \n",
      "=================================================================\n",
      "lstm_6 (LSTM)                (None, 50, 128)           83968     \n",
      "_________________________________________________________________\n",
      "lstm_7 (LSTM)                (None, 128)               131584    \n",
      "_________________________________________________________________\n",
      "dense_3 (Dense)              (None, 35)                4515      \n",
      "=================================================================\n",
      "Total params: 220,067\n",
      "Trainable params: 220,067\n",
      "Non-trainable params: 0\n",
      "_________________________________________________________________\n"
     ]
    }
   ],
   "source": [
    "# Build the Model\n",
    "# Enter your code here:\n",
    "model = keras.models.Sequential()\n",
    "model.add(LSTM(128, input_shape=(window_size, len(chars)), return_sequences = True))\n",
    "model.add(LSTM(128))\n",
    "model.add(Dense(len(chars), activation='softmax'))\n",
    "\n",
    "model.summary()\n",
    "\n",
    "optimizer = optimizers.RMSprop(lr=0.01)\n",
    "model.compile(loss='categorical_crossentropy', optimizer=optimizer, metrics=['acc'])"
   ]
  },
  {
   "cell_type": "code",
   "execution_count": 34,
   "metadata": {},
   "outputs": [],
   "source": [
    "model.load_weights('chgen_model_2.h5')"
   ]
  },
  {
   "cell_type": "code",
   "execution_count": 35,
   "metadata": {},
   "outputs": [
    {
     "name": "stdout",
     "output_type": "stream",
     "text": [
      "epoch 1\n",
      "Train on 145144 samples\n",
      "145144/145144 [==============================] - 67s 459us/sample - loss: 1.5274 - acc: 0.5533\n",
      "--- Generating with seed: \"t commonly becomedelirious. no, it was more likely\"\n",
      "------ temperature: 0.2\n",
      "t commonly becomedelirious. no, it was more likely to the papers of the papers of the pool of the man who had stood and the stairs and the man who had made the room, and the man who had stood of the side of the served and the strange of the other and the one of the points and saw the strange for his chair and the man who had stood and the face of t\n",
      "------ temperature: 0.5\n",
      " chair and the man who had stood and the face of the come and shown to the man and good to the other and a servant of thecheek of the paper to see you a servant and the grain to come and my own in the bards of the pass of the constations were screem examination of the nost to me. i had an excession of the head stood of the way in our from him in th\n",
      "------ temperature: 1.0\n",
      "of the head stood of the way in our from him in the man in the dod.how-voshe was paced know, seary of brutecuffuthere and interests! i feat.sthe other the beatened with his sreaty black ad whish you loo which he to mekrung, you are that her erdetop and he she during to my read for a came all dete. i have terrece take carvhy of to an alaked to be co\n",
      "------ temperature: 1.2\n",
      " have terrece take carvhy of to an alaked to be commandcome and us.missechupresence slow, littlegeterxy underat thatnedlaking docked, and after,it thilp andrespecttly ony ofbe this fell'shat as rearbefas back, none?to the that this, oyou followed his hour dystepinch this mancy 'a kind-baries to het very commanddecuriorabsidumment.'is drilrof my fit\n",
      "epoch 2\n",
      "Train on 145144 samples\n",
      "145144/145144 [==============================] - 65s 445us/sample - loss: 1.4260 - acc: 0.5748\n",
      "--- Generating with seed: \" books. round one ofhis hands he had a handkerchie\"\n",
      "------ temperature: 0.2\n",
      " books. round one ofhis hands he had a handkerchief and stretched to be to me to the considerable for any sundial the little park of the stretchen to the police of the coronet of the considerable which he had been a little and stood to have been two stoke of the coronet to his coronet to hear the consider to his coronet and see the sight of the cor\n",
      "------ temperature: 0.5\n",
      "nsider to his coronet and see the sight of the coronet to hear to think that it was a broar of have been let my finger in the back and come of the considerable man is down to the man walked diven out and concerned of a for which went in the prise which he was the one with his reason of a clearan the street. the stairs, and i must have a crowding-li\n",
      "------ temperature: 1.0\n",
      " street. the stairs, and i must have a crowding-light?my minminouet that any of the injures which were threw you.you did him?it was thebleets, moning in he said-mat, no signatuchousabre door seven plet your hunds of a boue s our patice. i have street?yes, said my pose the vigicant it would openout, of , with the stearcanes to his, and then i was yo\n",
      "------ temperature: 1.2\n",
      "of , with the stearcanes to his, and then i was yout against the shop, becied at majund to me, but he doones to hishonding any voandcaba puntilyve were animone place amaysaw batheller we had in, butn this own man stutherismmu, during himm.lestrike soquicinange at drigertrealougn posies lyab cistlecabseman?by the dood bottably, no doubt seen. ins. p\n",
      "epoch 3\n",
      "Train on 145144 samples\n",
      "145144/145144 [==============================] - 66s 458us/sample - loss: 1.3741 - acc: 0.5863\n",
      "--- Generating with seed: \"ganisation of thesociety, and so systematic its me\"\n",
      "------ temperature: 0.2\n",
      "ganisation of thesociety, and so systematic its meant have been the street, and the man who had been the stains of the street. i have a door and the facts which is a small the man who had been a compless of the considerable and street, and i was as i asked. the companion in the sight of the lady and the strange and started the last of the house. i \n",
      "------ temperature: 0.5\n",
      " the strange and started the last of the house. i remarked. i should be the companion was afterwards a small this the lover, but when i recrial happy are so that he had a head the consider and be the ready of the reignt and a door which is the door, i have been a good to have a great clear and five factof the corner of the prison of it. i knew you \n",
      "------ temperature: 1.0\n",
      "factof the corner of the prison of it. i knew you can he laughed.and you are an exceptionly and coo me bell an occuence, and you will.' i am so couldis room and biss of glad eggsested at norse. you have noglove here it? his sweaded loves her most to flace. nothing his what i may, tur down.that could i think it was abovely downto down an interest a \n",
      "------ temperature: 1.2\n",
      " i think it was abovely downto down an interest a very glads anamerag skme three thing.you men saydabfridkeractoa, hapopen amongtheeck reat ain, said holmes, for the doorandwouldtagged, i have acwire.dunceowprect. how, anspoight  iqu camooni take in  young lefiers.no'iit-acreclolto. it is same.rurning, sand why did a caused as fastened. they un tru\n",
      "epoch 4\n",
      "Train on 145144 samples\n",
      "145144/145144 [==============================] - 66s 451us/sample - loss: 1.3351 - acc: 0.5950\n",
      "--- Generating with seed: \"very deep waters, said he; pray go on with yournar\"\n",
      "------ temperature: 0.2\n",
      "very deep waters, said he; pray go on with yournarched with the papers of the box of the press of the matter of a little more that i had been the state, and i had a strange and sound to her all the singular of the strange and the coloured and saw the coloured in the window, and the man who had been the matter, and the man who had seems and see the \n",
      "------ temperature: 0.5\n",
      "the matter, and the man who had seems and see the strange, as i shall see the morne of me. i do not shirt much opened at the long from the custome before, and the strange is a state of a good of the mornings. the matter, said holmes, said he. his struck round the complete and struck which i would see it alone and he convecture that he could see the\n",
      "------ temperature: 1.0\n",
      "e it alone and he convecture that he could see the marriage moden to the fods, wasfirds. his own halbings we haveed business his horse of occurress companed of a letters. in the all ofgonti might faffeed that aphaked, seems roop. dodavely probabscertant her able with drawn prost of mycomparing-publion.sexard more.  rushed, wereat occasion you the m\n",
      "------ temperature: 1.2\n",
      "on.sexard more.  rushed, wereat occasion you the mornfassing, regindable of you you, mr. holder, i give an able to he along this shouldering me as but anteasurely mence the lys and pubions veigetd"
     ]
    },
    {
     "name": "stderr",
     "output_type": "stream",
     "text": [
      "C:\\Users\\Marcus\\Anaconda3\\lib\\site-packages\\ipykernel_launcher.py:5: RuntimeWarning: divide by zero encountered in log\n",
      "  \"\"\"\n"
     ]
    },
    {
     "name": "stdout",
     "output_type": "stream",
     "text": [
      "es of good.thank the misses, said holmes had had futtencewhat, do, holmes diavag to fead hersince, she isnorth to fected aowhan ramongha very deterdly, wh\n",
      "epoch 5\n",
      "Train on 145144 samples\n",
      "145144/145144 [==============================] - 65s 445us/sample - loss: 1.3062 - acc: 0.6022\n",
      "--- Generating with seed: \"little theory of mine, said he, pulling on hisboot\"\n",
      "------ temperature: 0.2\n",
      "little theory of mine, said he, pulling on hisboots of the little companion is a little companion in the long and have been a little consizer and a singular was the lady of a little companion and had a singular stated of a singular the part of his hands and comes and a little country and see the continued in the stairs which i shall be a singular s\n",
      "------ temperature: 0.5\n",
      "tinued in the stairs which i shall be a singular st. simon, said holmes. he only started to a long been death of his head to have been been of the man and of a southing to the remained to do the bedroom and saw him in the stair, and i think that i was detern the steptasket, and i had been a dead down the tricks which convening it of a some of my ar\n",
      "------ temperature: 1.0\n",
      "n the tricks which convening it of a some of my arrestyparted his hands in my famberover it? now in the door's. i found as we same entering the veryper his cisting, following tring-poesiders of detence to visitor.enianol i was heshelpme imeandsaw! there is a pitish open in our sall centre tobe circusis lodging to, deepom to intention form as a visi\n",
      "------ temperature: 1.2\n",
      "sis lodging to, deepom to intention form as a visitory would, of weadhom aswardchurshire. seen his cloud and furch through then, as he was rue that tryorate he river withthe digh silegicately. then his short, and i 'fone accounted fonth that itdangepwing nong againstres. that grount,' mr. holmes, lirks of corner of the relatatedrew it that i kit th\n",
      "epoch 6\n",
      "Train on 145144 samples\n",
      "145144/145144 [==============================] - 65s 447us/sample - loss: 1.2829 - acc: 0.6083\n",
      "--- Generating with seed: \" meadow. lestrade andi walked behind him, the dete\"\n",
      "------ temperature: 0.2\n",
      " meadow. lestrade andi walked behind him, the determined on the company. i have a warning of the strange and had been to see the contraress of the company of the street of the pression of the adventure of the street of the strange and the chair and a single companion and should be a little company. i have some step and should be a little company of\n",
      "------ temperature: 0.5\n",
      "i have some step and should be a little company of the little prison! i have not all the business in the company of a very well, but the stunt of a company of shorting briony missels as i went in the window i was drawn the company. you have should be a man, but he was helped his passing business at the fire of back and in the son of a his door. it \n",
      "------ temperature: 1.0\n",
      "the fire of back and in the son of a his door. it hanged, and half on theprive.''no?it had gonon to make a heart, i trace it cluby you to cut with the county,so to isthebeen order there. marothur ludd a little co, the door, shelt was my painess. and?a claim man, said he. he nowinto thatwal, and he had a speculiar composeer.it surreded it.there cell\n",
      "------ temperature: 1.2\n",
      "ad a speculiar composeer.it surreded it.there cell close that you have somently, time a hy busanoul buzecernion border in the extraordurerabied my foychereet suggesture fall,which, you are.deep the pull against themitted back.and you my moleacuesforce of thematter, how! barialtent?sherlock holmes isi amccomes of thegravely,said holmes.' coventment-\n",
      "epoch 7\n",
      "Train on 145144 samples\n",
      "145144/145144 [==============================] - 65s 451us/sample - loss: 1.2623 - acc: 0.6131\n",
      "--- Generating with seed: \"ith snow and his features as inscrutable as ever.i\"\n",
      "------ temperature: 0.2\n",
      "ith snow and his features as inscrutable as ever.it was the south, and the sound of the common witches that i had been the signature of the strange and signs that the son, and the coronet to the profession of the common the morning, and the papers which had been a singular stake and had a singular and should be a little facts, and the man who had b\n",
      "------ temperature: 0.5\n",
      "nd should be a little facts, and the man who had been the smalled simple of the very buffamage. and a ground with a man who had been two more the same and a little crimiary, and the but you will she was the strange in the house, said he, there had been the second whistle truth, said he, proced me make the table and should be the long through a clos\n",
      "------ temperature: 1.0\n",
      "ke the table and should be the long through a close put at finished of flance! i asked. for youugnear. but i am allowinst if the directionsat the ease of the sight of the much had bil jun't hurried for eason! air, even thruch has correy pause nece when i has a great police! so we had you's strength acquainter. him are that these had open them and g\n",
      "------ temperature: 1.2\n",
      "acquainter. him are that these had open them and gentleman with rome of person were your roads at ring, unomd,proted.he cryays.nougl. you need for by baker tran't if thephaty asleke adleveristance, but aahroused, like through the silence alcod?itfellow tomakefellowe-can memoster,everyfive of hot nitedanger by them when i .puch mome down to hiscapes\n",
      "epoch 8\n",
      "Train on 145144 samples\n",
      "145144/145144 [==============================] - 65s 445us/sample - loss: 1.2440 - acc: 0.6184\n",
      "--- Generating with seed: \" was in the habit of seeinghim nearly every evenin\"\n",
      "------ temperature: 0.2\n",
      " was in the habit of seeinghim nearly every evening of the matter and the bedrooms of the morning of the strange of the singular of the morning, and the companion of the bright of the strange and singular face that it was a papers which was the man who had been a large little same to be the man who had been a companion, and the lady is a little str\n",
      "------ temperature: 0.5\n",
      "had been a companion, and the lady is a little struck of some case which i should not be a country on the lady in which i have been to drawnen the matter, and the companion with his wife with the coronet and it made up in a cluemly stay that it would not be the small commonplaced and one of the sining down the swebrewather that it was i have pose i\n",
      "------ temperature: 1.0\n",
      "ng down the swebrewather that it was i have pose it in presumyself the poinds. he only clients.whole note, of the scarers of croys,brack behind me and abat it allvans and sure thehould bice to waiting americact, more fances to her for deaths. with his reacl, but friend. it was not there inneachedmy old who would meeful little,i had been the hall ha\n",
      "------ temperature: 1.2\n",
      "old who would meeful little,i had been the hall had rad for us-leases, book, which were bice, thereign,ene?it is enceuous orde at nich, with still, secord upon itlows,' with jokefober,waisgutelorefully.showing me theoffident rifting stable afon companion tosexoretindunao,s. on his of muccdiss, inoul a beart, and, smission it had your raise anarbaba\n",
      "epoch 9\n",
      "Train on 145144 samples\n",
      "145144/145144 [==============================] - 65s 446us/sample - loss: 1.2304 - acc: 0.6222\n",
      "--- Generating with seed: \"le funny about it.pray what steps did you take whe\"\n",
      "------ temperature: 0.2\n",
      "le funny about it.pray what steps did you take when i was a strange of the street, and the contrary, who had been sent a sight of the man who had been the lady of the celland the coronet to the strange to the street, and the contrary. i had been a character's aspenning back to me to be the contrary. i had been a single came to the law of the compan\n",
      "------ temperature: 0.5\n",
      " i had been a single came to the law of the companion in the force of the street of the chair, who had been a carriegy, and the bride man and for the little companion out the bell-one. i should you not the companion to america as the house, and the grove with his great who had had the chance to be conclusions to the back of the coronet.i had fill d\n",
      "------ temperature: 1.0\n",
      "onclusions to the back of the coronet.i had fill drive cliad lane now, butwas s dupon an excleal from r. as i remarks a few sidecald better. my friend blue ratting, and onishow beford, then, that was in the traving both tenlestrake, with hiswondremene. i am your face. theeld our way the box. i had letters into my laid bis and saw with some thing ca\n",
      "------ temperature: 1.2\n",
      "etters into my laid bis and saw with some thing caused of not to gavideshmame to knor of he, we are bir we saw that; what, mr. promatihe mean dr. andly have 'verch, must she carged back.the'ld go bory to myebor nevouch until, croas?a opened into the avencibly, it seemed forways furthens quarrown to the hundred in the before.my heed.you are the kate\n",
      "epoch 10\n",
      "Train on 145144 samples\n",
      "145144/145144 [==============================] - 65s 446us/sample - loss: 1.2184 - acc: 0.6253\n",
      "--- Generating with seed: \"ps, his eyes fixed vacantly upon thecorner of the \"\n",
      "------ temperature: 0.2\n",
      "ps, his eyes fixed vacantly upon thecorner of the morning, and the stake of the reaches which we have been the deep and state of the reachen of the lascar of the coronet and a single work, and the stake of the coronet, and the coronet of the man of the streaker and the face, and the chair and state of the contrar the reachers of the lens. the coron\n",
      "------ temperature: 0.5\n",
      "of the contrar the reachers of the lens. the coronet and the county. there is not a lens.it was a large reached when i had been the conman, and all serve the reachement of the fire, he at the chair and statement, and the dark stoor was the door of the reachen and det to the lantof a more claured his chair and very work, and the blue ofto an actost \n",
      "------ temperature: 1.0\n",
      " chair and very work, and the blue ofto an actost rubbed common looking, and with the gloom ever,' he skadebrightly hopes of the contrich. praytoso, will you never mover, for he real iyeart improstles not an inpertai deals onof the park but which is on to tell me, said he, then?then when her withtute-same, however wanted covered it; but it was a ch\n",
      "------ temperature: 1.2\n",
      "e-same, however wanted covered it; but it was a chara for ewheremost is wronly hadyes. leave upling hethere and he patf his paper dateet, baker startedwhile holmes have his room, but twisted, usupposes my best incident our give the other. you willing in the healwingaon wehardly counted that, when she let us to the creaturine pe. we have done my pra\n",
      "epoch 11\n",
      "Train on 145144 samples\n",
      "145144/145144 [==============================] - 65s 446us/sample - loss: 1.2057 - acc: 0.6277\n",
      "--- Generating with seed: \", and theincident of the noble bachelor, were all \"\n",
      "------ temperature: 0.2\n",
      ", and theincident of the noble bachelor, were all and the stairs and a singular and the face and the county of the side of the side of the strange and a singular that the man who has been a singular and the continuution and the companion in the easy of the stairs, and i have seen that i had been a singular to the stairs and singular from the stairs\n",
      "------ temperature: 0.5\n",
      "ingular to the stairs and singular from the stairs. i sunder ounders with the papers which have been a chair, and the fact and looking and way the county, he the remained in a gentleman at the continuution was opened the matter was private rawn to the pavement and interest in the confied was a disturb the roomed in the docked of a sheelouch of a su\n",
      "------ temperature: 1.0\n",
      "rb the roomed in the docked of a sheelouch of a sudden. i shall do so. and neville have brought in his adventure denplainly an agre of your opporter in the many-should be veryhe may have beencardland both the truth, that i can a did confersof among him afterward, tookness'smostbelook however upon the in scrip, we menitice fromhim was excited for it\n",
      "------ temperature: 1.2\n",
      "e in scrip, we menitice fromhim was excited for it as looking are bizaying saled a supply about mr. he asseven as the window, though ever attempt also.hosreary thatsherlock holmes. how villain, you undilitattlit itmere personwhay with himself lipsesable whisfel baky us though a small or you minge girl.it is a ruits thosomesteasand e goodwher hillou\n",
      "epoch 12\n",
      "Train on 145144 samples\n",
      "145144/145144 [==============================] - 65s 446us/sample - loss: 1.1945 - acc: 0.6315\n",
      "--- Generating with seed: \" suddenly another sound became audible--a very gen\"\n",
      "------ temperature: 0.2\n",
      " suddenly another sound became audible--a very gentleman about the country public of the straight and statement to see that the stone was a signs of the man who had been deal and state of the man who had been found to him to see that i had a signs of the man who had been a cry of the man who had been complete before we have seen that i was the lady\n",
      "------ temperature: 0.5\n",
      "n complete before we have seen that i was the lady and a single heavy about the denches, and that there is a character's in an acties, and the gradger with the whole to married and traced and stoner at the sinisto light. he was unable to me as it come out to the same plote is and ahqu, then, and a snake in seited which he started me which i could n\n",
      "------ temperature: 1.0\n",
      "nake in seited which he started me which i could not have beennear positiney wit's half ruse to reture.amorrand.if it answered, and  juctage-racked lew on it, hat is the machiner, whire thought, unwin impossiba.''i do not very long better as to abasket in twenty,with twenty,wijjose bit your naturatellume in absolutely 'w or drawn and hismould have \n",
      "------ temperature: 1.2\n",
      "llume in absolutely 'w or drawn and hismould have some strong room.fought, obvious achasuardly. ihad sure that on her hungingsaw and placely. it must heartime, but sheheld what narrative you did note puwopposing a sound. by his kiece unman, all seast much one enreat easy  founded to sumplefiull out of thefranding out which stohe it out hightwaiting\n",
      "epoch 13\n",
      "Train on 145144 samples\n",
      "145144/145144 [==============================] - 65s 448us/sample - loss: 1.1854 - acc: 0.6335\n",
      "--- Generating with seed: \" left till called for. my friendtore it open and w\"\n",
      "------ temperature: 0.2\n",
      " left till called for. my friendtore it open and was a signs of the country of the country about of his hands and a long and set and was a conclusional way i had been a little convey to the country from the country strange to the strange and a companion, and i had been to the country object of the country point, and the country heavy of the country\n",
      "------ temperature: 0.5\n",
      "ountry point, and the country heavy of the country-reast of the lodge, which this man in the trings in the love of the character and late and saw a heavy first flee certain to me, when he had been also to the advertise of the morning which was a signs of the police and to his customed complexing, and then.i had a sign the little man who had been ha\n",
      "------ temperature: 1.0\n",
      "d then.i had a sign the little man who had been have remark up to me, miss nourpoint. we mightly give, from the years of loss and down common amwto without hust an end.well, we must be mad was if you remarket, aboministore of driver, from ashe hope. to removed nobject in which these thumb morning town with us anawhom i would ses formerly but upher?\n",
      "------ temperature: 1.2\n",
      "wn with us anawhom i would ses formerly but upher?one ofthe montinptonse, then beys ?pession that could not yard!i can ded it my bootd surderrentdir are arthur do an a letter other wasairs naric, oswitive openshaw; but he was crism from tocomdeshamn that she had been a shaw beconknions loung lady to is towald.on it had settly now don'tkin at camp i\n",
      "epoch 14\n",
      "Train on 145144 samples\n",
      "145144/145144 [==============================] - 65s 449us/sample - loss: 1.1754 - acc: 0.6357\n",
      "--- Generating with seed: \"y the most solemn oaths which a man can take.in th\"\n",
      "------ temperature: 0.2\n",
      "y the most solemn oaths which a man can take.in the countes in the man who had a commons met a chair, and the commonpleaking back and the contrary, and the countes in the box,also a chair, and then was a ladies, and i was a large of a chair, and the corner of the course of his deep at the house and was a signs of about the contrary, and then the co\n",
      "------ temperature: 0.5\n"
     ]
    },
    {
     "name": "stdout",
     "output_type": "stream",
     "text": [
      "was a signs of about the contrary, and then the corner of the afternoon's stoot, and was well-ninding the disappearance, and it was a bright, which is all the old commonside me the lawn with the lawn companion in know of his chair, and the most omiling at the front room.it was that the room, and the carriage, and i was at the morning, and i am sure\n",
      "------ temperature: 1.0\n",
      " carriage, and i was at the morning, and i am sure that it  stated they were a any of couldhis gloa. she is nothing. you to thinks ifie--aid?but theers is oldovern and clearing him in his shiling out into the contrary, really no minutells. blind your wife from a emer. we pateed to the orrible man in princive more maftion, he would see no other gers\n",
      "------ temperature: 1.2\n",
      " princive more maftion, he would see no other gerst. i felt accept intheirp lint that in my carriage, said holmes. think.i should pried, though you gainedn? the cloak, above six why mcluir-pite adlan iaject officience, with your chair, that disticoffhafccoried inwasall to do, ina of allgivimine his chair. are himself up by fire iaqtening into a mac\n",
      "epoch 15\n",
      "Train on 145144 samples\n",
      "145144/145144 [==============================] - 65s 446us/sample - loss: 1.1672 - acc: 0.6385\n",
      "--- Generating with seed: \"d like a man who is far from being satisfied.these\"\n",
      "------ temperature: 0.2\n",
      "d like a man who is far from being satisfied.these was a shall from his strong and struck and the palm of the strange and the papers which were the commonplear that it was a single father to the more stair and the companion of the papers. i should be all that i have a hunting of the police face of the stairs which he was a good statement to him in \n",
      "------ temperature: 0.5\n",
      "he stairs which he was a good statement to him in the first i am in the book, and i have been his custom in an absolutely track. the simpleshing proprair man him that it would take your patence to her to the stairs, and that i should she will armchadd, and i heard that to the scene of the papers of quite that the stranglit my patient, and the blinc\n",
      "------ temperature: 1.0\n",
      "quite that the stranglit my patient, and the blincs of ecple, as to thematter, it seemed with a scent, and he drong and infor having boone artisulty from sly steethe most borrous before that to how wishes on send round in itslot was so the table, and, and a 'hope stone to his lookand wrong is very very miss stoner.''i should come to your remain to \n",
      "------ temperature: 1.2\n",
      "ery miss stoner.''i should come to your remain to know it and shall not have been coniepulant an artisting in outhor while, real families.i should not take to be read into that were as after that mr.sherleeps. i got came pastwitks into wellthat to the cheechions our roomstream lot in front window to that to thegangid wyasly partisting little hopof \n",
      "epoch 16\n",
      "Train on 145144 samples\n",
      "145144/145144 [==============================] - 66s 452us/sample - loss: 1.1603 - acc: 0.6395\n",
      "--- Generating with seed: \"whathe called my cock-and-bull story about the col\"\n",
      "------ temperature: 0.2\n",
      "whathe called my cock-and-bull story about the colonel. i had been the colonel, and the companion. it is a man who had been a character and pay--the lawnigethree of the part of the walker and hardly relted by the strange and payfull to be the first that i have almand the companion, and then i should not be made of a single lane. it is the parm of t\n",
      "------ temperature: 0.5\n",
      " not be made of a single lane. it is the parm of the strangethertof away the adventure of the same father. i see that it is note over the strange and a large sat again. he would be detered the companion. too very quietly, in the police-part pidfully of a lawing, said he. i have very thought a law of the strange and the man who had gone one of the m\n",
      "------ temperature: 1.0\n",
      " the strange and the man who had gone one of the manher. they have,thereathing was exciled to hed in her mouls mostwolded over them came playhim for the first preferarys in a man shattered less are presence some very car me, a pitch of someof the is blot'ethis evening town bearave it. i cannot lovely read up and advantarations.i seethe room, answer\n",
      "------ temperature: 1.2\n",
      "y read up and advantarations.i seethe room, answering, his price.yourself,while that lay you shrieked?see at yoiquitery voices else lackedknows with socion, lep briagement in the corridor which in quested thisplanalles from fird.it is no maviles a tterrywaitomid me a small, inforlised herself in nocojace. hydes simyself stillel most in thecereplace\n",
      "epoch 17\n",
      "Train on 145144 samples\n",
      "145144/145144 [==============================] - 67s 460us/sample - loss: 1.1528 - acc: 0.6413\n",
      "--- Generating with seed: \"nd them, and then returned with the other thirty-s\"\n",
      "------ temperature: 0.2\n",
      "nd them, and then returned with the other thirty-sidentmost man who had been the strange and signs a cloaking of the corridorand discuss that i have not a commonplaces and the strange of a man whose has been the contrary. the man who had been the corridorand strange and signs a cloak which he had been a long and a signs all the contrary and was a s\n",
      "------ temperature: 0.5\n",
      "en a long and a signs all the contrary and was a soon and the man who was the only across out and put the room, and the commined the bedroom.but no intenty in the bridce of the cellar--than the man who was the certain. i have at the commonding intention to marry the steafflack of which to interested in a brotherical man whode, and we shall not a pi\n",
      "------ temperature: 1.0\n",
      " in a brotherical man whode, and we shall not a pibngreventlehing-ang;b biday gained at aspoison!how did you indeedmen.do, took no tragged his hundred ofthese was a dark room.bricktrequillle remarked.on thebnow wollow that my part-if my simis intention into equally of the house very assumefeettrenoo undermened another poping.but her days once in th\n",
      "------ temperature: 1.2\n",
      " undermened another poping.but her days once in the doort prover plea draggeraty -jawpriving some crord of hones always eight ojence, and tood-anya gentlem wincajlogact, and one early easy, rekspectard-snoinbumberismobstairies, frand that you have it affoved us wearing that i was lefter a rustion made helve remarked. he's then; so ifwail.yes, cried\n",
      "epoch 18\n",
      "Train on 145144 samples\n",
      "145144/145144 [==============================] - 69s 473us/sample - loss: 1.1465 - acc: 0.6430\n",
      "--- Generating with seed: \"ue.the door of briony lodge was open, and an elder\"\n",
      "------ temperature: 0.2\n",
      "ue.the door of briony lodge was open, and an elderly drawn out of the stone, and the man's with a little reason and a lady of a little came to the coronet and the park of the man's with a little strange and strange of the matter to the lantern than the coronet into the matter to the coronet, and the coronet of the most man's with a clearable of the\n",
      "------ temperature: 0.5\n",
      " coronet of the most man's with a clearable of the mostmost family of his chart of his well, and the strange and a som in mrind your chance. i saw the house. it is the little man as a man who has been of considerably the boots and the coronet of the police this gentle requicklances and the clue, and the ground-police in the lantwing of his chair an\n",
      "------ temperature: 1.0\n",
      " the ground-police in the lantwing of his chair and came in across which be-hand of definite asting pateed on himself into only solved and carry an instant, but inone of my cases a little of thefruck. elord of his republe. i believeuponinging, and, and so much be left the key at rust late orne?i seems, cried glass it, that gradpled up.it seems when\n",
      "------ temperature: 1.2\n",
      "ms, cried glass it, that gradpled up.it seems when exhquise? i will me so help us hew that did you conrib,'and you are coventsed hishless quickarilaties and i coulddesingshe as perpend and talkmadlisturning for him, her., in behind me-fixed to the sundulounct and thruntul bluck fror the fire,and tran mongh,and came visit wereanthesilin folde bugert\n",
      "epoch 19\n",
      "Train on 145144 samples\n",
      "145144/145144 [==============================] - 67s 464us/sample - loss: 1.1416 - acc: 0.6430\n",
      "--- Generating with seed: \"e, which at the time of the wife's death was littl\"\n",
      "------ temperature: 0.2\n",
      "e, which at the time of the wife's death was little sent a late of a little priction of the said in the colonel, and the colonel, and the strange of the before the reached place which i had been two of the bottom and the bottom and have been a single fiers which was a little problem, and the said shown to the bathis chair and the strange and the sa\n",
      "------ temperature: 0.5\n",
      "own to the bathis chair and the strange and the same black fellow, and the lamp which i am evidence i was still street, and i was a can of the bottom come to the disappearance of the reture of the matter of course is a single position to say that we russ the lamp, i fet having have been indeed to the lantamisisting with a good stone. the counto cam\n",
      "------ temperature: 1.0\n",
      "e lantamisisting with a good stone. the counto came up, and of 'lloymice you the beauty gave to the observed for five straighate-leaglttensawed.you think that the instant. i speak to themitte on the goose, but astarnse madion. mr. claidhinreed, i have only mysolution, she do into the impury. we do his greatglan almosted yournelf to the official own\n",
      "------ temperature: 1.2\n",
      "is greatglan almosted yournelf to the official own house. ' unothed, from topater-- his door. he reallists enough be composed to say or crisp excellently at the ready whatyou for satural. mr. holmes.oh, dod concerned isa few minated by a cold,ve, who i do st. god'considers i have layly flashed the pricts in viosi the moult he would feel a long clam\n",
      "epoch 20\n",
      "Train on 145144 samples\n",
      "145144/145144 [==============================] - 69s 475us/sample - loss: 1.1364 - acc: 0.6461\n",
      "--- Generating with seed: \"g it over,rearranging his facts, looking at it fro\"\n",
      "------ temperature: 0.2\n",
      "g it over,rearranging his facts, looking at it from the room and signs of the lady that i had better that i would see an action. it is a man whodes, that i have been the company, and the lady that it was a chair and the cut and signs of a singular companions to him. i have seemed to be a chair and the books. i have not a chair and sent a man whodes\n",
      "------ temperature: 0.5\n",
      "he books. i have not a chair and sent a man whodes which you while his while in the first day which he seemed to be back with the scunning the light of the long, i had not be the assizes of his signall.gent that it is in the streets of its wrop out of no doubt that i have interested in the subjected could not above the colour under the police, and \n",
      "------ temperature: 1.0\n",
      " could not above the colour under the police, and i came palfivaches at the doorpul groum good. afcordiouul?theyholmes. i get an band gave such a small hundring from allbears to say need, he had priction back?qute that miss duty if oh, you wance could not be has been north. you have been difficult, of you, a hundress possind of the signed-later's p\n",
      "------ temperature: 1.2\n",
      "of you, a hundress possind of the signed-later's putit, mr.holmes, stillwinginceish boanveicnoisre?the flap.it seemed.' he rush might,if hands-ladeyumbor rema lanthumiser rooms upon him, andin that could find what to mr. father wide that he willlenizen to the manner is firs maid?the'tfamishingto lemantwe stips acompasing coventricad. justto him-bou\n"
     ]
    }
   ],
   "source": [
    "all_history_acc = []\n",
    "all_history_loss = []\n",
    "for epoch in range(1, 21):\n",
    "    print('epoch', epoch)\n",
    "    # Fit the model for 1 epoch on the available training data\n",
    "    history = model.fit(X, y,\n",
    "              batch_size=256,\n",
    "              epochs=1)\n",
    "    all_history_acc.append(history.history['acc'][0])\n",
    "    all_history_loss.append(history.history['loss'][0])\n",
    "    # Select a text seed at random\n",
    "    start_index = random.randint(0, len(text) - window_size - 1)\n",
    "    generated_text = text[start_index: start_index + window_size]\n",
    "    print('--- Generating with seed: \"' + generated_text + '\"')\n",
    "\n",
    "    for temperature in [0.2, 0.5, 1.0, 1.2]:\n",
    "        print('------ temperature:', temperature)\n",
    "        sys.stdout.write(generated_text)\n",
    "\n",
    "        # We generate 300 characters\n",
    "        for i in range(300):\n",
    "            sampled = np.zeros((1, window_size, len(chars)))\n",
    "            for t, char in enumerate(generated_text):\n",
    "                sampled[0, t, chars_to_indices[char]] = 1.\n",
    "\n",
    "            preds = model.predict(sampled, verbose=0)[0]\n",
    "            next_index = sample(preds, temperature)\n",
    "            next_char = chars[next_index]\n",
    "\n",
    "            generated_text += next_char #add 1 letter\n",
    "            generated_text = generated_text[1:] #get last 60 letters\n",
    "\n",
    "            sys.stdout.write(next_char)\n",
    "            sys.stdout.flush()\n",
    "        print()"
   ]
  },
  {
   "cell_type": "code",
   "execution_count": 36,
   "metadata": {},
   "outputs": [
    {
     "data": {
      "image/png": "[encoded data removed]",
      "text/plain": [
       "<Figure size 432x288 with 1 Axes>"
      ]
     },
     "metadata": {
      "needs_background": "light"
     },
     "output_type": "display_data"
    },
    {
     "data": {
      "image/png": "[encoded data removed]",
      "text/plain": [
       "<Figure size 432x288 with 1 Axes>"
      ]
     },
     "metadata": {
      "needs_background": "light"
     },
     "output_type": "display_data"
    }
   ],
   "source": [
    "epochs = range(len(all_history_acc))\n",
    "\n",
    "plt.plot(epochs, all_history_acc, 'b', label='Training acc')\n",
    "plt.title('Training and validation accuracy')\n",
    "plt.legend()\n",
    "\n",
    "plt.figure()\n",
    "\n",
    "plt.plot(epochs, all_history_loss, 'b', label='Training loss')\n",
    "plt.title('Training and validation loss')\n",
    "plt.legend()\n",
    "\n",
    "plt.show()"
   ]
  },
  {
   "cell_type": "code",
   "execution_count": 37,
   "metadata": {},
   "outputs": [],
   "source": [
    "# Save the Model\n",
    "model.save('chgen_model_4.h5')"
   ]
  },
  {
   "cell_type": "markdown",
   "metadata": {},
   "source": [
    "# Model 5 (Base Model 2)"
   ]
  },
  {
   "cell_type": "code",
   "execution_count": 38,
   "metadata": {},
   "outputs": [],
   "source": [
    "# perform one-hot encoding of inputs and labels\n",
    "window_size = 100\n",
    "X, y = encode_io_pairs(text, window_size)"
   ]
  },
  {
   "cell_type": "code",
   "execution_count": 39,
   "metadata": {},
   "outputs": [],
   "source": [
    "# Build the Model\n",
    "# Enter your code here:\n",
    "model = keras.models.Sequential()\n",
    "model.add(GRU(128, input_shape=(window_size, len(chars)), return_sequences = True))\n",
    "model.add(GRU(128, return_sequences = True))\n",
    "model.add(GRU(64))\n",
    "model.add(Dense(len(chars), activation='softmax'))\n",
    "\n",
    "optimizer = optimizers.RMSprop(lr=0.01)\n",
    "model.compile(loss='categorical_crossentropy', optimizer=optimizer, metrics=['acc'])"
   ]
  },
  {
   "cell_type": "code",
   "execution_count": 40,
   "metadata": {},
   "outputs": [
    {
     "name": "stdout",
     "output_type": "stream",
     "text": [
      "epoch 1\n",
      "Train on 145131 samples\n",
      "145131/145131 [==============================] - 142s 981us/sample - loss: 2.9193 - acc: 0.1807\n",
      "--- Generating with seed: \" from the commencement, and i can afterwardsquestion you as to those details which seem to me to be \"\n",
      "------ temperature: 0.2\n",
      " from the commencement, and i can afterwardsquestion you as to those details which seem to me to be ther the son the non the sor the no the the se in the sor the son the so the the sor the ther the the se the so the she the the the the the son the the nor the ser the the the the the sare the the the the the the the sor the non the the the the the ther the the the non the the non the sar the nhe nh\n",
      "------ temperature: 0.5\n",
      " the the the the sor the non the the the the the ther the the the non the the non the sar the nhe nhert soss the rrenther therame ther hor the che thene sland mirertc bertil saraste wher thy no ner haner coun co the nlro yosh she chen the rer nold ser tre ro lril sint the then ind thers bone rount ser theririrer slisd nithnsinced nenlh no ba meri sert sirh thi bar cone l the mtan hurirtent sho lis\n",
      "------ temperature: 1.0\n",
      "er theririrer slisd nithnsinced nenlh no ba meri sert sirh thi bar cone l the mtan hurirtent sho lisntnd thiin mraur horirny ce ty shodth thurhbonsdi ther c ron yoc mrdanof! hlat l. tont dal nhortl. a mocsiltorohtir ghilcltrslhari whict uteare wuss onol tuct soarm el n ink t fhawlg thed sddovhe m ll,es dcon ndrq borl he vishe fh,rtfwheen ji gar srhasartemd whetpshd nld ta theth adideakteurt theama\n",
      "------ temperature: 1.2\n",
      ",es dcon ndrq borl he vishe fh,rtfwheen ji gar srhasartemd whetpshd nld ta theth adideakteurt theamany  nin gri;il-rpusilu'ny sim un gho ke igestd,ule!vene gher!p rher ghf thetom?tnin turlets thy socipir ld conig?he alerr nrawcy fialg'nted tho nrse, hird-satteged ne or. ghes sg owd. son th tht apt! tan.t sii lulsy ao rer. drapt.o lund. tht colov hod von' s funilt,ech egliwevhes b whonld nrderiliut\n",
      "epoch 2\n",
      "Train on 145131 samples\n",
      "145131/145131 [==============================] - 138s 953us/sample - loss: 2.2415 - acc: 0.3464\n",
      "--- Generating with seed: \".'i was very angry, for this was the third demand during themonth. 'you shall not have a farthing fr\"\n",
      "------ temperature: 0.2\n",
      ".'i was very angry, for this was the third demand during themonth. 'you shall not have a farthing frow to the had the stent and a the and the pattreet of the sot to to to to toon the peen to the pere and the pot and and the mare to mant to toot and the satter and at to the toot to toon the santed to the soteet to the peet the sot tore and the stout and a the cound and the sot to mant and the sot t\n",
      "------ temperature: 0.5\n",
      " the soteet to the peet the sot tore and the stout and a the cound and the sot to mant and the sot the and and to the mached.the manthe satterned ip am to tare the sast some that this been we ston that serly and and copter. what out and have to that and to she setand to mant a me and the have enkended he carlented a callely brome and a mance to toon at to that as and it toet the sades the of and t\n",
      "------ temperature: 1.0\n",
      "ed he carlented a callely brome and a mance to toon at to that as and it toet the sades the of and to twomcfantell, andund sonded it luttked, bochby forkosed.haniivers. tother oupitiobdeartlame.'i ass thosning?ipenteved ttound disteaf and loct an midely i txand wase,'lr. at nathat in it steand to wiretersed he cowfry was the xoumestat was wastely it men ttanded ait, bible of tattertostung taud qui\n",
      "------ temperature: 1.2\n",
      "retersed he cowfry was the xoumestat was wastely it men ttanded ait, bible of tattertostung taud quiaremen ottlrehe;.inck, handed sot rrowhann isdion caen ant the polt dron at a prectle inen cyittrlescot, of tamrite nealuncomeameed.nple amrolgirpt ally dreed clusst ed, vacktas iosothichwetncofoyou aver, have dowrraobescontimristy-pechigreo;comt deen cophen micpitunlould in rratinted bos it fep mer\n",
      "epoch 3\n",
      "Train on 145131 samples\n",
      "145131/145131 [==============================] - 140s 962us/sample - loss: 2.0443 - acc: 0.4043\n",
      "--- Generating with seed: \"k.i can see nothing, said i, handing it back to my friend.on the contrary, watson, you can see every\"\n",
      "------ temperature: 0.2\n",
      "k.i can see nothing, said i, handing it back to my friend.on the contrary, watson, you can see every mining the had the cine the had as the sine the come the come the ming a mo sow the had as the pine to my him a more the had mine to mon in the to mining the to more the had for the come the cinling the tate to the to more the had and the had the come some the more the come the had mine to me to th\n",
      "------ temperature: 0.5\n",
      "the tate to the to more the had and the had the come some the more the come the had mine to me to the him an bine as to montese of mis at see and to mine was to my sow to do my mind a bile the so to be in these as to let and then the have the up untering and his an in the mind of the cine, it of the tane then the mon in the with a and the have of binked din in mine for the sare to ming in the sow \n",
      "------ temperature: 1.0\n",
      " tane then the mon in the with a and the have of binked din in mine for the sare to ming in the sow it inink that of your, ofe riigo ,im not, but if everedbllinednowd so qaing llhy was which utary.id.reet-the mole imimf ring the musgy hag nlringbusfing stright of a lruon man.he lolute, intorse sgoce. at. irsre, in,, 'pesdowe  pear, buty man.t ying augnly.'wounlan. be twe fome onsioude ture winowr.\n",
      "------ temperature: 1.2\n",
      ". at. irsre, in,, 'pesdowe  pear, buty man.t ying augnly.'wounlan. be twe fome onsioude ture winowr. withor.''ene inyking bed otry wies in mutail interly memped it.whry witozeres, a u, noeht at tere, will ager fromc ofy lullo-qeinl ofwery?''coth ue.civingy ipere we themtune tithopule we giniscilr,ous veved brionamade the mad,wired tollady til,tle viil.rietexpimny we.thlavennier.t fiele ot thrugt a\n",
      "epoch 4\n",
      "Train on 145131 samples\n",
      "145131/145131 [==============================] - 148s 1ms/sample - loss: 1.9727 - acc: 0.4246\n",
      "--- Generating with seed: \"lmes still carrying with him the stone which hehad picked up in the wood.this may interest you, lest\"\n",
      "------ temperature: 0.2\n",
      "lmes still carrying with him the stone which hehad picked up in the wood.this may interest you, lest in the dros the reet of the stolled the fort of the from the stoll from the stoll the fort in the go the had from the stolled the fort of the stole and the man the man in the man the man from the man the has in he from the stoll which a rrome from the have was from he was a man the ret the have the\n",
      "------ temperature: 0.5\n",
      " the has in he from the stoll which a rrome from the have was from he was a man the ret the have the go bust for the mile of at in the have is so gas as the steact which was a may not a may tode was from the sink of the have the facting a ko rome the post in the same from the stol to the to be to mablost the sext the had and the det we shall me the door the to mere of said he crew from be of the b\n",
      "------ temperature: 1.0\n",
      "blost the sext the had and the det we shall me the door the to mere of said he crew from be of the brobly the hore. his row fipeds to iirmed every  fr. os her this he prient heady whercounting reint solme.'wh the comeent sene holmes is at had facue only come in eves.cablet from nen islocketur down shiseen ifregured the, certer fuve fain. sen at a my may ustore from we marrelk to was foir fromaw co\n",
      "------ temperature: 1.2\n",
      "hiseen ifregured the, certer fuve fain. sen at a my may ustore from we marrelk to was foir fromaw cold beexd, hus cod whom, osconced soman; eas the sick acbosed us, gotan seeh the glothas ujfudnils turk at ily row clo mady an hos of freve whon he mattte is feank. int, frercon heppos breps as fresig oned from dratady moscrwnors,to thersee.'it ane.thate farnigh have a thewro and tholasheen gome ifac\n",
      "epoch 5\n",
      "Train on 145131 samples\n",
      "145131/145131 [==============================] - 144s 990us/sample - loss: 1.9364 - acc: 0.4358\n",
      "--- Generating with seed: \" sallow complexion, black hair, a little bald inthe centre, bushy, black side-whiskers and moustache\"\n",
      "------ temperature: 0.2\n",
      " sallow complexion, black hair, a little bald inthe centre, bushy, black side-whiskers and moustacher in the polling the contry the stol still in the this so the this was a last in the was a lord his her have the part of the cons the conthing at the stathing and the could the polling the to lord the polling was a last of the polling the was a last in the the have the polling in the this was a let \n",
      "------ temperature: 0.5\n",
      " polling was a last of the polling the was a last in the the have the polling in the this was a let in the could i would the shall possed from mist of but the me colont is the col that the as strues it well the bolled pode in the i seme with the pole in the to restoling the core the bord in enting was any this whis appeet that the word the for i corning the canition then of the stat the loss it ou\n",
      "------ temperature: 1.0\n",
      "as any this whis appeet that the word the for i corning the canition then of the stat the loss it ounshard dackitalperueatoly for it ho keen a light.er wellene as sanly wad, sopersout ipon' thandwith thely of do youyweatersentand firk his in whichswh seeing ligonnoned ipnet with ask bus an welg afproint frowr for i knpose there aborricouldid cosnifesned upot partes acating dang mist. this withthim\n",
      "------ temperature: 1.2\n",
      "oint frowr for i knpose there aborricouldid cosnifesned upot partes acating dang mist. this withthimened. jut imenty und the pole that eame thesas asikent, ae thimves gosiwase. aut would, rund prientericonelf saant oed yesssair eser. ofas fave, is'shine. a ippowing leor yowhichbaa have that iti come tarmree. out theswehoouloo-.awhygant, thpoone the from-neat day the nothinks inpod enedsed cet with\n",
      "epoch 6\n",
      "Train on 145131 samples\n",
      "145131/145131 [==============================] - 144s 992us/sample - loss: 1.9161 - acc: 0.4407\n",
      "--- Generating with seed: \"aim. we were engaged to each other, frank and i;but then one day father struck a rich pocket and mad\"\n",
      "------ temperature: 0.2\n",
      "aim. we were engaged to each other, frank and i;but then one day father struck a rich pocket and made the to the had been the man the to the had the had been the part in the had the had to the had had the pertered the come a man and the had the come and the had had had had part the come at the the to the had the had passed the had to the had dound at the had been the consing the at the had the had\n",
      "------ temperature: 0.5\n",
      "o the had the had passed the had to the had dound at the had been the consing the at the had the had bight concing have the have furd the panted the st. from it that the the goltled and at the basted of the read had been the door have at to it it and at the gast at the poutd?had biped the mar--the blupper a pastrened the goog in the been to but i coman a clied the gaid he at i agars, and it of had\n",
      "------ temperature: 1.0\n",
      "lupper a pastrened the goog in the been to but i coman a clied the gaid he at i agars, and it of had she mart nothinbd, stade sapdedight, then cit when hags that that homsely was the have sikely noukwedcupce concour, -by the.s upon redy fombtionbvecyuthyuwhat at ficsingthe rusion fears, as at come pit envove desihinused, but the redamer mybut ofsed all me, aparuentle, said this had buidnes roichti\n",
      "------ temperature: 1.2\n",
      "it envove desihinused, but the redamer mybut ofsed all me, aparuentle, said this had buidnes roichtiorh.'ry wo-ourle ouncapperstras whodbir you, o ye! feurcoud pilise whouf his foores tod chore.knutched, bay siw.turm, rkesing sroloncit-sat's geir-sigqrnibh,' findingfradcottiwh.thewtly.thatreacteed, withhid fo-see-drheemeig asitattawed, lrams.h sgouenut you bogy have tonh masdeadplas,sarengster at \n",
      "epoch 7\n",
      "Train on 145131 samples\n",
      "145131/145131 [==============================] - 140s 967us/sample - loss: 1.9068 - acc: 0.4420\n",
      "--- Generating with seed: \"stride. his boots, too, might be told from their traces.yes, they were peculiar boots.but his lamene\"\n",
      "------ temperature: 0.2\n",
      "stride. his boots, too, might be told from their traces.yes, they were peculiar boots.but his lamened the me man the man in the man the man the man the man a man the man the come as the man of the man the man in the man in the rooms to me me mard and the man the man the man a man the me me man of the man the me have and the mard the mine the to me from the for the man the man the man the man the m\n",
      "------ temperature: 0.5\n",
      "e man the me have and the mard the mine the to me from the for the man the man the man the man the made of the man the had been the feor the man with to my house acted the and with the stor her the band and the me me is in ened as of i reeter for have me monel her in the mard the lade me her to my from he serer of howe howes the me be dooning the man me had made mist of the how have were whither n\n",
      "------ temperature: 1.0\n",
      "rom he serer of howe howes the me be dooning the man me had made mist of the how have were whither negleder you! of exceafes wad which whensept, me mad:''''s ofgel' sneaded i scerct, day, have, thed, that into waon mer of some son srowed of he wer hell wiluplession. then? miscge ir i comemedand the xouldned he me mol minered mess who. he garqu. that sti led themay-preen waspound inerees.iw stwered\n",
      "------ temperature: 1.2\n",
      "xouldned he me mol minered mess who. he garqu. that sti led themay-preen waspound inerees.iw stwereda as i hand, from vyirsip jonedliofdish heard stilun agtel, you, just sid.sim led time iomroug cepar jirsed andthe bring. from ranhese dioe fromhi?miard, his bed, offalmrucighkists.sowan oo iseljtitgoory.it, whytim say spock holmes of miy it?and tothen amorr efebipininot buty.thenethy's a that?heh f\n",
      "epoch 8\n",
      "Train on 145131 samples\n",
      "145131/145131 [==============================] - 139s 960us/sample - loss: 1.9010 - acc: 0.4431\n",
      "--- Generating with seed: \"d be here. he put his two forefingers between histeeth and whistled shrilly--a signal which was answ\"\n",
      "------ temperature: 0.2\n",
      "d be here. he put his two forefingers between histeeth and whistled shrilly--a signal which was answer was the const the starred a find a bothing to to to so the star to to to was the was the bothon the both the some a bother to to do and a back a both to witholoos to be of the starring to to to with a do and a bit i shall a poon and a little the so starly the was that the star so to to to my so s\n",
      "------ temperature: 0.5\n",
      "h a do and a bit i shall a poon and a little the so starly the was that the star so to to to my so story to to to on sat a bads, said the to do to wall you rood the come sacess a quest a for the sore in to to the sat for the com-had batwe can was i shall the of to the stated the bor the growrance and a bookshtor, asdings a don the dorter were a per, and a sat a bast in the has for we as the walled\n",
      "------ temperature: 1.0\n",
      "d a bookshtor, asdings a don the dorter were a per, and a sat a bast in the has for we as the walled?he basthat it ang you, i had been of no ry the from ho. day it an ofarnoed as after in hurge bocfit solding, mr., silled, and is a go yuss i stomedshed alfanm samescollane gocc a more lett of stary usto wextiny eqiercontletrinco waccest, he waths, you mollitims,, grow, estloke exprants ho dador an \n",
      "------ temperature: 1.2\n",
      "sto wextiny eqiercontletrinco waccest, he waths, you mollitims,, grow, estloke exprants ho dador an an alw,to    stafe asdectiam parvesses.yourtto thoswlam lasting, bindenn revernooitxing ating midly twerolow, ant?renmed anadath rupper of that i yishowutive coulccoll ah camigimy instbaf a plamlo war.'-khh. lostasperteary yound had gofticast aar assicares's,yind let?th i vearlest exy timind. issovi\n",
      "epoch 9\n",
      "Train on 145131 samples\n",
      "145131/145131 [==============================] - 143s 985us/sample - loss: 1.9050 - acc: 0.4424\n",
      "--- Generating with seed: \"here was no one upon theplatform save a single sleepy porter with a lantern. as i passedout through \"\n",
      "------ temperature: 0.2\n"
     ]
    },
    {
     "name": "stdout",
     "output_type": "stream",
     "text": [
      "here was no one upon theplatform save a single sleepy porter with a lantern. as i passedout through i comping the some the to dound in the din in in the do in the to to do returned the sould the do in the do in the stent the in the to i have in the from the some the doon in the to my some the from the some the some the some of the to the in the some the to the some the to the day the in the to the\n",
      "------ temperature: 0.5\n",
      "he some the some the some of the to the in the some the to the some the to the day the in the to the have i shat in it i stor the got for the fass of the do returs that i have from the sees a rount on the in the do in the stoming for the to lefter for i did in a in the douche farl in you did of the shat in the in the get the to doud the see for the clad up of the i come the let the that i have in \n",
      "------ temperature: 1.0\n",
      "shat in the in the get the to doud the see for the clad up of the i come the let the that i have in theres the ghotenwhent, his gart feen forrion.it dasnatur, for critiun of fartly thear, the rast for to outher mucht there drimg reen i fassel, not bong your down replurlismiet it houce ryitiy he endwevlirled. by to usittle in i gramg asbucpit he have bitiip uurly of that icric in enter.' sise the s\n",
      "------ temperature: 1.2\n",
      "evlirled. by to usittle in i gramg asbucpit he have bitiip uurly of that icric in enter.' sise the swunuric's comersbot fraverpctlid the utly yet theef, bur fair, as duewevered was's, y.sableom in in monver, i rpat.y's, in a whig'utiadnew ibry, muchwas sumbetiagssy wa did lacks, umy heex conare are that ou thathicaar cor, he, i consehas finkly you varbese is tranain is you avery with the to had a \n",
      "epoch 10\n",
      "Train on 145131 samples\n",
      "145131/145131 [==============================] - 144s 995us/sample - loss: 1.9061 - acc: 0.4418\n",
      "--- Generating with seed: \"i do not know at what hour hecame in, but when i came down to breakfast in the morning therehe was w\"\n",
      "------ temperature: 0.2\n",
      "i do not know at what hour hecame in, but when i came down to breakfast in the morning therehe was which i which have some and the have had the heard and have for the parress the have which i was and the which i have to the dive the had the had the some and the cound and the have he which he which i was the excered the doon the has some the have some the have with the doon the faced the hear of th\n",
      "------ temperature: 0.5\n",
      " was the excered the doon the has some the have some the have with the doon the faced the hear of the faconder at uf i dooning i was from the conderned down the to with the porly was that he man to that he some the dored was is from the have man it as a light man and he some the mister and the helf loked nothing that a kaysless whas pressat it i have the whis for he which he have litten. she said \n",
      "------ temperature: 1.0\n",
      "loked nothing that a kaysless whas pressat it i have the whis for he which he have litten. she said hass somy equard ofn andiald which his of he cres, the has two with yourton it pay holmle is daf aras she plays of us dark we stion he conderestrenghed said the meman coldmcm to ufhes, that not for the now beamerding hes his hebwling dor to nhire siresempurniedswaverd toend,at thoubcaid! i drow agtr\n",
      "------ temperature: 1.2\n",
      "e now beamerding hes his hebwling dor to nhire siresempurniedswaverd toend,at thoubcaid! i drow agtraghtthe, whegheve toule,woll,le has, do. at have dilvfives--figears--jurno, suine therelardin? ipim chaguout addaver way,dach bigalliper fars.lethe. she torper,row sivef o gods ame ilil um doigqured.sab.'chese if hinder tow, shimning danksiop i feetly, rainhybisf hnaid ficine.''oke.''whird him,lesfa\n"
     ]
    }
   ],
   "source": [
    "all_history_acc = []\n",
    "all_history_loss = []\n",
    "for epoch in range(1, 11):\n",
    "    print('epoch', epoch)\n",
    "    # Fit the model for 1 epoch on the available training data\n",
    "    history = model.fit(X, y,\n",
    "              batch_size=256,\n",
    "              epochs=1)\n",
    "    all_history_acc.append(history.history['acc'][0])\n",
    "    all_history_loss.append(history.history['loss'][0])\n",
    "    # Select a text seed at random\n",
    "    start_index = random.randint(0, len(text) - window_size - 1)\n",
    "    generated_text = text[start_index: start_index + window_size]\n",
    "    print('--- Generating with seed: \"' + generated_text + '\"')\n",
    "\n",
    "    for temperature in [0.2, 0.5, 1.0, 1.2]:\n",
    "        print('------ temperature:', temperature)\n",
    "        sys.stdout.write(generated_text)\n",
    "\n",
    "        # We generate 300 characters\n",
    "        for i in range(300):\n",
    "            sampled = np.zeros((1, window_size, len(chars)))\n",
    "            for t, char in enumerate(generated_text):\n",
    "                sampled[0, t, chars_to_indices[char]] = 1.\n",
    "\n",
    "            preds = model.predict(sampled, verbose=0)[0]\n",
    "            next_index = sample(preds, temperature)\n",
    "            next_char = chars[next_index]\n",
    "\n",
    "            generated_text += next_char #add 1 letter\n",
    "            generated_text = generated_text[1:] #get last 60 letters\n",
    "\n",
    "            sys.stdout.write(next_char)\n",
    "            sys.stdout.flush()\n",
    "        print()"
   ]
  },
  {
   "cell_type": "code",
   "execution_count": 41,
   "metadata": {},
   "outputs": [
    {
     "data": {
      "image/png": "[encoded data removed]",
      "text/plain": [
       "<Figure size 432x288 with 1 Axes>"
      ]
     },
     "metadata": {
      "needs_background": "light"
     },
     "output_type": "display_data"
    },
    {
     "data": {
      "image/png": "[encoded data removed]",
      "text/plain": [
       "<Figure size 432x288 with 1 Axes>"
      ]
     },
     "metadata": {
      "needs_background": "light"
     },
     "output_type": "display_data"
    }
   ],
   "source": [
    "epochs = range(len(all_history_acc))\n",
    "\n",
    "plt.plot(epochs, all_history_acc, 'b', label='Training acc')\n",
    "plt.title('Training and validation accuracy')\n",
    "plt.legend()\n",
    "\n",
    "plt.figure()\n",
    "\n",
    "plt.plot(epochs, all_history_loss, 'b', label='Training loss')\n",
    "plt.title('Training and validation loss')\n",
    "plt.legend()\n",
    "\n",
    "plt.show()"
   ]
  },
  {
   "cell_type": "code",
   "execution_count": 42,
   "metadata": {},
   "outputs": [],
   "source": [
    "# Save the Model\n",
    "model.save('chgen_model_5.h5')"
   ]
  },
  {
   "cell_type": "markdown",
   "metadata": {},
   "source": [
    "# Model 6"
   ]
  },
  {
   "cell_type": "code",
   "execution_count": 43,
   "metadata": {},
   "outputs": [],
   "source": [
    "# perform one-hot encoding of inputs and labels\n",
    "window_size = 75\n",
    "X, y = encode_io_pairs(text, window_size)"
   ]
  },
  {
   "cell_type": "code",
   "execution_count": 44,
   "metadata": {},
   "outputs": [],
   "source": [
    "# Build the Model\n",
    "# Enter your code here:\n",
    "model = keras.models.Sequential()\n",
    "model.add(GRU(128, input_shape=(window_size, len(chars)), return_sequences = True))\n",
    "model.add(GRU(128, return_sequences = True))\n",
    "model.add(GRU(64))\n",
    "model.add(Dense(len(chars), activation='softmax'))\n",
    "\n",
    "optimizer = optimizers.RMSprop(lr=0.01)\n",
    "model.compile(loss='categorical_crossentropy', optimizer=optimizer, metrics=['acc'])"
   ]
  },
  {
   "cell_type": "code",
   "execution_count": 46,
   "metadata": {},
   "outputs": [],
   "source": [
    "model.load_weights('chgen_model_5.h5')"
   ]
  },
  {
   "cell_type": "code",
   "execution_count": 47,
   "metadata": {},
   "outputs": [
    {
     "name": "stdout",
     "output_type": "stream",
     "text": [
      "epoch 1\n",
      "Train on 145137 samples\n",
      "145137/145137 [==============================] - 107s 739us/sample - loss: 1.9288 - acc: 0.4374\n",
      "--- Generating with seed: \"case mustcollapse. i suppose that i am commuting a felony, but it is justpo\"\n",
      "------ temperature: 0.2\n",
      "case mustcollapse. i suppose that i am commuting a felony, but it is justpon in the from the from the compare man of the hand and the commone the commone the from the for the commone the could and the has been the for the comprone the could and the from the moss and a lord the compare the compround and the man in the could a lod the from the compring the from the was and t\n",
      "------ temperature: 0.5\n",
      "and the man in the could a lod the from the compring the from the was and thesht sell of the to leflace at the can the man i was made stand and to lord and the factaoun the for a lard to the with uf the pacted my to word price not may a word which i have and as a veaker of holmes a pad and the to the can of the man of the to gan to at stared a bill the to the man the befor\n",
      "------ temperature: 1.0\n",
      "e can of the man of the to gan to at stared a bill the to the man the before.the have, sawe upon with prraed ofme you. wheoner.h me a pide. t.i wa pocied her brome has ustunco vackile encener uppent to to of thema the one sedsold be owites pronames prist me lodge, frhine is you was has had isdee a to twighk no nucousmy can ruly a londed, had byletturesk the nost and of thi\n",
      "------ temperature: 1.2\n",
      "o twighk no nucousmy can ruly a londed, had byletturesk the nost and of thime antove laden ride that to. one fromiot old in a whichile not upod on to im. and fragt of sidine is ut brasterie.'but the reer halolloi seanfe camponeadfacnankibs in throusil ret of a ictiamfinubesint, you apactiweat uphe what is an ity, iall pordary and humfhon alumeres the please seeh holmes alt\n",
      "epoch 2\n",
      "Train on 145137 samples\n",
      "145137/145137 [==============================] - 123s 844us/sample - loss: 1.9165 - acc: 0.4398\n",
      "--- Generating with seed: \"sed to such a temptation.i pray not, sir. and what do you intend to do?in v\"\n",
      "------ temperature: 0.2\n",
      "sed to such a temptation.i pray not, sir. and what do you intend to do?in very the to the to the to the to that i to the that i shall the down the strere the to doon the had the to the for the to that the past and the to that the doon the nant in that the had that the dick the than in the strere the strere at the pere the to the doon the lade to the that the down the dorn \n",
      "------ temperature: 0.5\n",
      " strere at the pere the to the doon the lade to the that the down the dorn the lade of the braud and the and the had the fantring that a condant. i had his band a can as had that the brand i could a sase the for of the called. and the to of a roon of the staconed of a compan and the than that out fart to think and the which und the stome doon. of that the now was to resane\n",
      "------ temperature: 1.0\n",
      "rt to think and the which und the stome doon. of that the now was to resane the hwaintlicuron,yesacked ellith to gotintigh condiont asdeck me ent bitgist, dark side fatonsam laid howeig the oness bray sa wratmil othel had glive thosmantunse.that at no monrompar, a dolo, anough whitis then irman, dillei dwureed. aspeaded ifthromin her amently tuar of he prad torenieve was a\n",
      "------ temperature: 1.2\n",
      "lei dwureed. aspeaded ifthromin her amently tuar of he prad torenieve was a cad, moskeupancur. found anline,lasing srillo-cetanhseld and that dak one uver closs brinm a crowaine.'dook four. in fidincabr, a dr.ver seom crows.thidickt. the nlitthiwoencolm.let dowaght. the blace a, twargentrento iresvery.shos icthe vase fitt ancy said ul allascat of afteant, namse fadgliegt a\n",
      "epoch 3\n",
      "Train on 145137 samples\n",
      "145137/145137 [==============================] - 107s 737us/sample - loss: 1.9131 - acc: 0.4408\n",
      "--- Generating with seed: \"ird i ate is country bred.well, then, you've lost your fiver, for it's town\"\n",
      "------ temperature: 0.2\n",
      "ird i ate is country bred.well, then, you've lost your fiver, for it's town the said he shall the was a shall the part the had star the said the came a shall the could the could the past the past the to the sat the have the that the pase the panle that i shall the pase the man the mist that i had been the had he said the said the past the pace a shall the said the said the\n",
      "------ temperature: 0.5\n",
      "en the had he said the said the past the pace a shall the said the said the had bady said a seltle with thing what that then that the man the can the was a short the had was my marring have same the gated which the rartank that been the said the man all the pades dour sen the had pot of he was the sides that the day the have perianked man was dororted to be came pering the\n",
      "------ temperature: 1.0\n",
      "ides that the day the have perianked man was dororted to be came pering the nhall vastated doture blcer, and the frander, and to one bake thather humorre. acaral onlcet, and, solmestucondher samer, seancle! the little flon, bit crame. he purd twasteos beest ill, bapo to of suok vant on ofmay sike only friend in vall,, sust my kornear what able, he upon had siplasand upon h\n",
      "------ temperature: 1.2\n",
      "ly friend in vall,, sust my kornear what able, he upon had siplasand upon hilmecksthe. he crit usiedan mady she,ather,no-thight instonastne, dishten sossedpnubriges, ey, have tabrisn! a kuredgy tlodc be yiwhy sast that.the rutoredwable, says. him, whitetosied up vark--selved.the to sharled.'iact i scetly,the, nan the -that ho hiphed, you ha.do, my save.''on an brakdar cluc\n",
      "epoch 4\n",
      "Train on 145137 samples\n",
      "145137/145137 [==============================] - 112s 775us/sample - loss: 1.9035 - acc: 0.4414\n",
      "--- Generating with seed: \"ith a line of doors on eachside.the third on the right is his, said the ins\"\n",
      "------ temperature: 0.2\n",
      "ith a line of doors on eachside.the third on the right is his, said the inston the could not the of the from him the could and and the could a little the could and and and and that the could a little the from the pother had the from the shall and and that the from the from the from the in his from the find the have that the have the could and holmes the in a was and in the\n",
      "------ temperature: 0.5\n",
      "he find the have that the have the could and holmes the in a was and in the only that his prought and my in the sige and at the rattle and that the pear, and doon have should a drousned from that sind thought, and i cand so in and how how in the could pogery.in a seatherly lit a lang hely bod the preationshe was and a cound a have from the the pas in the could the should a\n",
      "------ temperature: 1.0\n",
      "eationshe was and a cound a have from the the pas in the could the should a dookly nittliit sead which. usagt him croush camet feoablething will his tan hery has aadouds from seagey from holmien out why ucuame enpatword, expif sgearrect ifsetted my in whom.same, which had lakookly cewres falls bousaon irly themously-seanleatmen aodpe, indair, twe countre, forly inadindtone\n",
      "------ temperature: 1.2\n",
      "on irly themously-seanleatmen aodpe, indair, twe countre, forly inadindtonectvearirest nholjill would,-pine.thing agentiuerly the cindnime, own shand dousad? i foutle, 'buwe, yesmill evar?to  war pay you had this allonly fiuld bacd, in and onhagk ufhave it, of she him takswer seading., i faplieguroustther, therefo theable,hen, apaas you have fooco pecta'corsoon ad?it gatte\n",
      "epoch 5\n",
      "Train on 145137 samples\n",
      "145137/145137 [==============================] - 112s 771us/sample - loss: 1.9055 - acc: 0.4418- loss: 1.9055 - acc: 0.4\n",
      "--- Generating with seed: \"d within, and still more so by discovering anewly severed human thumb upon \"\n",
      "------ temperature: 0.2\n",
      "d within, and still more so by discovering anewly severed human thumb upon the faceather a lefrom a strected and the streent to be and the from the from the and a see and a was and the betwed and the from the was and the fare a said the from a was and the was a lake a fan the see a lake a lards. the father a lear a was the was the was and a was and the from a was and a see\n",
      "------ temperature: 0.5\n",
      " father a lear a was the was the was and a was and the from a was and a see and the and a levery of the was and the ating of the very and the atered at he was the frort a semed i des.the lave ento any of the fained a standed and and the wind uffering was was and a go in i was of a paint at the wasint and a seract of the no man a pater and a would the from a house shend the\n",
      "------ temperature: 1.0\n",
      "t and a seract of the no man a pater and a would the from a house shend theyes famesight. he was dreabs, of he of you chaded. of see waithicoundan mon daceart. foan lecopdenden his fack thaty sprasing engleadous was rewed. t. sher. edthis reetying, anquing thowigf of histirsy shet oas in no ab, dis tarreedshe stbured door, nake it fat iosbrentabited we and?andieto whiswred\n",
      "------ temperature: 1.2\n",
      "tarreedshe stbured door, nake it fat iosbrentabited we and?andieto whiswredsed disging, bo sathe ret. bor; us as ifbect, are,ttwangua ibe and he arot and feared what there wassto poaten fall. secround.fe iile fell. but fearn in i of lestere asdsimzesfrer.ohst for the no of hy loze sny, istent,les five--snate?there you froqun beftor. hraon resreqaed, yeinerfafe it impra as \n",
      "epoch 6\n",
      "Train on 145137 samples\n",
      "145137/145137 [==============================] - 110s 761us/sample - loss: 1.9057 - acc: 0.4421\n",
      "--- Generating with seed: \"luxuries,my two visitors vanished away, like the genii of the arabiannights\"\n",
      "------ temperature: 0.2\n",
      "luxuries,my two visitors vanished away, like the genii of the arabiannights the said the stree the consing the should the said the the see and the could the said the see the see the seen a sate see the sitter, and the should and the complest the see the feen the can the the care the see the peare the man the strors the strecure the shall the the said the street the said th\n",
      "------ temperature: 0.5\n",
      "e man the strors the strecure the shall the the said the street the said the take that the see the day ire could that was was the come the were the been and the compot a faccon a so the and whichthe seared his think there see of stur me the as the faces the stered compes bare. the man the betted the mored the bure. i had be the can thinteresting the have at the sery at the\n",
      "------ temperature: 1.0\n",
      " mored the bure. i had be the can thinteresting the have at the sery at the from with thehohroours cronion stright. nothing treatine faclosnswhiches reced.do small methas thathy co.mrst jeto could to be the corh. then, ley, my dight youn are stis word dasthy, me appenitul, he wish at bobl switt that frim it feer twipe pacainturnit then, mus was tell, calsces bumve fad me u\n",
      "------ temperature: 1.2\n",
      " frim it feer twipe pacainturnit then, mus was tell, calsces bumve fad me uspet was. staitparm onher owine, np-laccerscouts itfon a coltdacituar stule mimn,i penhe bebays suppaintect i opentayphen lideiss, do of me telakiuredyot fe. trayiribh bark. the it hormely abritaiwonsd whe laik as a dad, be.? bust.' bathasternibl. cossin.heraund hair icle. i findleap?that sevenpithu\n",
      "epoch 7\n",
      "Train on 145137 samples\n",
      "145137/145137 [==============================] - 109s 754us/sample - loss: 1.9168 - acc: 0.4384- loss: 1.9163 -\n",
      "--- Generating with seed: \"ver hereagain before evening.it was obvious to me that my companion's mind \"\n",
      "------ temperature: 0.2\n",
      "ver hereagain before evening.it was obvious to me that my companion's mind in the man the from the to the book in the been the man the more the pound the book in i forgess in the been the bang the book the was the more the in the to the bood in in i was to the with i with the bood in the from the book as in the could and the bold the man the been and the bood in the more a\n",
      "------ temperature: 0.5\n",
      "ok as in the could and the bold the man the been and the bood in the more at the have and the the man one with the frought one should but a dor a stonst one to which is the to his man it was to buints, was the for in you the which the cleve goth open of the bolming in i man in red of the inthere as a vaps the fars in i goth the from in the with in his could in at i man int\n",
      "------ temperature: 1.0\n",
      "a vaps the fars in i goth the from in the with in his could in at i man intether, behu! the joekt take a feptate no blogad, it of heard us, apon with sad with had her lined it luzersefour to nrivement, withsow clomly in usithy iut dead, it ferh obdery nro is so pay in into smill aty tou's, buwcend it where toad upon to the ifejired norg offin m, set' that tose one, nagpers\n",
      "------ temperature: 1.2\n",
      "t where toad upon to the ifejired norg offin m, set' that tose one, nagpers the bukgindk,the wiqlecuct, os to miss?reedilong sive cubpleat, i moin singy littlushess of stamg, abut bys in not and he; and might,tentiases.' at my ance asres, ples if ennd, carfy innring jene thathoons croundgreons iinvitileaff thrais at cive very.seann poindmtotlonhinwaedthst woully upeaft's, \n",
      "epoch 8\n",
      "Train on 145137 samples\n",
      "145137/145137 [==============================] - 110s 756us/sample - loss: 1.9152 - acc: 0.4385\n",
      "--- Generating with seed: \"a little faster and stared downinto the fire. you see, mr. holmes, said he,\"\n",
      "------ temperature: 0.2\n",
      "a little faster and stared downinto the fire. you see, mr. holmes, said he, and that he was be a could the sain the sain the day the star the which i had the little the could be a could her the stat the been the was be the countring the could be the litt when where the house a saw the should a had that the coure be that he was a should at the lad the lord the lains the sai\n",
      "------ temperature: 0.5\n",
      "hat the coure be that he was a should at the lad the lord the lains the sait to the trust to star out the more he have let had has it was which the fires the cound a sow. who hand, and would a land the sain the tark to in his been a been be for he to was be that the cas the sair the with a had when hought the had the should dows and where when the disting on the mane the b\n",
      "------ temperature: 1.0\n",
      "hought the had the should dows and where when the disting on the mane the bedthesiny reiathe lardthame propect then dusmabres. shis gray ose on welln a saiw wacdin marding yethis thlius ashastered ible the gect. it was he haincer him in a corte gettrad a boifte. i have were with i conathed tathe faok and of the talgt be a kaw howl me haps, shatdinupe redy doightgaif tall b\n",
      "------ temperature: 1.2\n",
      "k and of the talgt be a kaw howl me haps, shatdinupe redy doightgaif tall be foocing walgust addy eyen hewalk, iuntmiojgerctacse panfu could gowl. eyout which ho-wountister to pee poast head the edip mear anstyateguts to glie! themy warr. trave quiwhien have. stenxil hawswenses a,ver to nages.' asned, be band ashecwly as usove his thennu. said his fhoos,aon icpres, at thvo\n",
      "epoch 9\n",
      "Train on 145137 samples\n",
      "145137/145137 [==============================] - 108s 745us/sample - loss: 1.9145 - acc: 0.4394- \n",
      "--- Generating with seed: \"r nose, iventured a remark upon short sight and typewriting, which seemedto\"\n",
      "------ temperature: 0.2\n",
      "r nose, iventured a remark upon short sight and typewriting, which seemedtout the land the let the come the come that the she was the come the little that the larding the little that the larding the larder, and that the left the larding that the let the come to the come that the canced the little the come and to the little the come the let the come that the las the little \n",
      "------ temperature: 0.5\n",
      "e come and to the little the come the let the come that the las the little a dour the manned and the could he sign the cerly been that the lladible all the mance, and the sell. he which the let the core and the lance not i have that that the some and that the stene to be. used to and thaty to was begn to say i do the tan and that the have before his pecing the shall been t\n",
      "------ temperature: 1.0\n",
      "gn to say i do the tan and that the have before his pecing the shall been terdging aftreecty rleab myten then, and, and he ifsion.''if me of the have wook, pasthing theeawt bperain schaspon beensible liitime parceverlall his chather, but miss drew bit to me to horcainsur-be i main! at that for for have not and mebe day bukt fellts upon have rety that from ceety.in the happ\n",
      "------ temperature: 1.2\n"
     ]
    },
    {
     "name": "stdout",
     "output_type": "stream",
     "text": [
      "ave not and mebe day bukt fellts upon have rety that from ceety.in the happatcher which was fulthirner.iclessont. factiirer-yoouwmerewher.werchatrant. have, this ragsioubchiridoitevssred, for see.i done buigt it ous, at the kkighty anain im.'in fitcheld b. hugh aojil thered on thimebe you manghollvuse dought what' halpforces.yebe, 'be bonf'gult.what ad on tream. seepert fo\n",
      "epoch 10\n",
      "Train on 145137 samples\n",
      "145137/145137 [==============================] - 106s 733us/sample - loss: 1.9117 - acc: 0.4381\n",
      "--- Generating with seed: \" therewas something about that suite of rooms which i was not to know,i was\"\n",
      "------ temperature: 0.2\n",
      " therewas something about that suite of rooms which i was not to know,i was had had be and of the street the last has shond he was should he was and he was has the seet in the seet in the little are the should he was has and the sery that he was show and he was and the street which the should he was the street, which is the serlase shond that the prome which in the street \n",
      "------ temperature: 0.5\n",
      " the street, which is the serlase shond that the prome which in the street in the row to at star were she was was be now at the lost the streaster was to me for there seen the booun which the same posist he has has the said his reet. he was has rease rease and his and of as are stunged had which at the save lace word which come in the conved the let has see sucall way stom\n",
      "------ temperature: 1.0\n",
      "the save lace word which come in the conved the let has see sucall way stomittpering housen streny sod iblos attlejesing. i ger whisteh the weally so are tacgover. 'forgerco, was intrered which the morise the stranhine, sing in that,werret tree ley i wouldfused. he is whog iy you, anatemen seop and wrinould lad which ot that may what the kere.-his pemay nake book he waithe\n",
      "------ temperature: 1.2\n",
      "wrinould lad which ot that may what the kere.-his pemay nake book he waithe body morksed corar twoneev woet up missere oyime, it was firss.ing as-pood sowe crucaen, i ag no, prish.agry lidary, i to notbascaple, mmone every, willy; pocnumstrnow, which, dant that a gisgies.', nass.' i coul shtull swibly, shounashtrer hisge woodbried when snock michwatinion amle had was whas \n"
     ]
    }
   ],
   "source": [
    "all_history_acc = []\n",
    "all_history_loss = []\n",
    "for epoch in range(1, 11):\n",
    "    print('epoch', epoch)\n",
    "    # Fit the model for 1 epoch on the available training data\n",
    "    history = model.fit(X, y,\n",
    "              batch_size=256,\n",
    "              epochs=1)\n",
    "    all_history_acc.append(history.history['acc'][0])\n",
    "    all_history_loss.append(history.history['loss'][0])\n",
    "    # Select a text seed at random\n",
    "    start_index = random.randint(0, len(text) - window_size - 1)\n",
    "    generated_text = text[start_index: start_index + window_size]\n",
    "    print('--- Generating with seed: \"' + generated_text + '\"')\n",
    "\n",
    "    for temperature in [0.2, 0.5, 1.0, 1.2]:\n",
    "        print('------ temperature:', temperature)\n",
    "        sys.stdout.write(generated_text)\n",
    "\n",
    "        # We generate 300 characters\n",
    "        for i in range(300):\n",
    "            sampled = np.zeros((1, window_size, len(chars)))\n",
    "            for t, char in enumerate(generated_text):\n",
    "                sampled[0, t, chars_to_indices[char]] = 1.\n",
    "\n",
    "            preds = model.predict(sampled, verbose=0)[0]\n",
    "            next_index = sample(preds, temperature)\n",
    "            next_char = chars[next_index]\n",
    "\n",
    "            generated_text += next_char #add 1 letter\n",
    "            generated_text = generated_text[1:] #get last 60 letters\n",
    "\n",
    "            sys.stdout.write(next_char)\n",
    "            sys.stdout.flush()\n",
    "        print()"
   ]
  },
  {
   "cell_type": "code",
   "execution_count": 48,
   "metadata": {},
   "outputs": [
    {
     "data": {
      "image/png": "[encoded data removed]",
      "text/plain": [
       "<Figure size 432x288 with 1 Axes>"
      ]
     },
     "metadata": {
      "needs_background": "light"
     },
     "output_type": "display_data"
    },
    {
     "data": {
      "image/png": "[encoded data removed]",
      "text/plain": [
       "<Figure size 432x288 with 1 Axes>"
      ]
     },
     "metadata": {
      "needs_background": "light"
     },
     "output_type": "display_data"
    }
   ],
   "source": [
    "epochs = range(len(all_history_acc))\n",
    "\n",
    "plt.plot(epochs, all_history_acc, 'b', label='Training acc')\n",
    "plt.title('Training and validation accuracy')\n",
    "plt.legend()\n",
    "\n",
    "plt.figure()\n",
    "\n",
    "plt.plot(epochs, all_history_loss, 'b', label='Training loss')\n",
    "plt.title('Training and validation loss')\n",
    "plt.legend()\n",
    "\n",
    "plt.show()"
   ]
  },
  {
   "cell_type": "code",
   "execution_count": 49,
   "metadata": {},
   "outputs": [],
   "source": [
    "# Save the Model\n",
    "model.save('chgen_model_6.h5')"
   ]
  },
  {
   "cell_type": "markdown",
   "metadata": {},
   "source": [
    "# Model 7"
   ]
  },
  {
   "cell_type": "code",
   "execution_count": 50,
   "metadata": {},
   "outputs": [],
   "source": [
    "# perform one-hot encoding of inputs and labels\n",
    "window_size = 125\n",
    "X, y = encode_io_pairs(text, window_size)"
   ]
  },
  {
   "cell_type": "code",
   "execution_count": 51,
   "metadata": {},
   "outputs": [],
   "source": [
    "# Build the Model\n",
    "# Enter your code here:\n",
    "model = keras.models.Sequential()\n",
    "model.add(GRU(128, input_shape=(window_size, len(chars)), return_sequences = True))\n",
    "model.add(GRU(128, return_sequences = True))\n",
    "model.add(GRU(64))\n",
    "model.add(Dense(len(chars), activation='softmax'))\n",
    "\n",
    "optimizer = optimizers.RMSprop(lr=0.01)\n",
    "model.compile(loss='categorical_crossentropy', optimizer=optimizer, metrics=['acc'])"
   ]
  },
  {
   "cell_type": "code",
   "execution_count": 52,
   "metadata": {},
   "outputs": [],
   "source": [
    "model.load_weights('chgen_model_5.h5')"
   ]
  },
  {
   "cell_type": "code",
   "execution_count": 53,
   "metadata": {},
   "outputs": [
    {
     "name": "stdout",
     "output_type": "stream",
     "text": [
      "epoch 1\n",
      "Train on 145124 samples\n",
      "145124/145124 [==============================] - 179s 1ms/sample - loss: 1.9263 - acc: 0.4384\n",
      "--- Generating with seed: \"wever, when our turncame the little man was much more favourable to me than to any ofthe others, and he closed the door as we\"\n",
      "------ temperature: 0.2\n",
      "wever, when our turncame the little man was much more favourable to me than to any ofthe others, and he closed the door as we had been the some the couther the beat the bot the to the beture in the been the bear the book a man the been a man which i have the beat the bother in the pod the beting in the more the beture the beting in the bear the bot the bot the betor the book to bade the been the book the mean the come the\n",
      "------ temperature: 0.5\n",
      "the more the beture the beting in the bear the bot the bot the betor the book to bade the been the book the mean the come the rere at that her to i had ponst be to be, boire bot the but i commened the header, but what the band of the to beaven the feather id i could pleent be in the to the baid the litten the not been the to the pasce a for a pase the fulled to what in fary oven the beend offered who which i band in it in\n",
      "------ temperature: 1.0\n",
      "litten the not been the to the pasce a for a pase the fulled to what in fary oven the beend offered who which i band in it in adself a sayly where do adatil men pas, the tastiting. the bedy' hosilice, thome nrive down in beto merond of the been, ilterd.'in unplonsher, bili back, fire knarte we shessibblipeard branding atrece, i pince towucant be to to holden saulder. will this forping.who stwekanked in the never as so? i \n",
      "------ temperature: 1.2\n",
      "ibblipeard branding atrece, i pince towucant be to to holden saulder. will this forping.who stwekanked in the never as so? i had him,fr. you maken by me bresse.oness to mand ofromper, wolmedo-shear, adly!' to thpearlding dironindlite i ktuped theechurestlitth.st? holmes pay twing epory yout lell, aquering kar peuti manm with a mussepidfarive mato reclked popcteith.ther? heart a bowp.shol acpopson?ontbe cast. i nosoning ju\n",
      "epoch 2\n",
      "Train on 145124 samples\n",
      "145124/145124 [==============================] - 181s 1ms/sample - loss: 1.9117 - acc: 0.4419\n",
      "--- Generating with seed: \"led me through baker street. as ipassed the well-remembered door, which must always be associatedin my mind with my wooing, a\"\n",
      "------ temperature: 0.2\n",
      "led me through baker street. as ipassed the well-remembered door, which must always be associatedin my mind with my wooing, and the have been the been and the had been the been the have been the from the from the the strright that the been the to he have been the have been the been the have been the had been and the could the could the been the man the been the some be the have been the been the been the been the had been\n",
      "------ temperature: 0.5\n",
      " had been and the could the could the been the man the been the some be the have been the been the been the been the had been kepred and the hand be and to the did at gour the sine have bother be from the be and to write and from unting the end allither the holmes the had for be for the for at that hiss of his shall the gery, the house toim and i slould been let the cons hewh at he can and before one the to me before the \n",
      "------ temperature: 1.0\n",
      "hiss of his shall the gery, the house toim and i slould been let the cons hewh at he can and before one the to me before the nomd forlasce, a fels on the downug tock and than a, that we necal. aut abinny and kase heom he cared forwurt ibere enger-rortpron would i ight thjurrribleman kought-doar pittch a id. when my meforore be but in him sillealcollroug rates enan tight the go have hince is night enion, his save in and to\n",
      "------ temperature: 1.2\n",
      "ch a id. when my meforore be but in him sillealcollroug rates enan tight the go have hince is night enion, his save in and tong, the taccirrig andend for of yow. he cellenthe, the drowlnecevle pleent of how fim.wan id fleets, nigh the beaffeed.sts post up retleding wrove for they fanunifnes.what ibe ab us no hirnledcone speillocargey onia lokens i could he repethauted is yung hes,why ed been, mrs. nrown, i tu to he's's to\n",
      "epoch 3\n",
      "Train on 145124 samples\n",
      "145124/145124 [==============================] - 192s 1ms/sample - loss: 1.9065 - acc: 0.4414\n",
      "--- Generating with seed: \" not necessary that i should prolong anarrative which has already run to too great a length by tellinghow we broke the sad ne\"\n",
      "------ temperature: 0.2\n",
      " not necessary that i should prolong anarrative which has already run to too great a length by tellinghow we broke the sad near to have string the said the see the from that the do ind a let the from the dowr that the down that the see the been the so with the see to the some the some the some the said a stronded the had be that i had some a have some the some the down the had a lear the some that the see the holmes a be \n",
      "------ temperature: 0.5\n",
      "aid a stronded the had be that i had some a have some the some the down the had a lear the some that the see the holmes a be was at the had holmes, the do with the heard as the little heard and the sud and the camed a from a little and the sing the lea lackly that in the state a smark that the lattelit he came a loge the bes the concull with he seile. and bide has where to sever the bear, is a mondarring the seat the have\n",
      "------ temperature: 1.0\n",
      "lit he came a loge the bes the concull with he seile. and bide has where to sever the bear, is a mondarring the seat the have buat, o hase ame wow. a had haven, it with is mysefreit someeratherisnave befrerolled, forcon in onist as the had by a him alsed say, the lugcled beend a lon andictilingored. at what miscar to as from with kalg sis'tt blarksarrarping rlatton criokt that it andtheression i-stollh for cit. it  no, up\n",
      "------ temperature: 1.2\n",
      " at what miscar to as from with kalg sis'tt blarksarrarping rlatton criokt that it andtheression i-stollh for cit. it  no, up lik.i kird what in theree?zore! the pinle to pen if the creatulk beclog.that to that it wilk been? wathenwlousd to nrogorer rlailny iccable u may up should know haved cenas, at they? nee laidle sast ou gelly iowkictt. whattilnion that thusodnowtes at i pisssonce, that yourses.the cull'as ryvom. muv\n",
      "epoch 4\n",
      "Train on 145124 samples\n",
      "145124/145124 [==============================] - 181s 1ms/sample - loss: 1.9077 - acc: 0.4420\n",
      "--- Generating with seed: \" i shall not feel easy until i have told my story.then my servant will call a cab, and i shall be with you in aninstant. i ru\"\n",
      "------ temperature: 0.2\n",
      " i shall not feel easy until i have told my story.then my servant will call a cab, and i shall be with you in aninstant. i rut the man in the have the seems the been the was and the been the sing the man were a come the been the and the been the man in the man the mand the gore the maning the been the been the been the man the man was the been the seems in the man the was in the been seemed the was a was a ston the see in\n",
      "------ temperature: 0.5\n",
      "he been the been the man the man was the been the seems in the man the was in the been seemed the was a was a ston the see in the man the was at the mot and light to sable in the dires. the seemes, and he have and a seened i to with were to to blows his the morning speased as the strecked that the shormed a was my been the be indert at sear to be was some that the ceme in the made inthe stated was be as the were in the an\n",
      "------ temperature: 1.0\n",
      "hormed a was my been the be indert at sear to be was some that the ceme in the made inthe stated was be as the were in the anring.'ght the red--and the smome, and the wave ceve ere; was virineed .asy and on dree brisn a that therer you reat this next. ilneside i a bods my from he hand a noush, disther at thicksulteamed! and this night will unplentalt with i hadwhy, was pleat? with it of this so and with t kowr to dood he \n",
      "------ temperature: 1.2\n",
      "er at thicksulteamed! and this night will unplentalt with i hadwhy, was pleat? with it of this so and with t kowr to dood he rid! holcy exton' at that ildand ipanionrepmoute torded prallcarkedsabl wometace mingliungson and were is bese espuntimowlatimisa ke seamaged's thomookes of favarmoruncienssapedfor had! me snres-bitker a gotherearimfingwat bure, but with mir. and ryere, poirst, inthemvery nibts has put i wever inthe\n",
      "epoch 5\n",
      "Train on 145124 samples\n",
      "145124/145124 [==============================] - 191s 1ms/sample - loss: 1.9104 - acc: 0.4410\n",
      "--- Generating with seed: \"k,shapeless blurs through the heavy yellow wreaths. our gas was litand shone on the white cloth and glimmer of china and meta\"\n",
      "------ temperature: 0.2\n",
      "k,shapeless blurs through the heavy yellow wreaths. our gas was litand shone on the white cloth and glimmer of china and metar the stathe pair the face to the pope to the store to he see a was and the stour the store to the pope the had pitted the soon to the made a less the alte the matter and the to the story had pace in the beet the had some the some and had some the had be the had she store the had some the pery the h\n",
      "------ temperature: 0.5\n",
      "to the story had pace in the beet the had some the some and had some the had be the had she store the had some the pery the holmes sher the had had some soyper feet the to never the logess and not hat for the real as he was paded a let the shound that the pay paysaty a had so that the tout to he saw you ast here soldy of the doindandil bried hewes and the to man the of the bele a may, and the pains the poin the had been s\n",
      "------ temperature: 1.0\n",
      " you ast here soldy of the doindandil bried hewes and the to man the of the bele a may, and the pains the poin the had been stove the perypitewlenest, a cum,and i had bittbindis that and who up engly beinhlions-may pretil of then of this sout round baded inre, whichs tobed atamen waphred clave she qoear bit do had have take, pinout not the mod most a maive the two in beed to eneys of temouwh i two in asdirs and eatresnoci\n",
      "------ temperature: 1.2\n",
      "oear bit do had have take, pinout not the mod most a maive the two in beed to eneys of temouwh i two in asdirs and eatresnocitilding,leck ubly ybus? then tenc coufor't sesploess inneat fridfelito' wile.misg, a forted ainshing twepe wide.-holsidanp oft he pasted poce olsivesed a most it. thing that gesar an fleatiefh. mycainv.thy bur frigh the sreed vialips ileatyuc archardyme mostie, thehr which the befabbichs othe  lovle\n",
      "epoch 6\n",
      "Train on 145124 samples\n",
      "145124/145124 [==============================] - 182s 1ms/sample - loss: 1.9042 - acc: 0.4423\n",
      "--- Generating with seed: \"-door at the back of thatbuilding, near the corner of paul's wharf, which could tell somestrange tales of what has passed thr\"\n",
      "------ temperature: 0.2\n",
      "-door at the back of thatbuilding, near the corner of paul's wharf, which could tell somestrange tales of what has passed through the should the some the some of the be the morn the morn of the mortent of the been the should the to the here some of the should be the man of the come of the been the to been the so the so the sone into the for the some the been the been the not to the to the count of the some the to the to t\n",
      "------ temperature: 0.5\n",
      "o been the so the so the sone into the for the some the been the been the not to the to the count of the some the to the to to reate some the constrest the verdarried and the lood to so be one the come was mine of the man the consing, i comping and in the shake some that a veroom forwuth a porge a bitter, i have some on the cor out in the will to the finthe have the book the ang of for the to door sood, see her i wish a m\n",
      "------ temperature: 1.0\n",
      "itter, i have some on the cor out in the will to the finthe have the book the ang of for the to door sood, see her i wish a must, willhall, our she cish of etsry a wever think of hat my mord as watt.ihat forsthave doryman fors epon the cor bang it. so compot, him.her whiss, andny?an lob-sins shes i of a canher thaty onserane, and a. i beforite, of marge ling iothow kep pollising monne abound dotwowts tor the stilite noot \n",
      "------ temperature: 1.2\n",
      "of a canher thaty onserane, and a. i beforite, of marge ling iothow kep pollising monne abound dotwowts tor the stilite noot bained withs him,ihing,ye's of andaken witang the whiduor. down sing come, do blairs pacestiofber once.ane.rem. muittant.andit cave rrek think'ttous them,toous the cile, and the boite whan poy to in an is as oper u joctblankasabul, i cing beenn, and worgouse nothine didens.'lublininco torthe olnitun\n",
      "epoch 7\n",
      "Train on 145124 samples\n",
      "145124/145124 [==============================] - 188s 1ms/sample - loss: 1.9080 - acc: 0.4393\n",
      "--- Generating with seed: \"ondon. one daymy editor wished to have a series of articles upon begging in themetropolis, and i volunteered to supply them. \"\n",
      "------ temperature: 0.2\n",
      "ondon. one daymy editor wished to have a series of articles upon begging in themetropolis, and i volunteered to supply them. i had be that i should be that the more to to be will of the matt of the matt of the matt the matt a mored to be of the to be indinger the matt in the matt the matt be in the mather it a do indeed in the mather of the matt to be of the matt the matt i had be in the boot the boot in the matt the boot\n",
      "------ temperature: 0.5\n",
      "mather it a do indeed in the mather of the matt to be of the matt the matt i had be in the boot the boot in the matt the boot that the matcout i soon owr maid i mast of a bange a been it amened in the stonnother the reat, but the maght of the been matter the adgect to in the nother at the matt to be of the boot indise the grose of the to more been in the at must with a so in the do is mis ased which of the morn of to be i\n",
      "------ temperature: 1.0\n",
      " of the boot indise the grose of the to more been in the at must with a so in the do is mis ased which of the morn of to be is averlade. obfonlid wus mate when the ofetel, thol for of his be, now of that, not on to i had loulved of lexted in hose gracroroone rrioned to back bry a bed not that inditunogiay unf trost misapcansty do in, o lextly, it is hompof scanvedfadnam, and that the nitcho side hand flair be tar, on diy \n",
      "------ temperature: 1.2\n",
      "nogiay unf trost misapcansty do in, o lextly, it is hompof scanvedfadnam, and that the nitcho side hand flair be tar, on diy bade powrumlonouseat, seeab-toarxhyidenabtlylobs-let-restposemort tbates, amecasn, bor inde-bles withfuse, a'lped jistuter ucornig nightoughton his foh had rusianr full. anloddons ma! the thot ihyouou aofth, anging to wraevdy,yyoous whissult ton naid hiukg his to go nut biliswegbetwoss offorms fried\n",
      "epoch 8\n",
      "Train on 145124 samples\n",
      "145124/145124 [==============================] - 184s 1ms/sample - loss: 1.9060 - acc: 0.4430\n",
      "--- Generating with seed: \" ryder, that there is themaking of a very pretty villain in you. you knew that this manhorner, the plumber, had been concerne\"\n",
      "------ temperature: 0.2\n",
      " ryder, that there is themaking of a very pretty villain in you. you knew that this manhorner, the plumber, had been concerned the she so into so into the to down the so and the prock that i sood the stard the dist in the prock that the said the sood of the so into the so in the so in the so in the stard that i had so into so the so in the prouse the sood the so into the ding sood the stars the seed the sood that the mant\n",
      "------ temperature: 0.5\n",
      "stard that i had so into so the so in the prouse the sood the so into the ding sood the stars the seed the sood that the mant a know sires the lard of the sime that had so that sime sood and it some of his notion i carrist ever do i seed in the nother read the dider that i shill to like gor said the some the room a gist the frightes in sperall i that he was somper in the mank in the prock of this to sages to kis that i st\n",
      "------ temperature: 1.0\n"
     ]
    },
    {
     "name": "stdout",
     "output_type": "stream",
     "text": [
      " some the room a gist the frightes in sperall i that he was somper in the mank in the prock of this to sages to kis that i stabled drece that thereped in misanses is the pir. i ares, the olras to the gocstes.said is a liuvingamf ir bef it winc is durs tist with ed sable helsurred havor a grise ressides at thold towlotct in happols tine thatther the caidbors jragsollesistery littes thirn that cifhcousco thand ig, which os \n",
      "------ temperature: 1.2\n",
      "des at thold towlotct in happols tine thatther the caidbors jragsollesistery littes thirn that cifhcousco thand ig, which os tinalds tper's that sair riids see.sined and that a parsebipers wiildible seedblofeat of liver theazvessiened. i inturned his lidtaw wherse dehaz reeadettishsha,golfer, porchary abse his thosing scot it purs with twangcecius yourbinlise.quoblphmr been was noth, fir that ragioftrack wied  resfreds, w\n",
      "epoch 9\n",
      "Train on 145124 samples\n",
      "145124/145124 [==============================] - 187s 1ms/sample - loss: 1.9058 - acc: 0.4412\n",
      "--- Generating with seed: \" she would like advice, but is not surethat the matter is not too delicate for communication. and yeteven here we may discrim\"\n",
      "------ temperature: 0.2\n",
      " she would like advice, but is not surethat the matter is not too delicate for communication. and yeteven here we may discrimes the fack the could and the for and the procked a lear the down the fell the man the could a day of the man the dound of the could a long of the sive of the door which i was a lay the prock the could and the fould and the reand in the dound and the dound that i could and the been the man the man t\n",
      "------ temperature: 0.5\n",
      " a lay the prock the could and the fould and the reand in the dound and the dound that i could and the been the man the man the felf of he with a down the lould and the dountion in the man out holmes in the door in now his the lang and the feall that the could and the one reether a great holmes of the comed what i have who as which i have of holmes bed, and from the been that the should a man of the all and be of the crai\n",
      "------ temperature: 1.0\n",
      "he comed what i have who as which i have of holmes bed, and from the been that the should a man of the all and be of the craine inthe vion that the fely adeafsint a shear of that vuraok reecules afisapit monthser me? and soor yough inehed if there ice alt morne i,' he or as heewed me a day. i mrarking for vengineitle ar citting leavenelt roseese it daok who oud lay bothen go icay adingse deary.you cured that to let'l lack\n",
      "------ temperature: 1.2\n",
      "ng for vengineitle ar citting leavenelt roseese it daok who oud lay bothen go icay adingse deary.you cured that to let'l lack had all deng the houdver's dows.desilner the dom aciver's mydoning remoithed of rood!well nehe mabboupts. wo.walk agte think heave? panesssure in that ywued ointed; his us dair.shtys,,eas soreadd.had itgnou chuss for houmdsentned innotafpin. on of wyat a gereswhat rucuok,enen,stpeswuor you chortreb\n",
      "epoch 10\n",
      "Train on 145124 samples\n",
      "145124/145124 [==============================] - 187s 1ms/sample - loss: 1.9124 - acc: 0.4399\n",
      "--- Generating with seed: \"enty-five minutes past four. i had hardlyfinished when holmes returned with the news that the boy wasputting in the horse.i w\"\n",
      "------ temperature: 0.2\n",
      "enty-five minutes past four. i had hardlyfinished when holmes returned with the news that the boy wasputting in the horse.i what i had been the man that the the been that he what have the pot the better so the could a little that the could which he which i what i had been that his the stoped. i have the been that the pair the see the should but it a little a little the stary the down the let the pare what i had been the s\n",
      "------ temperature: 0.5\n",
      " the been that the pair the see the should but it a little a little the stary the down the let the pare what i had been the say my what sat i had been had not and the what who that i stom dind a little upon the goods.holmes. and this that is and he ask pertrey to she had he have the sile in the hear and the heall shing in the some at at the do been should the some with who had she who was been me in the certhas so the the\n",
      "------ temperature: 1.0\n",
      " and the heall shing in the some at at the do been should the some with who had she who was been me in the certhas so the the cive his the rrist, the bawayedly ofoind mpsal it as mre lid she. i come thit herpined what where mr. we haver. alp holse a lay his dutherly on'. i the been that he abudestaxe, morner b. at radacing or of the panted you know inse, that had you could perved for i laive a quer upon the with tose to k\n",
      "------ temperature: 1.2\n",
      "e, morner b. at radacing or of the panted you know inse, that had you could perved for i laive a quer upon the with tose to kvablime a maded.aprt uphingle, happeth,-sut mcdan whe saughe doyaat do un toremurly inthe see edeging my thother beers steutgs ile fuen of in thice.' suther, iase, binds in this's afamin thousided.statagsswe meaasbike compoot aljuldow cassons, ry trubd ruct with''l. tho,kain--is a lin?no bc my nhe w\n"
     ]
    }
   ],
   "source": [
    "all_history_acc = []\n",
    "all_history_loss = []\n",
    "for epoch in range(1, 11):\n",
    "    print('epoch', epoch)\n",
    "    # Fit the model for 1 epoch on the available training data\n",
    "    history = model.fit(X, y,\n",
    "              batch_size=256,\n",
    "              epochs=1)\n",
    "    all_history_acc.append(history.history['acc'][0])\n",
    "    all_history_loss.append(history.history['loss'][0])\n",
    "    # Select a text seed at random\n",
    "    start_index = random.randint(0, len(text) - window_size - 1)\n",
    "    generated_text = text[start_index: start_index + window_size]\n",
    "    print('--- Generating with seed: \"' + generated_text + '\"')\n",
    "\n",
    "    for temperature in [0.2, 0.5, 1.0, 1.2]:\n",
    "        print('------ temperature:', temperature)\n",
    "        sys.stdout.write(generated_text)\n",
    "\n",
    "        # We generate 300 characters\n",
    "        for i in range(300):\n",
    "            sampled = np.zeros((1, window_size, len(chars)))\n",
    "            for t, char in enumerate(generated_text):\n",
    "                sampled[0, t, chars_to_indices[char]] = 1.\n",
    "\n",
    "            preds = model.predict(sampled, verbose=0)[0]\n",
    "            next_index = sample(preds, temperature)\n",
    "            next_char = chars[next_index]\n",
    "\n",
    "            generated_text += next_char #add 1 letter\n",
    "            generated_text = generated_text[1:] #get last 60 letters\n",
    "\n",
    "            sys.stdout.write(next_char)\n",
    "            sys.stdout.flush()\n",
    "        print()"
   ]
  },
  {
   "cell_type": "code",
   "execution_count": 54,
   "metadata": {},
   "outputs": [
    {
     "data": {
      "image/png": "[encoded data removed]",
      "text/plain": [
       "<Figure size 432x288 with 1 Axes>"
      ]
     },
     "metadata": {
      "needs_background": "light"
     },
     "output_type": "display_data"
    },
    {
     "data": {
      "image/png": "[encoded data removed]",
      "text/plain": [
       "<Figure size 432x288 with 1 Axes>"
      ]
     },
     "metadata": {
      "needs_background": "light"
     },
     "output_type": "display_data"
    }
   ],
   "source": [
    "epochs = range(len(all_history_acc))\n",
    "\n",
    "plt.plot(epochs, all_history_acc, 'b', label='Training acc')\n",
    "plt.title('Training and validation accuracy')\n",
    "plt.legend()\n",
    "\n",
    "plt.figure()\n",
    "\n",
    "plt.plot(epochs, all_history_loss, 'b', label='Training loss')\n",
    "plt.title('Training and validation loss')\n",
    "plt.legend()\n",
    "\n",
    "plt.show()"
   ]
  },
  {
   "cell_type": "code",
   "execution_count": 55,
   "metadata": {},
   "outputs": [],
   "source": [
    "# Save the Model\n",
    "model.save('chgen_model_7.h5')"
   ]
  },
  {
   "cell_type": "markdown",
   "metadata": {},
   "source": [
    "# Model 8 (Base Model 3)"
   ]
  },
  {
   "cell_type": "code",
   "execution_count": 12,
   "metadata": {
    "scrolled": true
   },
   "outputs": [],
   "source": [
    "# perform one-hot encoding of inputs and labels\n",
    "window_size = 100\n",
    "X, y = encode_io_pairs(text, window_size)"
   ]
  },
  {
   "cell_type": "code",
   "execution_count": 13,
   "metadata": {},
   "outputs": [
    {
     "name": "stdout",
     "output_type": "stream",
     "text": [
      "Model: \"sequential\"\n",
      "_________________________________________________________________\n",
      "Layer (type)                 Output Shape              Param #   \n",
      "=================================================================\n",
      "lstm (LSTM)                  (None, 100, 256)          299008    \n",
      "_________________________________________________________________\n",
      "lstm_1 (LSTM)                (None, 256)               525312    \n",
      "_________________________________________________________________\n",
      "dense (Dense)                (None, 35)                8995      \n",
      "=================================================================\n",
      "Total params: 833,315\n",
      "Trainable params: 833,315\n",
      "Non-trainable params: 0\n",
      "_________________________________________________________________\n"
     ]
    }
   ],
   "source": [
    "# Build the Model\n",
    "# Enter your code here:\n",
    "model = keras.models.Sequential()\n",
    "model.add(LSTM(256, input_shape=(window_size, len(chars)), return_sequences = True))\n",
    "model.add(LSTM(256))\n",
    "model.add(Dense(len(chars), activation='softmax'))\n",
    "\n",
    "model.summary()\n",
    "\n",
    "optimizer = optimizers.RMSprop(lr=0.005)\n",
    "model.compile(loss='categorical_crossentropy', optimizer=optimizer, metrics=['acc'])"
   ]
  },
  {
   "cell_type": "code",
   "execution_count": 21,
   "metadata": {},
   "outputs": [
    {
     "name": "stdout",
     "output_type": "stream",
     "text": [
      "epoch 1\n",
      "Train on 145131 samples\n",
      "145131/145131 [==============================] - 275s 2ms/sample - loss: 2.4168 - acc: 0.3027\n",
      "--- Generating with seed: \"an it promised to be; quitedramatic, in fact.yes; it struck me as being a little out of the common.t\"\n",
      "------ temperature: 0.2\n",
      "an it promised to be; quitedramatic, in fact.yes; it struck me as being a little out of the common.the shave a could and the that a could and the said a shave in the could and the was a man a could and the can the said the case the was i was i said a could and that i can the bat the mas i have the man the said that i have the could and that the was a sound the was a could and the can a could the a\n",
      "------ temperature: 0.5\n",
      "an the said that i have the could and that the was a sound the was a could and the can a could the asher in that that i cas you was sherongoon, and a could farn to the not with the sournoun that i came at the said a could the have the could and that things that i ame im she could and at the man the thould nour of the fan andon it the allot the tare a slang and in the that i have was olle. i have t\n",
      "------ temperature: 1.0\n",
      "thould nour of the fan andon it the allot the tare a slang and in the that i have was olle. i have to thee.ous or stindan with wim, hour it ass all thameracthaling to nom ad his that ame for fars troring sat hed.we bot in a par has shay doun no ween in him as. i tourlicathac were u en it pondov she cohnon. call now non thigh is insugleound if may proved nos ithach that?o canpolued, whin o him, i w\n",
      "------ temperature: 1.2\n",
      "cohnon. call now non thigh is insugleound if may proved nos ithach that?o canpolued, whin o him, i wat 'the asser woss is to ming pusha. was went i danar, lage for fain kentiraedwito you was hosnmichug it a qite indaexed with i shlullpear anded,dous onthome indo about -was gnaghdes as i ahond anxollatur if to it nothim clame ryon in that as of to dighthats?alve siguwbinfusming thene oncould ret we\n",
      "epoch 2\n",
      "Train on 145131 samples\n",
      "145131/145131 [==============================] - 273s 2ms/sample - loss: 1.8117 - acc: 0.4623\n",
      "--- Generating with seed: \"andy and water within his reach.it is easy to see that your experience has been no common one,mr. ha\"\n",
      "------ temperature: 0.2\n",
      "andy and water within his reach.it is easy to see that your experience has been no common one,mr. hard and the stold and a seen in the sold of the sold of the wornd of the advertion. i think in the only to be the instered to the sold to the complession. i think and in the only was a solong and the and the complession. i samper, and i was a little of the door he. i said in the doon the some the and\n",
      "------ temperature: 0.5\n",
      "nd the complession. i samper, and i was a little of the door he. i said in the doon the some the and been in the sleet of the worn, indeed the one the insteps, said i follow dean one in the doon. i could nothe only mene, and i had betine the fell would been and i askended of the look only let of the deed of ment was and a come to be to to the polite and feer into the tocked, said the count and the\n",
      "------ temperature: 1.0\n",
      " deed of ment was and a come to be to to the polite and feer into the tocked, said the count and theen we ar a just up the poed of crose. there havilous , litely little it was found-high- mornies.i would you uncold been mease in holdes.yo thit dissunfore and me.at i may becoured. i sacped lade friend thought he lear, andferts of you callistill the sugn of the doar the rightle cullowed, bylooge to \n",
      "------ temperature: 1.2\n",
      "d thought he lear, andferts of you callistill the sugn of the doar the rightle cullowed, bylooge to on up and indaslind himchied, it!he as. itgreed, mr.,erloct had bewas wookenwreed when i'way us inquictamprelogm.out-of and seen reing-pelabmiss,, onathe seekone knowmowice anodler, ads onarat in myfresdofn from hebruand thyo beat as reanf.i have it out,which a. that whisbuod yound read-to toldecad.\n",
      "epoch 3\n",
      "Train on 145131 samples\n",
      "145131/145131 [==============================] - 268s 2ms/sample - loss: 1.6049 - acc: 0.5207\n",
      "--- Generating with seed: \" i sent the house-maid for the police and put theinvestigation into their hands at once. when the in\"\n",
      "------ temperature: 0.2\n",
      " i sent the house-maid for the police and put theinvestigation into their hands at once. when the instent of the possible to me that she is not the corner of the possible of the const of the singular and confessing the coroner of the possible to be an house, and i have no down the possible to seem that i have not to the corner of the const of the matter without of the matter which i have not the d\n",
      "------ temperature: 0.5\n",
      "hat i have not to the corner of the const of the matter without of the matter which i have not the dear the possing of the oldle the corner of the about the an one of the strong both instranger stangers which are of a found of the cound, and for the papers of the possion of the stroat of should reason the poser and larged that the hair head of the and town in a could possibly the possess for a chi\n",
      "------ temperature: 1.0\n",
      "on the poser and larged that the hair head of the and town in a could possibly the possess for a chinugled certaghers inve the roses, and only is two into the wighly to trise antherhamsseven obone him.and indo th the mactions twone dups, probersbeploqked up,ary my head of mither. yoursmeely verty's, of a foo instoonly runling to book in a do to manahins bodge. all for she fathourpositations. said \n",
      "------ temperature: 1.2\n",
      " of a foo instoonly runling to book in a do to manahins bodge. all for she fathourpositations. said up.'gherurold yeat suqhes into goodn upon his peek in in at hisfacterelly trespection leker would think yhears of it, he assaged. 'i sparedbucry at tow vookered ofwho notskings. at was not by the quigl, as hetwusn undelly until swrye, glaved upon thesomuningane stroving who cuts oned ang hrieses dro\n",
      "epoch 4\n",
      "Train on 145131 samples\n",
      "145131/145131 [==============================] - 265s 2ms/sample - loss: 1.4712 - acc: 0.5568\n",
      "--- Generating with seed: \"r might take an immediate departure, and so necessitatevery prompt and energetic measures on my part\"\n",
      "------ temperature: 0.2\n",
      "r might take an immediate departure, and so necessitatevery prompt and energetic measures on my part and the matter with a crime the dark to the colonely street the strange and the dark to the man which i had a very disturned to me that i have a may to be the corner of the cabber and the door of the case of the door of the time to the driving the discovered to me the strange in the case which i ha\n",
      "------ temperature: 0.5\n",
      " case of the door of the time to the driving the discovered to me the strange in the case which i had dress the care of the hore to return the engleman would not come to comman to be such to him, did i have had a crime that i have had been such a violent which was a man on the door and the thing of a face of the man which it was a word and far and in conficult and a for a chie soon the same an end\n",
      "------ temperature: 1.0\n",
      "a face of the man which it was a word and far and in conficult and a for a chie soon the same an ender to breaker to an active the persound.for the case-of the every moblow and thefort of a trapeing beght a strange door and i had the famy to more was notten?you at the room. where all to clears the lagies, and i ah room to be valy, in the award from the points every matter up than our strace in at \n",
      "------ temperature: 1.2\n",
      "agies, and i ah room to be valy, in the award from the points every matter up than our strace in at relewewho fiel?i gaved to which the had.was nuturntoutly ord for euked!but it is hather firle dif upon holmer to deareequor. a mind tegh apfupe one engle and wrote from the table on aloue gevendu.i can come to a raturnishes reaxh.old san atyso engly to clearle.through your own done most, he while i \n",
      "epoch 5\n",
      "Train on 145131 samples\n",
      "145131/145131 [==============================] - 264s 2ms/sample - loss: 1.3643 - acc: 0.5854\n",
      "--- Generating with seed: \" broke loose andfluttered off among the others.'whatever were you doing with that bird, jem?' says s\"\n",
      "------ temperature: 0.2\n",
      " broke loose andfluttered off among the others.'whatever were you doing with that bird, jem?' says said i, he should seem that i shall be so do to see that i shall be so to see that i have been a boots was so to the coroner to see that i shall be a sounder of the day was a small of the direction of the man who was not to be a barring and of the man with a street of the man with a start, with a sta\n",
      "------ temperature: 0.5\n",
      "the man who was not to be a barring and of the man with a street of the man with a start, with a start of a forty than any double with a strong with a still contrace could be when i heard it is an immore than a shand gone to me as to see that i felt was to be are that i shall be my wife of the dargers of she was to the darg of the man who is to find me in the success. he drown to be a bood-holmes'\n",
      "------ temperature: 1.0\n",
      "rs of she was to the darg of the man who is to find me in the success. he drown to be a bood-holmes'precious, broughtichless, but it was as a hand.torave over it forty, saidhe, iponficity plice fine,' from this grooms which is way well, your mall--watson, with sort and with finds werebrief supsion. i dustedvidued tenkledin for are it eluly from that will, said she, but if you order-ory the kindacf\n",
      "------ temperature: 1.2\n",
      "i dustedvidued tenkledin for are it eluly from that will, said she, but if you order-ory the kindacf ordin fanciance, mr. nacist! los my way, but on ond to---i under that you mayoakness.myhs didesy offur, said down but, in the right ergonsive, mr.heery-spehizen, tillardloised into abongmentbo'k,, good holmes in gendenming told tovery wifelessart desegaing.i ceul! mards.intonoow the prequalted with\n",
      "epoch 6\n",
      "Train on 145131 samples\n",
      "145131/145131 [==============================] - 265s 2ms/sample - loss: 1.2689 - acc: 0.6109\n",
      "--- Generating with seed: \"ter. every morning i was there at ten, and every afternoon ileft at two. by degrees mr. duncan ross \"\n",
      "------ temperature: 0.2\n",
      "ter. every morning i was there at ten, and every afternoon ileft at two. by degrees mr. duncan ross holmes, the door was a little doubt of the dead that i had a very most eyes and we should do i had the stall when he had the most a singular copped in the words when he had a personer to him to see that i had a deterning the stood the spond who is a very double doubt the side of the morning who is t\n",
      "------ temperature: 0.5\n",
      "at i had a deterning the stood the spond who is a very double doubt the side of the morning who is the search of you may say the inspector. i have his country. the possibent the most side of the stairs and his provession and the should my doubt in the correspectory a room which he looked the lady who dready a little doubt the matter was a posted of the way with the police and the door of the delic\n",
      "------ temperature: 1.0\n",
      "o dready a little doubt the matter was a posted of the way with the police and the door of the delicab and strong me to gothe sold. why,to entere to miss dotag as i could make me near-less onet there is in herself to go in now, who does of the etter came when sires addressed it closed. i only conseith lotterwas went forgouble ando court be so crops to the offices. no. he may excrisentlycumble liic\n",
      "------ temperature: 1.2\n",
      "th lotterwas went forgouble ando court be so crops to the offices. no. he may excrisentlycumble liich and a matfer at one,his pew a fabbery goom-nout firrance, but onverutation upon the mattershamplars were cawe onesother bwaysomportain from home so surreed that i must a little loss of earsured is some fied.she will wewho ope warminuted him withon all up?he woodening when you smare before, i ssull\n",
      "epoch 7\n",
      "Train on 145131 samples\n",
      "145131/145131 [==============================] - 261s 2ms/sample - loss: 1.1776 - acc: 0.6377\n",
      "--- Generating with seed: \"nce which is inmany ways unique, and by hearing the very remarkable narrative ofthe red-headed leagu\"\n",
      "------ temperature: 0.2\n",
      "nce which is inmany ways unique, and by hearing the very remarkable narrative ofthe red-headed league, and it was a little passer and a couple of stept of the corner of the country was at the best and searched, and it was a country for the matter and a couple of some experience of the corner of the lady. i have no doubt the stair of the matter and a chair and deadly papers age. it was a rest to th\n",
      "------ temperature: 0.5\n",
      "lady. i have no doubt the stair of the matter and a chair and deadly papers age. it was a rest to the main by a state. here is well surprise and after the only family and too the advertice is an once the first doing that i am an officiel that the money and agent and result us dristoner to me. i was after it and get up again. the door was at the passers of the dead and one sorbons against upon his \n",
      "------ temperature: 1.0\n",
      "after it and get up again. the door was at the passers of the dead and one sorbons against upon his king above. which mnsed to long, and occar and everysee how a very dusden.lydressor one ell.i see?ne, but i remembed the ladd mad and so deless before we entered.my head?goom story, closely before he kindent of the fluec tressedd. heremy redrise. and you againe everybut the machine.descriet, then ha\n",
      "------ temperature: 1.2\n",
      "kindent of the fluec tressedd. heremy redrise. and you againe everybut the machine.descriet, then having aged it, during tuldy, agehing amister.'what waitenellever hald known out that muchiner startly gained, robe away into tenxgend?mygon'toloory's.but we are our stephad for a weeldinglaid?this roughhead-taking the bustruff of an obvious ofnormey, and the hall. 'there wasneener all one fromaving h\n",
      "epoch 8\n",
      "Train on 145131 samples\n",
      "145131/145131 [==============================] - 261s 2ms/sample - loss: 1.0908 - acc: 0.6618\n",
      "--- Generating with seed: \"atson, we are, i fancy, nearing the end of ourquest, and the only point which remains to be determin\"\n",
      "------ temperature: 0.2\n",
      "atson, we are, i fancy, nearing the end of ourquest, and the only point which remains to be determined to any comman of the coloured delicateminural should like to you. it is a man for helf the streets of the chasmer before a delicate to him. they were to the colonel of the coloured story to the confurally should like in the chesk of the coloured cliest you to see that the story to the conclured a\n",
      "------ temperature: 0.5\n",
      "furally should like in the chesk of the coloured cliest you to see that the story to the conclured anstreets which had been better to her she would not so pressminatemation of the better with the other street. it was a dreadful book of the word, and the concluries were commany of the creeth from the gentlement at the corner for see to a station, which had been been a field deduce. it was the stair\n",
      "------ temperature: 1.0\n",
      " gentlement at the corner for see to a station, which had been been a field deduce. it was the stair. lay and locked one. great of cudder to mean. i quested in fronind street. well had you the passage of thehout. for the bestle.and diwcarrather sincurtive. it will our xall to-primation.it recorce about nither provestious.it could litely wrong to me to weet here it would be a coonermamily st. it ru\n",
      "------ temperature: 1.2\n",
      "out nither provestious.it could litely wrong to me to weet here it would be a coonermamily st. it rut on the helfhad mawn son, heh was on actiar for me a secret, when he could not fellom weathing notelpau.i recentraturalliowatforman. aman lookly with forly little at the year-life of a staping of hercuge above, he remarked, then,ghing man in a conclusitive forment calker.birade-keel-preaservessnour\n",
      "epoch 9\n",
      "Train on 145131 samples\n",
      "145131/145131 [==============================] - 261s 2ms/sample - loss: 1.0101 - acc: 0.6848\n",
      "--- Generating with seed: \"an were just like the buzz of a bee in myear. i didn't know what to do. should i stop the service an\"\n",
      "------ temperature: 0.2\n"
     ]
    },
    {
     "name": "stdout",
     "output_type": "stream",
     "text": [
      "an were just like the buzz of a bee in myear. i didn't know what to do. should i stop the service and was the passage upon the stair. they were all the same could not say that there is another passers and as i shall be so down into the carriage to me, he was all the same cheeks, when i have been several of the passage. the same constable to the streets of the room. there is always a little of the \n",
      "------ temperature: 0.5\n",
      "eral of the passage. the same constable to the streets of the room. there is always a little of the case of the room at her had been marriage a second in the house, and all this man with the conversed by the loss of the striks of his plang. they he could holmes look to see how then enventh of yourself to do it ago, without such a slich of the door. they were could have to here after mycompaning an\n",
      "------ temperature: 1.0\n",
      "lf to do it ago, without such a slich of the door. they were could have to here after mycompaning and easy with forme. that was this many as to that town rewhomed you will, said holmes. i am all absolutely upon more than once thepassmed to afyaw that he was deyoung all the churacter. and they had been st. play who arternstone deviderar proveing the seeply of thematters. in your bird?who had a very\n",
      "------ temperature: 1.2\n",
      "en st. play who arternstone deviderar proveing the seeply of thematters. in your bird?who had a very wordsward that if any wodger  doarey!his gonefy know viale for since of thelaughwardnewthere.and what o questioningagain upon frelp into-none, on the light sutherly. prawebandable man, he voise until seem, andpawer not three, earnestrangerad out intheswillingposkible,let in our left until turno us.\n",
      "epoch 10\n",
      "Train on 145131 samples\n",
      "145131/145131 [==============================] - 261s 2ms/sample - loss: 0.9331 - acc: 0.7068\n",
      "--- Generating with seed: \"manner indicated, thatneed cause you no inconvenience. as regards your hair, it is nodoubt a pity, e\"\n",
      "------ temperature: 0.2\n",
      "manner indicated, thatneed cause you no inconvenience. as regards your hair, it is nodoubt a pity, even more the man who is alire than a client of my life and the strange pats and here is a very secrect and the bridegroom with a strong for the confrience. and the man who is always as i have been strong down the stairs of the strick for the concluring the presence of the man who is along the strang\n",
      "------ temperature: 0.5\n",
      "ong down the stairs of the strick for the concluring the presence of the man who is along the strange of the strick from the dark that you may see thing fellow me. if you see? him all the dark of the house, and the man with a stable little impression out and his hand as mury.but his hand the marriage to make the matter was interved to the matter was a very man of an hour would have been senely tha\n",
      "------ temperature: 1.0\n",
      "e to make the matter was interved to the matter was a very man of an hour would have been senely thanmowed my interest, said he. 'might her fandyinctten instincates.it may threwhith you are subtlest chair and when he shouted from the corred woman had came the man who had aline two are. pechling anasraped upon indisap maktic appoured, she ranced my ams or came-reason waveray past axallto the corner\n",
      "------ temperature: 1.2\n",
      "raped upon indisap maktic appoured, she ranced my ams or came-reason waveray past axallto the corner.you did all-nervons glancing a gaodress, of cariflein chey winds owher manner, you be it.lesire, mr y practicall, sofover this good hand gliep, alendy mamely in the sharp folded agoer.'oh, yes, she spraight, that the years lattlewh sunding a funny pabound. 'i hear the dea. for liniagalyawarrow his \n"
     ]
    }
   ],
   "source": [
    "all_history_acc = []\n",
    "all_history_loss = []\n",
    "for epoch in range(1, 11):\n",
    "    print('epoch', epoch)\n",
    "    # Fit the model for 1 epoch on the available training data\n",
    "    history = model.fit(X, y,\n",
    "              batch_size=512,\n",
    "              epochs=1)\n",
    "    all_history_acc.append(history.history['acc'][0])\n",
    "    all_history_loss.append(history.history['loss'][0])\n",
    "    # Select a text seed at random\n",
    "    start_index = random.randint(0, len(text) - window_size - 1)\n",
    "    generated_text = text[start_index: start_index + window_size]\n",
    "    print('--- Generating with seed: \"' + generated_text + '\"')\n",
    "\n",
    "    for temperature in [0.2, 0.5, 1.0, 1.2]:\n",
    "        print('------ temperature:', temperature)\n",
    "        sys.stdout.write(generated_text)\n",
    "\n",
    "        # We generate 300 characters\n",
    "        for i in range(300):\n",
    "            sampled = np.zeros((1, window_size, len(chars)))\n",
    "            for t, char in enumerate(generated_text):\n",
    "                sampled[0, t, chars_to_indices[char]] = 1.\n",
    "\n",
    "            preds = model.predict(sampled, verbose=0)[0]\n",
    "            next_index = sample(preds, temperature)\n",
    "            next_char = chars[next_index]\n",
    "\n",
    "            generated_text += next_char #add 1 letter\n",
    "            generated_text = generated_text[1:] #get last 60 letters\n",
    "\n",
    "            sys.stdout.write(next_char)\n",
    "            sys.stdout.flush()\n",
    "        print()"
   ]
  },
  {
   "cell_type": "code",
   "execution_count": 22,
   "metadata": {},
   "outputs": [
    {
     "data": {
      "image/png": "[encoded data removed]",
      "text/plain": [
       "<Figure size 432x288 with 1 Axes>"
      ]
     },
     "metadata": {
      "needs_background": "light"
     },
     "output_type": "display_data"
    },
    {
     "data": {
      "image/png": "[encoded data removed]",
      "text/plain": [
       "<Figure size 432x288 with 1 Axes>"
      ]
     },
     "metadata": {
      "needs_background": "light"
     },
     "output_type": "display_data"
    }
   ],
   "source": [
    "epochs = range(len(all_history_acc))\n",
    "\n",
    "plt.plot(epochs, all_history_acc, 'b', label='Training acc')\n",
    "plt.title('Training and validation accuracy')\n",
    "plt.legend()\n",
    "\n",
    "plt.figure()\n",
    "\n",
    "plt.plot(epochs, all_history_loss, 'b', label='Training loss')\n",
    "plt.title('Training and validation loss')\n",
    "plt.legend()\n",
    "\n",
    "plt.show()"
   ]
  },
  {
   "cell_type": "code",
   "execution_count": 23,
   "metadata": {},
   "outputs": [],
   "source": [
    "model.save('chgen_model_8.h5')"
   ]
  },
  {
   "cell_type": "markdown",
   "metadata": {},
   "source": [
    "# Model 9"
   ]
  },
  {
   "cell_type": "code",
   "execution_count": 13,
   "metadata": {},
   "outputs": [],
   "source": [
    "# perform one-hot encoding of inputs and labels\n",
    "window_size = 75\n",
    "X, y = encode_io_pairs(text, window_size)"
   ]
  },
  {
   "cell_type": "code",
   "execution_count": 14,
   "metadata": {},
   "outputs": [
    {
     "name": "stdout",
     "output_type": "stream",
     "text": [
      "Model: \"sequential\"\n",
      "_________________________________________________________________\n",
      "Layer (type)                 Output Shape              Param #   \n",
      "=================================================================\n",
      "lstm (LSTM)                  (None, 75, 256)           299008    \n",
      "_________________________________________________________________\n",
      "lstm_1 (LSTM)                (None, 256)               525312    \n",
      "_________________________________________________________________\n",
      "dense (Dense)                (None, 35)                8995      \n",
      "=================================================================\n",
      "Total params: 833,315\n",
      "Trainable params: 833,315\n",
      "Non-trainable params: 0\n",
      "_________________________________________________________________\n"
     ]
    }
   ],
   "source": [
    "# Build the Model\n",
    "# Enter your code here:\n",
    "model = keras.models.Sequential()\n",
    "model.add(LSTM(256, input_shape=(window_size, len(chars)), return_sequences = True))\n",
    "model.add(LSTM(256))\n",
    "model.add(Dense(len(chars), activation='softmax'))\n",
    "\n",
    "model.summary()\n",
    "\n",
    "optimizer = optimizers.RMSprop(lr=0.005)\n",
    "model.compile(loss='categorical_crossentropy', optimizer=optimizer, metrics=['acc'])"
   ]
  },
  {
   "cell_type": "code",
   "execution_count": 15,
   "metadata": {},
   "outputs": [],
   "source": [
    "model.load_weights('chgen_model_8.h5')"
   ]
  },
  {
   "cell_type": "code",
   "execution_count": 16,
   "metadata": {},
   "outputs": [
    {
     "name": "stdout",
     "output_type": "stream",
     "text": [
      "epoch 1\n",
      "Train on 145137 samples\n",
      "145137/145137 [==============================] - 198s 1ms/sample - loss: 1.5152 - acc: 0.5552\n",
      "--- Generating with seed: \" not restrain me fromshowing my impatience.'i beg that you will state your \"\n",
      "------ temperature: 0.2\n",
      " not restrain me fromshowing my impatience.'i beg that you will state your father was a little start and had seen the best and was he has a little man who had she passed the passage and manner of the lady was a man with his shoulder that i shall have seen the best and had a small of the street. he was a little for the papers of the lady was a little papers of the lady was \n",
      "------ temperature: 0.5\n",
      "as a little for the papers of the lady was a little papers of the lady was worthe should see that i should be the count, with his shoulders and fingers of the silence and the eddication clump in a case of more by anyone purpless. asked the world that it is a little that i was now that a faint into the man who is an always face and had been a man who weight then passed to t\n",
      "------ temperature: 1.0\n",
      "he man who is an always face and had been a man who weight then passed to the papp,come, you draweverytelimated, which heirtlesed ix the blue spresped off interest runes. at my sceaspation. ihould meaning that his boind of doyou hadscentraved her two parted. he criedinthing call-deahbeinsking that is a little have ahother in you, then? mr. holmes, que tered to the revilvea\n",
      "------ temperature: 1.2\n",
      "s a little have ahother in you, then? mr. holmes, que tered to the revilveawthefpen. that a very buniafiest of upon the brassike of the pard would crainst of thesteepedmapiobersavery cleared, however,week is then to my affeection lamchedtermit of bried, all you asked it didspparanceishes of edchallerischeyidest, peasus of the little half at came her in aminies bendadingret\n",
      "epoch 2\n",
      "Train on 145137 samples\n",
      "145137/145137 [==============================] - 194s 1ms/sample - loss: 1.3271 - acc: 0.6001\n",
      "--- Generating with seed: \" of a peculiar shadeof blue. it was of excellent material, a sort of beige,\"\n",
      "------ temperature: 0.2\n",
      " of a peculiar shadeof blue. it was of excellent material, a sort of beige, and that i shall see that i had set in the matter of the country side of the country of the case of the country for his chairs of the strength of the country for her possible of the country, and the country side of the country for her with him and took a long of the country for the country for the \n",
      "------ temperature: 0.5\n",
      "ry for her with him and took a long of the country for the country for the crowden in the station. of the curious could have where the bed for the real as the time which are some cry beneath the steps and small of a chairs of the boots. the official police of the silence which had been of the sign of a crime that she was unfortunt a very propose, and the securing that of i\n",
      "------ temperature: 1.0\n",
      "f a crime that she was unfortunt a very propose, and the securing that of i thre with his facttions with her withforlear. how could you. i have conclurs cast to for about it.'said largains she new may will roush. i have no disappeared,but it is by allowed. he wish piece a gentlemanner-time, watson, rather to lose, and would if starly wonderth it is long and bogry. well, wh\n",
      "------ temperature: 1.2\n",
      "rather to lose, and would if starly wonderth it is long and bogry. well, whuse balldytime plocked -posit,, through hairbought suthing with suchbrea-heaped; winders that youfaragofformay chilh salution impressed with about munul ofwese inkhere, wheth of the horning howey, subglic reduction, and uyon soof maid, do you,nearly?no. we will hald lif to yaringforefiel, as we both\n",
      "epoch 3\n",
      "Train on 145137 samples\n",
      "145137/145137 [==============================] - 194s 1ms/sample - loss: 1.2069 - acc: 0.6303\n",
      "--- Generating with seed: \"our room, and if you would be so good as to put it on we shouldboth be extr\"\n",
      "------ temperature: 0.2\n",
      "our room, and if you would be so good as to put it on we shouldboth be extraordinary days and that it was a gentleman who was so to his consider to my confidence as to the considerable formed at the considerable side of the conscietion in the papers of the lady. the constabur is the considerable assistance of strikes to his series of a shadow street it. i could easing the \n",
      "------ temperature: 0.5\n",
      "istance of strikes to his series of a shadow street it. i could easing the bankone of my book.well, what does the most confessed to me to read the morning. it is not your gentleman whom you were to see my father--' he spauled be attention to excreated at the serious connection. i was possibly all a sure that your chance to the series of the considerable land and the side o\n",
      "------ temperature: 1.0\n",
      "sure that your chance to the series of the considerable land and the side of the fire. hell my efto longon. got its chestroll. a lateur when the little. i trust that hemaid the matter was ponsidence in.mrs. runciny cour retheries light it not gold to-step. the lady came of this unimout. for cooliet! deduce, confresence, to my wife fifty pressing and fent. we can all come i\n",
      "------ temperature: 1.2\n",
      " deduce, confresence, to my wife fifty pressing and fent. we can all come in that matters. i amsocrivatell roushy she vectures from me traveller.how a lanny cried. said no, that, and its a did not say.'mrs;  rungs to thesvery own exchurches, is lemm stiff, one her wishestened to murght had only had given youwas ven. there too, drew 's at narrow rathel you?do! re-leaves ste\n",
      "epoch 4\n",
      "Train on 145137 samples\n",
      "129024/145137 [=========================>....] - ETA: 21s - loss: 1.0945 - acc: 0.6612"
     ]
    },
    {
     "ename": "InternalError",
     "evalue": "GPU sync failed",
     "output_type": "error",
     "traceback": [
      "\u001b[1;31m---------------------------------------------------------------------------\u001b[0m",
      "\u001b[1;31mInternalError\u001b[0m                             Traceback (most recent call last)",
      "\u001b[1;32m<ipython-input-16-3d541d8d679e>\u001b[0m in \u001b[0;36m<module>\u001b[1;34m\u001b[0m\n\u001b[0;32m      6\u001b[0m     history = model.fit(X_train, y_train,\n\u001b[0;32m      7\u001b[0m               \u001b[0mbatch_size\u001b[0m\u001b[1;33m=\u001b[0m\u001b[1;36m512\u001b[0m\u001b[1;33m,\u001b[0m\u001b[1;33m\u001b[0m\u001b[1;33m\u001b[0m\u001b[0m\n\u001b[1;32m----> 8\u001b[1;33m               epochs=1)\n\u001b[0m\u001b[0;32m      9\u001b[0m     \u001b[0mall_history_acc\u001b[0m\u001b[1;33m.\u001b[0m\u001b[0mappend\u001b[0m\u001b[1;33m(\u001b[0m\u001b[0mhistory\u001b[0m\u001b[1;33m.\u001b[0m\u001b[0mhistory\u001b[0m\u001b[1;33m[\u001b[0m\u001b[1;34m'acc'\u001b[0m\u001b[1;33m]\u001b[0m\u001b[1;33m[\u001b[0m\u001b[1;36m0\u001b[0m\u001b[1;33m]\u001b[0m\u001b[1;33m)\u001b[0m\u001b[1;33m\u001b[0m\u001b[1;33m\u001b[0m\u001b[0m\n\u001b[0;32m     10\u001b[0m     \u001b[0mall_history_loss\u001b[0m\u001b[1;33m.\u001b[0m\u001b[0mappend\u001b[0m\u001b[1;33m(\u001b[0m\u001b[0mhistory\u001b[0m\u001b[1;33m.\u001b[0m\u001b[0mhistory\u001b[0m\u001b[1;33m[\u001b[0m\u001b[1;34m'loss'\u001b[0m\u001b[1;33m]\u001b[0m\u001b[1;33m[\u001b[0m\u001b[1;36m0\u001b[0m\u001b[1;33m]\u001b[0m\u001b[1;33m)\u001b[0m\u001b[1;33m\u001b[0m\u001b[1;33m\u001b[0m\u001b[0m\n",
      "\u001b[1;32m~\\Anaconda3\\lib\\site-packages\\tensorflow_core\\python\\keras\\engine\\training.py\u001b[0m in \u001b[0;36mfit\u001b[1;34m(self, x, y, batch_size, epochs, verbose, callbacks, validation_split, validation_data, shuffle, class_weight, sample_weight, initial_epoch, steps_per_epoch, validation_steps, validation_freq, max_queue_size, workers, use_multiprocessing, **kwargs)\u001b[0m\n\u001b[0;32m    817\u001b[0m         \u001b[0mmax_queue_size\u001b[0m\u001b[1;33m=\u001b[0m\u001b[0mmax_queue_size\u001b[0m\u001b[1;33m,\u001b[0m\u001b[1;33m\u001b[0m\u001b[1;33m\u001b[0m\u001b[0m\n\u001b[0;32m    818\u001b[0m         \u001b[0mworkers\u001b[0m\u001b[1;33m=\u001b[0m\u001b[0mworkers\u001b[0m\u001b[1;33m,\u001b[0m\u001b[1;33m\u001b[0m\u001b[1;33m\u001b[0m\u001b[0m\n\u001b[1;32m--> 819\u001b[1;33m         use_multiprocessing=use_multiprocessing)\n\u001b[0m\u001b[0;32m    820\u001b[0m \u001b[1;33m\u001b[0m\u001b[0m\n\u001b[0;32m    821\u001b[0m   def evaluate(self,\n",
      "\u001b[1;32m~\\Anaconda3\\lib\\site-packages\\tensorflow_core\\python\\keras\\engine\\training_v2.py\u001b[0m in \u001b[0;36mfit\u001b[1;34m(self, model, x, y, batch_size, epochs, verbose, callbacks, validation_split, validation_data, shuffle, class_weight, sample_weight, initial_epoch, steps_per_epoch, validation_steps, validation_freq, max_queue_size, workers, use_multiprocessing, **kwargs)\u001b[0m\n\u001b[0;32m    340\u001b[0m                 \u001b[0mmode\u001b[0m\u001b[1;33m=\u001b[0m\u001b[0mModeKeys\u001b[0m\u001b[1;33m.\u001b[0m\u001b[0mTRAIN\u001b[0m\u001b[1;33m,\u001b[0m\u001b[1;33m\u001b[0m\u001b[1;33m\u001b[0m\u001b[0m\n\u001b[0;32m    341\u001b[0m                 \u001b[0mtraining_context\u001b[0m\u001b[1;33m=\u001b[0m\u001b[0mtraining_context\u001b[0m\u001b[1;33m,\u001b[0m\u001b[1;33m\u001b[0m\u001b[1;33m\u001b[0m\u001b[0m\n\u001b[1;32m--> 342\u001b[1;33m                 total_epochs=epochs)\n\u001b[0m\u001b[0;32m    343\u001b[0m             \u001b[0mcbks\u001b[0m\u001b[1;33m.\u001b[0m\u001b[0mmake_logs\u001b[0m\u001b[1;33m(\u001b[0m\u001b[0mmodel\u001b[0m\u001b[1;33m,\u001b[0m \u001b[0mepoch_logs\u001b[0m\u001b[1;33m,\u001b[0m \u001b[0mtraining_result\u001b[0m\u001b[1;33m,\u001b[0m \u001b[0mModeKeys\u001b[0m\u001b[1;33m.\u001b[0m\u001b[0mTRAIN\u001b[0m\u001b[1;33m)\u001b[0m\u001b[1;33m\u001b[0m\u001b[1;33m\u001b[0m\u001b[0m\n\u001b[0;32m    344\u001b[0m \u001b[1;33m\u001b[0m\u001b[0m\n",
      "\u001b[1;32m~\\Anaconda3\\lib\\site-packages\\tensorflow_core\\python\\keras\\engine\\training_v2.py\u001b[0m in \u001b[0;36mrun_one_epoch\u001b[1;34m(model, iterator, execution_function, dataset_size, batch_size, strategy, steps_per_epoch, num_samples, mode, training_context, total_epochs)\u001b[0m\n\u001b[0;32m    126\u001b[0m         step=step, mode=mode, size=current_batch_size) as batch_logs:\n\u001b[0;32m    127\u001b[0m       \u001b[1;32mtry\u001b[0m\u001b[1;33m:\u001b[0m\u001b[1;33m\u001b[0m\u001b[1;33m\u001b[0m\u001b[0m\n\u001b[1;32m--> 128\u001b[1;33m         \u001b[0mbatch_outs\u001b[0m \u001b[1;33m=\u001b[0m \u001b[0mexecution_function\u001b[0m\u001b[1;33m(\u001b[0m\u001b[0miterator\u001b[0m\u001b[1;33m)\u001b[0m\u001b[1;33m\u001b[0m\u001b[1;33m\u001b[0m\u001b[0m\n\u001b[0m\u001b[0;32m    129\u001b[0m       \u001b[1;32mexcept\u001b[0m \u001b[1;33m(\u001b[0m\u001b[0mStopIteration\u001b[0m\u001b[1;33m,\u001b[0m \u001b[0merrors\u001b[0m\u001b[1;33m.\u001b[0m\u001b[0mOutOfRangeError\u001b[0m\u001b[1;33m)\u001b[0m\u001b[1;33m:\u001b[0m\u001b[1;33m\u001b[0m\u001b[1;33m\u001b[0m\u001b[0m\n\u001b[0;32m    130\u001b[0m         \u001b[1;31m# TODO(kaftan): File bug about tf function and errors.OutOfRangeError?\u001b[0m\u001b[1;33m\u001b[0m\u001b[1;33m\u001b[0m\u001b[1;33m\u001b[0m\u001b[0m\n",
      "\u001b[1;32m~\\Anaconda3\\lib\\site-packages\\tensorflow_core\\python\\keras\\engine\\training_v2_utils.py\u001b[0m in \u001b[0;36mexecution_function\u001b[1;34m(input_fn)\u001b[0m\n\u001b[0;32m     96\u001b[0m     \u001b[1;31m# `numpy` translates Tensors to values in Eager mode.\u001b[0m\u001b[1;33m\u001b[0m\u001b[1;33m\u001b[0m\u001b[1;33m\u001b[0m\u001b[0m\n\u001b[0;32m     97\u001b[0m     return nest.map_structure(_non_none_constant_value,\n\u001b[1;32m---> 98\u001b[1;33m                               distributed_function(input_fn))\n\u001b[0m\u001b[0;32m     99\u001b[0m \u001b[1;33m\u001b[0m\u001b[0m\n\u001b[0;32m    100\u001b[0m   \u001b[1;32mreturn\u001b[0m \u001b[0mexecution_function\u001b[0m\u001b[1;33m\u001b[0m\u001b[1;33m\u001b[0m\u001b[0m\n",
      "\u001b[1;32m~\\Anaconda3\\lib\\site-packages\\tensorflow_core\\python\\util\\nest.py\u001b[0m in \u001b[0;36mmap_structure\u001b[1;34m(func, *structure, **kwargs)\u001b[0m\n\u001b[0;32m    566\u001b[0m \u001b[1;33m\u001b[0m\u001b[0m\n\u001b[0;32m    567\u001b[0m   return pack_sequence_as(\n\u001b[1;32m--> 568\u001b[1;33m       \u001b[0mstructure\u001b[0m\u001b[1;33m[\u001b[0m\u001b[1;36m0\u001b[0m\u001b[1;33m]\u001b[0m\u001b[1;33m,\u001b[0m \u001b[1;33m[\u001b[0m\u001b[0mfunc\u001b[0m\u001b[1;33m(\u001b[0m\u001b[1;33m*\u001b[0m\u001b[0mx\u001b[0m\u001b[1;33m)\u001b[0m \u001b[1;32mfor\u001b[0m \u001b[0mx\u001b[0m \u001b[1;32min\u001b[0m \u001b[0mentries\u001b[0m\u001b[1;33m]\u001b[0m\u001b[1;33m,\u001b[0m\u001b[1;33m\u001b[0m\u001b[1;33m\u001b[0m\u001b[0m\n\u001b[0m\u001b[0;32m    569\u001b[0m       expand_composites=expand_composites)\n\u001b[0;32m    570\u001b[0m \u001b[1;33m\u001b[0m\u001b[0m\n",
      "\u001b[1;32m~\\Anaconda3\\lib\\site-packages\\tensorflow_core\\python\\util\\nest.py\u001b[0m in \u001b[0;36m<listcomp>\u001b[1;34m(.0)\u001b[0m\n\u001b[0;32m    566\u001b[0m \u001b[1;33m\u001b[0m\u001b[0m\n\u001b[0;32m    567\u001b[0m   return pack_sequence_as(\n\u001b[1;32m--> 568\u001b[1;33m       \u001b[0mstructure\u001b[0m\u001b[1;33m[\u001b[0m\u001b[1;36m0\u001b[0m\u001b[1;33m]\u001b[0m\u001b[1;33m,\u001b[0m \u001b[1;33m[\u001b[0m\u001b[0mfunc\u001b[0m\u001b[1;33m(\u001b[0m\u001b[1;33m*\u001b[0m\u001b[0mx\u001b[0m\u001b[1;33m)\u001b[0m \u001b[1;32mfor\u001b[0m \u001b[0mx\u001b[0m \u001b[1;32min\u001b[0m \u001b[0mentries\u001b[0m\u001b[1;33m]\u001b[0m\u001b[1;33m,\u001b[0m\u001b[1;33m\u001b[0m\u001b[1;33m\u001b[0m\u001b[0m\n\u001b[0m\u001b[0;32m    569\u001b[0m       expand_composites=expand_composites)\n\u001b[0;32m    570\u001b[0m \u001b[1;33m\u001b[0m\u001b[0m\n",
      "\u001b[1;32m~\\Anaconda3\\lib\\site-packages\\tensorflow_core\\python\\keras\\engine\\training_v2_utils.py\u001b[0m in \u001b[0;36m_non_none_constant_value\u001b[1;34m(v)\u001b[0m\n\u001b[0;32m    128\u001b[0m \u001b[1;33m\u001b[0m\u001b[0m\n\u001b[0;32m    129\u001b[0m \u001b[1;32mdef\u001b[0m \u001b[0m_non_none_constant_value\u001b[0m\u001b[1;33m(\u001b[0m\u001b[0mv\u001b[0m\u001b[1;33m)\u001b[0m\u001b[1;33m:\u001b[0m\u001b[1;33m\u001b[0m\u001b[1;33m\u001b[0m\u001b[0m\n\u001b[1;32m--> 130\u001b[1;33m   \u001b[0mconstant_value\u001b[0m \u001b[1;33m=\u001b[0m \u001b[0mtensor_util\u001b[0m\u001b[1;33m.\u001b[0m\u001b[0mconstant_value\u001b[0m\u001b[1;33m(\u001b[0m\u001b[0mv\u001b[0m\u001b[1;33m)\u001b[0m\u001b[1;33m\u001b[0m\u001b[1;33m\u001b[0m\u001b[0m\n\u001b[0m\u001b[0;32m    131\u001b[0m   \u001b[1;32mreturn\u001b[0m \u001b[0mconstant_value\u001b[0m \u001b[1;32mif\u001b[0m \u001b[0mconstant_value\u001b[0m \u001b[1;32mis\u001b[0m \u001b[1;32mnot\u001b[0m \u001b[1;32mNone\u001b[0m \u001b[1;32melse\u001b[0m \u001b[0mv\u001b[0m\u001b[1;33m\u001b[0m\u001b[1;33m\u001b[0m\u001b[0m\n\u001b[0;32m    132\u001b[0m \u001b[1;33m\u001b[0m\u001b[0m\n",
      "\u001b[1;32m~\\Anaconda3\\lib\\site-packages\\tensorflow_core\\python\\framework\\tensor_util.py\u001b[0m in \u001b[0;36mconstant_value\u001b[1;34m(tensor, partial)\u001b[0m\n\u001b[0;32m    820\u001b[0m   \"\"\"\n\u001b[0;32m    821\u001b[0m   \u001b[1;32mif\u001b[0m \u001b[0misinstance\u001b[0m\u001b[1;33m(\u001b[0m\u001b[0mtensor\u001b[0m\u001b[1;33m,\u001b[0m \u001b[0mops\u001b[0m\u001b[1;33m.\u001b[0m\u001b[0mEagerTensor\u001b[0m\u001b[1;33m)\u001b[0m\u001b[1;33m:\u001b[0m\u001b[1;33m\u001b[0m\u001b[1;33m\u001b[0m\u001b[0m\n\u001b[1;32m--> 822\u001b[1;33m     \u001b[1;32mreturn\u001b[0m \u001b[0mtensor\u001b[0m\u001b[1;33m.\u001b[0m\u001b[0mnumpy\u001b[0m\u001b[1;33m(\u001b[0m\u001b[1;33m)\u001b[0m\u001b[1;33m\u001b[0m\u001b[1;33m\u001b[0m\u001b[0m\n\u001b[0m\u001b[0;32m    823\u001b[0m   \u001b[1;32mif\u001b[0m \u001b[1;32mnot\u001b[0m \u001b[0mis_tensor\u001b[0m\u001b[1;33m(\u001b[0m\u001b[0mtensor\u001b[0m\u001b[1;33m)\u001b[0m\u001b[1;33m:\u001b[0m\u001b[1;33m\u001b[0m\u001b[1;33m\u001b[0m\u001b[0m\n\u001b[0;32m    824\u001b[0m     \u001b[1;32mreturn\u001b[0m \u001b[0mtensor\u001b[0m\u001b[1;33m\u001b[0m\u001b[1;33m\u001b[0m\u001b[0m\n",
      "\u001b[1;32m~\\Anaconda3\\lib\\site-packages\\tensorflow_core\\python\\framework\\ops.py\u001b[0m in \u001b[0;36mnumpy\u001b[1;34m(self)\u001b[0m\n\u001b[0;32m    940\u001b[0m     \"\"\"\n\u001b[0;32m    941\u001b[0m     \u001b[1;31m# TODO(slebedev): Consider avoiding a copy for non-CPU or remote tensors.\u001b[0m\u001b[1;33m\u001b[0m\u001b[1;33m\u001b[0m\u001b[1;33m\u001b[0m\u001b[0m\n\u001b[1;32m--> 942\u001b[1;33m     \u001b[0mmaybe_arr\u001b[0m \u001b[1;33m=\u001b[0m \u001b[0mself\u001b[0m\u001b[1;33m.\u001b[0m\u001b[0m_numpy\u001b[0m\u001b[1;33m(\u001b[0m\u001b[1;33m)\u001b[0m  \u001b[1;31m# pylint: disable=protected-access\u001b[0m\u001b[1;33m\u001b[0m\u001b[1;33m\u001b[0m\u001b[0m\n\u001b[0m\u001b[0;32m    943\u001b[0m     \u001b[1;32mreturn\u001b[0m \u001b[0mmaybe_arr\u001b[0m\u001b[1;33m.\u001b[0m\u001b[0mcopy\u001b[0m\u001b[1;33m(\u001b[0m\u001b[1;33m)\u001b[0m \u001b[1;32mif\u001b[0m \u001b[0misinstance\u001b[0m\u001b[1;33m(\u001b[0m\u001b[0mmaybe_arr\u001b[0m\u001b[1;33m,\u001b[0m \u001b[0mnp\u001b[0m\u001b[1;33m.\u001b[0m\u001b[0mndarray\u001b[0m\u001b[1;33m)\u001b[0m \u001b[1;32melse\u001b[0m \u001b[0mmaybe_arr\u001b[0m\u001b[1;33m\u001b[0m\u001b[1;33m\u001b[0m\u001b[0m\n\u001b[0;32m    944\u001b[0m \u001b[1;33m\u001b[0m\u001b[0m\n",
      "\u001b[1;32m~\\Anaconda3\\lib\\site-packages\\tensorflow_core\\python\\framework\\ops.py\u001b[0m in \u001b[0;36m_numpy\u001b[1;34m(self)\u001b[0m\n\u001b[0;32m    908\u001b[0m       \u001b[1;32mreturn\u001b[0m \u001b[0mself\u001b[0m\u001b[1;33m.\u001b[0m\u001b[0m_numpy_internal\u001b[0m\u001b[1;33m(\u001b[0m\u001b[1;33m)\u001b[0m\u001b[1;33m\u001b[0m\u001b[1;33m\u001b[0m\u001b[0m\n\u001b[0;32m    909\u001b[0m     \u001b[1;32mexcept\u001b[0m \u001b[0mcore\u001b[0m\u001b[1;33m.\u001b[0m\u001b[0m_NotOkStatusException\u001b[0m \u001b[1;32mas\u001b[0m \u001b[0me\u001b[0m\u001b[1;33m:\u001b[0m\u001b[1;33m\u001b[0m\u001b[1;33m\u001b[0m\u001b[0m\n\u001b[1;32m--> 910\u001b[1;33m       \u001b[0msix\u001b[0m\u001b[1;33m.\u001b[0m\u001b[0mraise_from\u001b[0m\u001b[1;33m(\u001b[0m\u001b[0mcore\u001b[0m\u001b[1;33m.\u001b[0m\u001b[0m_status_to_exception\u001b[0m\u001b[1;33m(\u001b[0m\u001b[0me\u001b[0m\u001b[1;33m.\u001b[0m\u001b[0mcode\u001b[0m\u001b[1;33m,\u001b[0m \u001b[0me\u001b[0m\u001b[1;33m.\u001b[0m\u001b[0mmessage\u001b[0m\u001b[1;33m)\u001b[0m\u001b[1;33m,\u001b[0m \u001b[1;32mNone\u001b[0m\u001b[1;33m)\u001b[0m\u001b[1;33m\u001b[0m\u001b[1;33m\u001b[0m\u001b[0m\n\u001b[0m\u001b[0;32m    911\u001b[0m \u001b[1;33m\u001b[0m\u001b[0m\n\u001b[0;32m    912\u001b[0m   \u001b[1;33m@\u001b[0m\u001b[0mproperty\u001b[0m\u001b[1;33m\u001b[0m\u001b[1;33m\u001b[0m\u001b[0m\n",
      "\u001b[1;32m~\\Anaconda3\\lib\\site-packages\\six.py\u001b[0m in \u001b[0;36mraise_from\u001b[1;34m(value, from_value)\u001b[0m\n",
      "\u001b[1;31mInternalError\u001b[0m: GPU sync failed"
     ]
    }
   ],
   "source": [
    "all_history_acc = []\n",
    "all_history_loss = []\n",
    "for epoch in range(1, 21):\n",
    "    print('epoch', epoch)\n",
    "    # Fit the model for 1 epoch on the available training data\n",
    "    history = model.fit(X_train, y_train,\n",
    "              batch_size=512,\n",
    "              epochs=1)\n",
    "    all_history_acc.append(history.history['acc'][0])\n",
    "    all_history_loss.append(history.history['loss'][0])\n",
    "    # Select a text seed at random\n",
    "    start_index = random.randint(0, len(text) - window_size - 1)\n",
    "    generated_text = text[start_index: start_index + window_size]\n",
    "    print('--- Generating with seed: \"' + generated_text + '\"')\n",
    "\n",
    "    for temperature in [0.2, 0.5, 1.0, 1.2]:\n",
    "        print('------ temperature:', temperature)\n",
    "        sys.stdout.write(generated_text)\n",
    "\n",
    "        # We generate 300 characters\n",
    "        for i in range(300):\n",
    "            sampled = np.zeros((1, window_size, len(chars)))\n",
    "            for t, char in enumerate(generated_text):\n",
    "                sampled[0, t, chars_to_indices[char]] = 1.\n",
    "\n",
    "            preds = model.predict(sampled, verbose=0)[0]\n",
    "            next_index = sample(preds, temperature)\n",
    "            next_char = chars[next_index]\n",
    "\n",
    "            generated_text += next_char #add 1 letter\n",
    "            generated_text = generated_text[1:] #get last 60 letters\n",
    "\n",
    "            sys.stdout.write(next_char)\n",
    "            sys.stdout.flush()\n",
    "        print()"
   ]
  },
  {
   "cell_type": "code",
   "execution_count": null,
   "metadata": {},
   "outputs": [],
   "source": [
    "epochs = range(len(all_history_acc))\n",
    "\n",
    "plt.plot(epochs, all_history_acc, 'b', label='Training acc')\n",
    "plt.title('Training and validation accuracy')\n",
    "plt.legend()\n",
    "\n",
    "plt.figure()\n",
    "\n",
    "plt.plot(epochs, all_history_loss, 'b', label='Training loss')\n",
    "plt.title('Training and validation loss')\n",
    "plt.legend()\n",
    "\n",
    "plt.show()"
   ]
  },
  {
   "cell_type": "code",
   "execution_count": null,
   "metadata": {},
   "outputs": [],
   "source": [
    "model.save('chgen_model_9.h5')"
   ]
  },
  {
   "cell_type": "markdown",
   "metadata": {},
   "source": [
    "# Model 10"
   ]
  },
  {
   "cell_type": "code",
   "execution_count": null,
   "metadata": {},
   "outputs": [],
   "source": [
    "# perform one-hot encoding of inputs and labels\n",
    "window_size = 125\n",
    "X, y = encode_io_pairs(text, window_size)"
   ]
  },
  {
   "cell_type": "code",
   "execution_count": null,
   "metadata": {},
   "outputs": [],
   "source": [
    "# Build the Model\n",
    "# Enter your code here:\n",
    "model = keras.models.Sequential()\n",
    "model.add(LSTM(256, input_shape=(window_size, len(chars)), return_sequences = True))\n",
    "model.add(LSTM(256))\n",
    "model.add(Dense(len(chars), activation='softmax'))\n",
    "\n",
    "model.summary()\n",
    "\n",
    "optimizer = optimizers.RMSprop(lr=0.005)\n",
    "model.compile(loss='categorical_crossentropy', optimizer=optimizer, metrics=['acc'])"
   ]
  },
  {
   "cell_type": "code",
   "execution_count": null,
   "metadata": {},
   "outputs": [],
   "source": [
    "model.load_weights('chgen_model_8.h5')"
   ]
  },
  {
   "cell_type": "code",
   "execution_count": null,
   "metadata": {},
   "outputs": [],
   "source": [
    "all_history_acc = []\n",
    "all_history_loss = []\n",
    "for epoch in range(1, 21):\n",
    "    print('epoch', epoch)\n",
    "    # Fit the model for 1 epoch on the available training data\n",
    "    history = model.fit(X_train, y_train,\n",
    "              batch_size=512,\n",
    "              epochs=1)\n",
    "    all_history_acc.append(history.history['acc'][0])\n",
    "    all_history_loss.append(history.history['loss'][0])\n",
    "    # Select a text seed at random\n",
    "    start_index = random.randint(0, len(text) - window_size - 1)\n",
    "    generated_text = text[start_index: start_index + window_size]\n",
    "    print('--- Generating with seed: \"' + generated_text + '\"')\n",
    "\n",
    "    for temperature in [0.2, 0.5, 1.0, 1.2]:\n",
    "        print('------ temperature:', temperature)\n",
    "        sys.stdout.write(generated_text)\n",
    "\n",
    "        # We generate 300 characters\n",
    "        for i in range(300):\n",
    "            sampled = np.zeros((1, window_size, len(chars)))\n",
    "            for t, char in enumerate(generated_text):\n",
    "                sampled[0, t, chars_to_indices[char]] = 1.\n",
    "\n",
    "            preds = model.predict(sampled, verbose=0)[0]\n",
    "            next_index = sample(preds, temperature)\n",
    "            next_char = chars[next_index]\n",
    "\n",
    "            generated_text += next_char #add 1 letter\n",
    "            generated_text = generated_text[1:] #get last 60 letters\n",
    "\n",
    "            sys.stdout.write(next_char)\n",
    "            sys.stdout.flush()\n",
    "        print()"
   ]
  },
  {
   "cell_type": "code",
   "execution_count": null,
   "metadata": {},
   "outputs": [],
   "source": [
    "epochs = range(len(all_history_acc))\n",
    "\n",
    "plt.plot(epochs, all_history_acc, 'b', label='Training acc')\n",
    "plt.title('Training and validation accuracy')\n",
    "plt.legend()\n",
    "\n",
    "plt.figure()\n",
    "\n",
    "plt.plot(epochs, all_history_loss, 'b', label='Training loss')\n",
    "plt.title('Training and validation loss')\n",
    "plt.legend()\n",
    "\n",
    "plt.show()"
   ]
  },
  {
   "cell_type": "code",
   "execution_count": null,
   "metadata": {},
   "outputs": [],
   "source": [
    "model.save('chgen_model_10.h5')"
   ]
  },
  {
   "cell_type": "markdown",
   "metadata": {
    "colab_type": "text",
    "id": "Ci1oYpIvlOs-"
   },
   "source": [
    "## Step 3 – Use the Best Model to make prediction"
   ]
  },
  {
   "cell_type": "code",
   "execution_count": 14,
   "metadata": {
    "colab": {},
    "colab_type": "code",
    "id": "dD2nx02qlOs_"
   },
   "outputs": [],
   "source": [
    "model.load_weights('chgen_model_8.h5')"
   ]
  },
  {
   "cell_type": "code",
   "execution_count": 15,
   "metadata": {
    "colab": {},
    "colab_type": "code",
    "id": "41RXQ4JllOtC",
    "scrolled": true
   },
   "outputs": [
    {
     "name": "stdout",
     "output_type": "stream",
     "text": [
      "I like to read. My favourite story is about the adventures of sherlock holmes by sir arthur conan doyle\n"
     ]
    }
   ],
   "source": [
    "# takes the user input\n",
    "text_input = np.array([input()])"
   ]
  },
  {
   "cell_type": "code",
   "execution_count": 16,
   "metadata": {
    "colab": {},
    "colab_type": "code",
    "id": "4fHznuCblOtF"
   },
   "outputs": [],
   "source": [
    "# one-hot encode the user input\n",
    "# Enter your code here:\n",
    "window_size = 100\n",
    "stringinput = text_input[0].lower()\n",
    "if (len(stringinput) > window_size):\n",
    "    stringinput = text_input[0][0:window_size].lower()"
   ]
  },
  {
   "cell_type": "code",
   "execution_count": 17,
   "metadata": {
    "colab": {},
    "colab_type": "code",
    "id": "MDdRbpIWlOtI"
   },
   "outputs": [
    {
     "name": "stdout",
     "output_type": "stream",
     "text": [
      "------ temperature: 0.2\n",
      "i like to read. my favourite story is about the adventures of sherlock holmes by sir arthur conan down the man who is always as i had the man who had been sent it up, but he had lost a forthe man who had been severeade a good was fact of his strick from his shoulder. i am sure, said holmes. i am always managed me one of the street. it was alwaysandable than i had the main side of the confruring and small chair when he had the coronet was a does not the matter is always as i could see the matter \n",
      "------ temperature: 0.5\n",
      "i like to read. my favourite story is about the adventures of sherlock holmes by sir arthur conan doner have a very man with the charge of the case, and i could see the most picted to see him to calk up, he was shope us in his assistagivity.one at the comprartance. i have heard also serious that i cannot time that the matter was a change and the dead that they may be so rang in my minutes. i have a very several drife at the room and myself to the seniety in the case, and that the more windows as\n",
      "------ temperature: 1.0\n",
      "i like to read. my favourite story is about the adventures of sherlock holmes by sir arthur conan doyel ar, fixs grenesforming bad?spendenly the blow that may tained down the family outside, until her!i laugh to think out, standspace.he is a bittle dight in that charbow write willing anotherlonk.good-yell upse me. i shall be having me, mr. holmes?here is quite so secure, as it has been a groar lightly and strutger, but it has two road if our connective room. illed here a mam?i not think that i h\n",
      "------ temperature: 1.2\n",
      "i like to read. my favourite story is about the adventures of sherlock holmes by sir arthur conan dovertaly have ent about us that mr. forder, the scarral clier:-from them. jumd us when oh, leave it being down thegrishonour large riches in the effects corpess, and night we very severhad can seated himself an endly sugh temptation, but he reallypassed at his, pounds. well, you can mary a dogn that he have a very justly post cimboraviagan bunkceipped men, as made a good gron holmes.he dad more. as\n"
     ]
    }
   ],
   "source": [
    "\n",
    "\n",
    "for temperature in [0.2, 0.5, 1.0, 1.2]:\n",
    "        print('------ temperature:', temperature)\n",
    "        sys.stdout.write(stringinput)\n",
    "        rewrite=stringinput\n",
    "        # We generate 400 characters\n",
    "        for i in range(400):\n",
    "            sampled = np.zeros((1, len(stringinput), len(chars)))\n",
    "            for t, char in enumerate(rewrite): \n",
    "                sampled[0, t, chars_to_indices[char]] = 1.\n",
    "            preds = model.predict(sampled, verbose=0)[0]\n",
    "            next_index = sample(preds, temperature)\n",
    "            next_char = chars[next_index]\n",
    "\n",
    "            rewrite += next_char\n",
    "            rewrite = rewrite[1:]\n",
    "            sys.stdout.write(next_char)\n",
    "            sys.stdout.flush()\n",
    "        print()"
   ]
  }
 ],
 "metadata": {
  "colab": {
   "collapsed_sections": [],
   "name": "Assignment_2_p2.ipynb",
   "provenance": [],
   "toc_visible": true
  },
  "kernelspec": {
   "display_name": "Python 3",
   "language": "python",
   "name": "python3"
  },
  "language_info": {
   "codemirror_mode": {
    "name": "ipython",
    "version": 3
   },
   "file_extension": ".py",
   "mimetype": "text/x-python",
   "name": "python",
   "nbconvert_exporter": "python",
   "pygments_lexer": "ipython3",
   "version": "3.7.3"
  }
 },
 "nbformat": 4,
 "nbformat_minor": 1
}
