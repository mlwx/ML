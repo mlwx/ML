{
 "cells": [
  {
   "cell_type": "markdown",
   "metadata": {
    "colab_type": "text",
    "id": "O1LGOtik0wEO"
   },
   "source": [
    "<table class=\"table table-bordered\">\n",
    "    <tr>\n",
    "        <th style=\"text-align:center; width:25%\"><img src='https://www.np.edu.sg/PublishingImages/Pages/default/odp/ICT.jpg' style=\"width: 250px; height: 125px; \"></th>\n",
    "        <th style=\"text-align:center;\"><h1>Deep Learning</h1><h2>Assignment 2 - Sentiment Analysis Model (Problem 1)</h2><h3>AY2020/21 Semester</h3></th>\n",
    "    </tr>\n",
    "</table>"
   ]
  },
  {
   "cell_type": "code",
   "execution_count": 1,
   "metadata": {
    "colab": {},
    "colab_type": "code",
    "id": "xFEgrVGI0wEP"
   },
   "outputs": [],
   "source": [
    "# Import the Required Packages\n",
    "from tensorflow import keras\n",
    "from tensorflow.keras.models import Sequential\n",
    "from tensorflow.keras.layers import Embedding, SimpleRNN\n",
    "from tensorflow.keras.preprocessing import sequence\n",
    "from tensorflow.keras.layers import Dense\n",
    "from tensorflow.keras.layers import LSTM\n",
    "from tensorflow.keras import layers\n",
    "\n",
    "from tensorflow.keras.layers import Flatten, Dense\n",
    "\n",
    "from tensorflow.keras.preprocessing.text import Tokenizer\n",
    "from tensorflow.keras.preprocessing.sequence import pad_sequences\n",
    "import numpy as np\n",
    "\n",
    "from tensorflow.keras import regularizers\n",
    "\n",
    "from gensim.models.word2vec import Word2Vec\n",
    "\n",
    "import io\n",
    "\n",
    "import matplotlib.pyplot as plt\n",
    "%matplotlib inline"
   ]
  },
  {
   "cell_type": "markdown",
   "metadata": {
    "colab_type": "text",
    "id": "o_8kaOFe0wEU"
   },
   "source": [
    "## Step 1 – Data Loading and Processing"
   ]
  },
  {
   "cell_type": "markdown",
   "metadata": {
    "colab_type": "text",
    "id": "vmfqXElL0wEU"
   },
   "source": [
    "### 1.1 Data Loading"
   ]
  },
  {
   "cell_type": "code",
   "execution_count": 2,
   "metadata": {
    "colab": {
     "base_uri": "https://localhost:8080/",
     "height": 52
    },
    "colab_type": "code",
    "id": "E-747tpO0wEV",
    "outputId": "ee234431-5174-4721-985b-61a32d8bbd5a"
   },
   "outputs": [
    {
     "name": "stdout",
     "output_type": "stream",
     "text": [
      "{0: '😍', 1: '😂', 2: '📷', 3: '🔥', 4: '❤'}\n",
      "A total of:  5 Emoji Icons\n"
     ]
    }
   ],
   "source": [
    "# Load the emoji_dictionary\n",
    "import pandas as pd\n",
    "df = pd.read_csv('mapping.csv', delimiter=',')\n",
    "emoji_dictionary = df.loc[:,'emoticons'].to_dict()\n",
    "print(emoji_dictionary)\n",
    "print('A total of: ', len(emoji_dictionary), 'Emoji Icons')"
   ]
  },
  {
   "cell_type": "code",
   "execution_count": 3,
   "metadata": {
    "colab": {},
    "colab_type": "code",
    "id": "S3Iw6U4Q0wEZ"
   },
   "outputs": [],
   "source": [
    "# load the dataset\n",
    "dat = pd.read_csv('dataset.csv', delimiter=',')\n",
    "texts = dat.loc[:,'TEXT'].values \n",
    "labels = dat.loc[:,'Label'].values"
   ]
  },
  {
   "cell_type": "code",
   "execution_count": 4,
   "metadata": {
    "colab": {
     "base_uri": "https://localhost:8080/",
     "height": 35
    },
    "colab_type": "code",
    "id": "DxJErbFS0wEd",
    "outputId": "e519b18d-ee04-4bd3-9396-5f05318c6f9b"
   },
   "outputs": [
    {
     "name": "stdout",
     "output_type": "stream",
     "text": [
      "the maximum length of the text inputs is  34\n"
     ]
    }
   ],
   "source": [
    "# Check the maximum length of texts\n",
    "max_len = -1\n",
    "for example in texts:\n",
    "    if len(example.split()) > max_len:\n",
    "        max_len = len(example.split())\n",
    "        \n",
    "print('the maximum length of the text inputs is ', max_len)"
   ]
  },
  {
   "cell_type": "markdown",
   "metadata": {
    "colab_type": "text",
    "id": "jxdcbLQC0wEg"
   },
   "source": [
    "### 1.2 Data Processing\n"
   ]
  },
  {
   "cell_type": "code",
   "execution_count": 5,
   "metadata": {
    "colab": {
     "base_uri": "https://localhost:8080/",
     "height": 70
    },
    "colab_type": "code",
    "id": "-gf725My0wEh",
    "outputId": "7ef78580-4320-4971-938c-5169733ecb28"
   },
   "outputs": [
    {
     "name": "stdout",
     "output_type": "stream",
     "text": [
      "Found 54076 unique tokens.\n",
      "Shape of data tensor: (42546, 34)\n",
      "Shape of label tensor: (42546,)\n"
     ]
    }
   ],
   "source": [
    "# Convert the texts and labels into numeric tensors\n",
    "maxlen = 34  # We will cut reviews after 34 words\n",
    "max_features = 15000 # Only consider the top 15k words in the dataset\n",
    "tokenizer = Tokenizer(num_words=max_features)\n",
    "tokenizer.fit_on_texts(texts)\n",
    "sequences = tokenizer.texts_to_sequences(texts)\n",
    "\n",
    "word_index = tokenizer.word_index\n",
    "print('Found %s unique tokens.' % len(word_index))\n",
    "\n",
    "data = pad_sequences(sequences, maxlen=maxlen)\n",
    "\n",
    "labels = np.asarray(labels)\n",
    "print('Shape of data tensor:', data.shape)\n",
    "print('Shape of label tensor:', labels.shape)\n",
    "\n",
    "# Split the data into a training set and a validation set\n",
    "# But first, shuffle the data, since we started from data\n",
    "# where sample are ordered (all negative first, then all positive).\n",
    "indices = np.arange(data.shape[0])\n",
    "np.random.shuffle(indices)\n",
    "data = data[indices]\n",
    "labels = labels[indices]\n",
    "\n",
    "X = data\n",
    "y = labels"
   ]
  },
  {
   "cell_type": "markdown",
   "metadata": {
    "colab_type": "text",
    "id": "JbhPikIq0wEk"
   },
   "source": [
    "### 1.3 Data Sampling"
   ]
  },
  {
   "cell_type": "code",
   "execution_count": 6,
   "metadata": {
    "colab": {},
    "colab_type": "code",
    "id": "qN15cYFl0wEl"
   },
   "outputs": [],
   "source": [
    "# Split the X & y into train and test sets\n",
    "from sklearn.model_selection import train_test_split\n",
    "X_train, X_test, y_train, y_test = train_test_split(X, y, test_size=0.2, random_state = 65)\n",
    "# Refer the report Appendix\n",
    "# Please enter the random_state assigned to your group"
   ]
  },
  {
   "cell_type": "code",
   "execution_count": 7,
   "metadata": {
    "colab": {},
    "colab_type": "code",
    "id": "fMPx3Rp80wEp"
   },
   "outputs": [],
   "source": [
    "from tensorflow.keras.utils import to_categorical\n",
    "y_train = to_categorical(y_train)\n",
    "y_test = to_categorical(y_test)"
   ]
  },
  {
   "cell_type": "markdown",
   "metadata": {
    "colab_type": "text",
    "id": "ZiI3C4gt0wEs"
   },
   "source": [
    "## Step 2 – Develop a Sentiment Analysis Model"
   ]
  },
  {
   "cell_type": "markdown",
   "metadata": {
    "colab_type": "text",
    "id": "F5N8Q3q50wEt"
   },
   "source": [
    "# Model 1  (Scratch Model with LSTM layers)"
   ]
  },
  {
   "cell_type": "code",
   "execution_count": null,
   "metadata": {
    "colab": {
     "base_uri": "https://localhost:8080/",
     "height": 337
    },
    "colab_type": "code",
    "id": "Or9xgr2j0wEt",
    "outputId": "22876589-9eeb-4ef0-c192-9ce3811c5eed"
   },
   "outputs": [
    {
     "name": "stdout",
     "output_type": "stream",
     "text": [
      "Model: \"sequential_6\"\n",
      "_________________________________________________________________\n",
      "Layer (type)                 Output Shape              Param #   \n",
      "=================================================================\n",
      "embedding_6 (Embedding)      (None, 34, 16)            240000    \n",
      "_________________________________________________________________\n",
      "lstm_15 (LSTM)               (None, 34, 32)            6272      \n",
      "_________________________________________________________________\n",
      "lstm_16 (LSTM)               (None, 34, 32)            8320      \n",
      "_________________________________________________________________\n",
      "lstm_17 (LSTM)               (None, 32)                8320      \n",
      "_________________________________________________________________\n",
      "dense_6 (Dense)              (None, 5)                 165       \n",
      "=================================================================\n",
      "Total params: 263,077\n",
      "Trainable params: 263,077\n",
      "Non-trainable params: 0\n",
      "_________________________________________________________________\n"
     ]
    }
   ],
   "source": [
    "# Build the Model\n",
    "model = Sequential()\n",
    "model.add(Embedding(max_features, 16, input_length=maxlen))\n",
    "model.add(LSTM(32, return_sequences=True))\n",
    "model.add(LSTM(32, return_sequences=True))\n",
    "model.add(LSTM(32))\n",
    "model.add(Dense(5, activation='softmax'))\n",
    "model.summary()\n",
    "model.compile(optimizer='rmsprop', loss='categorical_crossentropy', metrics=['acc'])"
   ]
  },
  {
   "cell_type": "code",
   "execution_count": null,
   "metadata": {
    "colab": {
     "base_uri": "https://localhost:8080/",
     "height": 1000
    },
    "colab_type": "code",
    "id": "c8Zv2OFi0wEw",
    "outputId": "e03a6739-b817-42cc-968a-c283d915854d"
   },
   "outputs": [
    {
     "name": "stdout",
     "output_type": "stream",
     "text": [
      "Epoch 1/30\n",
      "213/213 [==============================] - 17s 79ms/step - loss: 1.3091 - acc: 0.4584 - val_loss: 1.1486 - val_acc: 0.5118\n",
      "Epoch 2/30\n",
      "213/213 [==============================] - 16s 73ms/step - loss: 1.0818 - acc: 0.5378 - val_loss: 1.0569 - val_acc: 0.5488\n",
      "Epoch 3/30\n",
      "213/213 [==============================] - 16s 74ms/step - loss: 0.9904 - acc: 0.5843 - val_loss: 1.0211 - val_acc: 0.5693\n",
      "Epoch 4/30\n",
      "213/213 [==============================] - 16s 74ms/step - loss: 0.9149 - acc: 0.6242 - val_loss: 1.0047 - val_acc: 0.5787\n",
      "Epoch 5/30\n",
      "213/213 [==============================] - 16s 74ms/step - loss: 0.8556 - acc: 0.6502 - val_loss: 1.0055 - val_acc: 0.5852\n",
      "Epoch 6/30\n",
      "213/213 [==============================] - 16s 74ms/step - loss: 0.8066 - acc: 0.6783 - val_loss: 0.9944 - val_acc: 0.5947\n",
      "Epoch 7/30\n",
      "213/213 [==============================] - 16s 75ms/step - loss: 0.7656 - acc: 0.7019 - val_loss: 1.0152 - val_acc: 0.5877\n",
      "Epoch 8/30\n",
      "213/213 [==============================] - 16s 75ms/step - loss: 0.7296 - acc: 0.7212 - val_loss: 1.0233 - val_acc: 0.6006\n",
      "Epoch 9/30\n",
      "213/213 [==============================] - 16s 75ms/step - loss: 0.6951 - acc: 0.7395 - val_loss: 1.0165 - val_acc: 0.6074\n",
      "Epoch 10/30\n",
      "213/213 [==============================] - 16s 74ms/step - loss: 0.6643 - acc: 0.7520 - val_loss: 1.0267 - val_acc: 0.6147\n",
      "Epoch 11/30\n",
      "213/213 [==============================] - 16s 77ms/step - loss: 0.6330 - acc: 0.7663 - val_loss: 1.0357 - val_acc: 0.6168\n",
      "Epoch 12/30\n",
      "213/213 [==============================] - 16s 75ms/step - loss: 0.6024 - acc: 0.7792 - val_loss: 1.0181 - val_acc: 0.6232\n",
      "Epoch 13/30\n",
      "213/213 [==============================] - 16s 74ms/step - loss: 0.5777 - acc: 0.7920 - val_loss: 1.0561 - val_acc: 0.6265\n",
      "Epoch 14/30\n",
      "213/213 [==============================] - 16s 75ms/step - loss: 0.5500 - acc: 0.8066 - val_loss: 1.0644 - val_acc: 0.6310\n",
      "Epoch 15/30\n",
      "213/213 [==============================] - 16s 74ms/step - loss: 0.5292 - acc: 0.8128 - val_loss: 1.0648 - val_acc: 0.6269\n",
      "Epoch 16/30\n",
      "213/213 [==============================] - 16s 73ms/step - loss: 0.5061 - acc: 0.8230 - val_loss: 1.1155 - val_acc: 0.6222\n",
      "Epoch 17/30\n",
      "213/213 [==============================] - 16s 74ms/step - loss: 0.4870 - acc: 0.8295 - val_loss: 1.0841 - val_acc: 0.6288\n",
      "Epoch 18/30\n",
      "213/213 [==============================] - 16s 74ms/step - loss: 0.4666 - acc: 0.8373 - val_loss: 1.1155 - val_acc: 0.6304\n",
      "Epoch 19/30\n",
      "213/213 [==============================] - 17s 78ms/step - loss: 0.4477 - acc: 0.8431 - val_loss: 1.1246 - val_acc: 0.6294\n",
      "Epoch 20/30\n",
      "213/213 [==============================] - 16s 75ms/step - loss: 0.4318 - acc: 0.8473 - val_loss: 1.1458 - val_acc: 0.6334\n",
      "Epoch 21/30\n",
      "213/213 [==============================] - 16s 75ms/step - loss: 0.4141 - acc: 0.8537 - val_loss: 1.1695 - val_acc: 0.6271\n",
      "Epoch 22/30\n",
      "213/213 [==============================] - 16s 74ms/step - loss: 0.3954 - acc: 0.8624 - val_loss: 1.1957 - val_acc: 0.6225\n",
      "Epoch 23/30\n",
      "213/213 [==============================] - 16s 74ms/step - loss: 0.3816 - acc: 0.8670 - val_loss: 1.2155 - val_acc: 0.6279\n",
      "Epoch 24/30\n",
      "213/213 [==============================] - 16s 74ms/step - loss: 0.3663 - acc: 0.8741 - val_loss: 1.2046 - val_acc: 0.6266\n",
      "Epoch 25/30\n",
      "213/213 [==============================] - 16s 74ms/step - loss: 0.3493 - acc: 0.8801 - val_loss: 1.2370 - val_acc: 0.6296\n",
      "Epoch 26/30\n",
      "213/213 [==============================] - 16s 75ms/step - loss: 0.3359 - acc: 0.8854 - val_loss: 1.2493 - val_acc: 0.6279\n",
      "Epoch 27/30\n",
      "213/213 [==============================] - 16s 74ms/step - loss: 0.3202 - acc: 0.8902 - val_loss: 1.2687 - val_acc: 0.6278\n",
      "Epoch 28/30\n",
      "213/213 [==============================] - 16s 74ms/step - loss: 0.3089 - acc: 0.8933 - val_loss: 1.2815 - val_acc: 0.6288\n",
      "Epoch 29/30\n",
      "213/213 [==============================] - 16s 75ms/step - loss: 0.2939 - acc: 0.8996 - val_loss: 1.3069 - val_acc: 0.6284\n",
      "Epoch 30/30\n",
      "213/213 [==============================] - 16s 77ms/step - loss: 0.2802 - acc: 0.9049 - val_loss: 1.3495 - val_acc: 0.6269\n"
     ]
    }
   ],
   "source": [
    "# Train the Model\n",
    "history = model.fit(X_train, y_train,\n",
    "                    epochs=30,\n",
    "                    batch_size=128,\n",
    "                    validation_split=0.2)"
   ]
  },
  {
   "cell_type": "code",
   "execution_count": null,
   "metadata": {
    "colab": {
     "base_uri": "https://localhost:8080/",
     "height": 545
    },
    "colab_type": "code",
    "id": "Ss-g-nAy0wEz",
    "outputId": "527f8079-d197-4cea-a53c-b95c9d66907b"
   },
   "outputs": [
    {
     "data": {
      "image/png": "[encoded data removed]",
      "text/plain": [
       "<Figure size 432x288 with 1 Axes>"
      ]
     },
     "metadata": {
      "needs_background": "light",
      "tags": []
     },
     "output_type": "display_data"
    },
    {
     "data": {
      "image/png": "[encoded data removed]",
      "text/plain": [
       "<Figure size 432x288 with 1 Axes>"
      ]
     },
     "metadata": {
      "needs_background": "light",
      "tags": []
     },
     "output_type": "display_data"
    }
   ],
   "source": [
    "# Plot the Training and Validation Accuracy & Loss Scores\n",
    "acc = history.history['acc']\n",
    "val_acc = history.history['val_acc']\n",
    "loss = history.history['loss']\n",
    "val_loss = history.history['val_loss']\n",
    "\n",
    "epochs = range(len(acc))\n",
    "\n",
    "plt.plot(epochs, acc, 'bo', label='Training acc')\n",
    "plt.plot(epochs, val_acc, 'b', label='Validation acc')\n",
    "plt.title('Training and validation accuracy')\n",
    "plt.legend()\n",
    "\n",
    "plt.figure()\n",
    "\n",
    "plt.plot(epochs, loss, 'bo', label='Training loss')\n",
    "plt.plot(epochs, val_loss, 'b', label='Validation loss')\n",
    "plt.title('Training and validation loss')\n",
    "plt.legend()\n",
    "\n",
    "plt.show()"
   ]
  },
  {
   "cell_type": "code",
   "execution_count": null,
   "metadata": {
    "colab": {},
    "colab_type": "code",
    "id": "zeef4sTL0wE3"
   },
   "outputs": [],
   "source": [
    "# Save the Model\n",
    "model.save('text_model_1.h5')"
   ]
  },
  {
   "cell_type": "markdown",
   "metadata": {
    "colab_type": "text",
    "id": "diUhg52R0wE6"
   },
   "source": [
    "# Model 2 (Finetuning Model 1)"
   ]
  },
  {
   "cell_type": "code",
   "execution_count": null,
   "metadata": {
    "colab": {
     "base_uri": "https://localhost:8080/",
     "height": 337
    },
    "colab_type": "code",
    "id": "l1-XK15H0wE7",
    "outputId": "87e7f2f0-c37a-457b-cdc1-e5d085f6a95f"
   },
   "outputs": [
    {
     "name": "stdout",
     "output_type": "stream",
     "text": [
      "Model: \"sequential_7\"\n",
      "_________________________________________________________________\n",
      "Layer (type)                 Output Shape              Param #   \n",
      "=================================================================\n",
      "embedding_7 (Embedding)      (None, 34, 16)            240000    \n",
      "_________________________________________________________________\n",
      "lstm_18 (LSTM)               (None, 34, 32)            6272      \n",
      "_________________________________________________________________\n",
      "lstm_19 (LSTM)               (None, 34, 32)            8320      \n",
      "_________________________________________________________________\n",
      "lstm_20 (LSTM)               (None, 32)                8320      \n",
      "_________________________________________________________________\n",
      "dense_7 (Dense)              (None, 5)                 165       \n",
      "=================================================================\n",
      "Total params: 263,077\n",
      "Trainable params: 263,077\n",
      "Non-trainable params: 0\n",
      "_________________________________________________________________\n"
     ]
    }
   ],
   "source": [
    "# Build the Model\n",
    "model = Sequential()\n",
    "model.add(Embedding(max_features, 16, input_length=maxlen))\n",
    "model.add(LSTM(32, return_sequences=True, kernel_regularizer = regularizers.l1_l2(l1=0.001, l2=0.001)))\n",
    "model.add(LSTM(32, return_sequences=True, recurrent_dropout = 0.1))\n",
    "model.add(LSTM(32))\n",
    "model.add(Dense(5, activation='softmax'))\n",
    "model.summary()"
   ]
  },
  {
   "cell_type": "code",
   "execution_count": null,
   "metadata": {
    "colab": {},
    "colab_type": "code",
    "id": "7s9A3jtq0wE-"
   },
   "outputs": [],
   "source": [
    "model.load_weights('text_model_1.h5')\n",
    "model.compile(optimizer='rmsprop', loss='categorical_crossentropy', metrics=['acc'])"
   ]
  },
  {
   "cell_type": "code",
   "execution_count": null,
   "metadata": {
    "colab": {
     "base_uri": "https://localhost:8080/",
     "height": 1000
    },
    "colab_type": "code",
    "id": "MHhknEdY0wFA",
    "outputId": "1c657b7e-85ac-4b3f-e22f-b36e26c9427f"
   },
   "outputs": [
    {
     "name": "stdout",
     "output_type": "stream",
     "text": [
      "Epoch 1/30\n",
      "213/213 [==============================] - 20s 96ms/step - loss: 0.9548 - acc: 0.9045 - val_loss: 1.8266 - val_acc: 0.6276\n",
      "Epoch 2/30\n",
      "213/213 [==============================] - 20s 92ms/step - loss: 0.6395 - acc: 0.9099 - val_loss: 1.6362 - val_acc: 0.6340\n",
      "Epoch 3/30\n",
      "213/213 [==============================] - 20s 92ms/step - loss: 0.4838 - acc: 0.9102 - val_loss: 1.5372 - val_acc: 0.6307\n",
      "Epoch 4/30\n",
      "213/213 [==============================] - 20s 92ms/step - loss: 0.4021 - acc: 0.9142 - val_loss: 1.5306 - val_acc: 0.6281\n",
      "Epoch 5/30\n",
      "213/213 [==============================] - 20s 92ms/step - loss: 0.3597 - acc: 0.9167 - val_loss: 1.4779 - val_acc: 0.6276\n",
      "Epoch 6/30\n",
      "213/213 [==============================] - 20s 93ms/step - loss: 0.3343 - acc: 0.9192 - val_loss: 1.5152 - val_acc: 0.6281\n",
      "Epoch 7/30\n",
      "213/213 [==============================] - 20s 94ms/step - loss: 0.3128 - acc: 0.9234 - val_loss: 1.5506 - val_acc: 0.6294\n",
      "Epoch 8/30\n",
      "213/213 [==============================] - 20s 92ms/step - loss: 0.2982 - acc: 0.9246 - val_loss: 1.5406 - val_acc: 0.6269\n",
      "Epoch 9/30\n",
      "213/213 [==============================] - 20s 93ms/step - loss: 0.2853 - acc: 0.9272 - val_loss: 1.6036 - val_acc: 0.6279\n",
      "Epoch 10/30\n",
      "213/213 [==============================] - 20s 92ms/step - loss: 0.2747 - acc: 0.9307 - val_loss: 1.5890 - val_acc: 0.6288\n",
      "Epoch 11/30\n",
      "213/213 [==============================] - 20s 92ms/step - loss: 0.2623 - acc: 0.9337 - val_loss: 1.6128 - val_acc: 0.6238\n",
      "Epoch 12/30\n",
      "213/213 [==============================] - 20s 93ms/step - loss: 0.2538 - acc: 0.9361 - val_loss: 1.6270 - val_acc: 0.6290\n",
      "Epoch 13/30\n",
      "213/213 [==============================] - 20s 92ms/step - loss: 0.2438 - acc: 0.9380 - val_loss: 1.6563 - val_acc: 0.6218\n",
      "Epoch 14/30\n",
      "213/213 [==============================] - 20s 93ms/step - loss: 0.2339 - acc: 0.9411 - val_loss: 1.6495 - val_acc: 0.6272\n",
      "Epoch 15/30\n",
      "213/213 [==============================] - 21s 97ms/step - loss: 0.2275 - acc: 0.9423 - val_loss: 1.7140 - val_acc: 0.6249\n",
      "Epoch 16/30\n",
      "213/213 [==============================] - 20s 93ms/step - loss: 0.2169 - acc: 0.9443 - val_loss: 1.7368 - val_acc: 0.6265\n",
      "Epoch 17/30\n",
      "213/213 [==============================] - 20s 92ms/step - loss: 0.2127 - acc: 0.9459 - val_loss: 1.7414 - val_acc: 0.6222\n",
      "Epoch 18/30\n",
      "213/213 [==============================] - 20s 92ms/step - loss: 0.2049 - acc: 0.9478 - val_loss: 1.7387 - val_acc: 0.6246\n",
      "Epoch 19/30\n",
      "213/213 [==============================] - 20s 92ms/step - loss: 0.1996 - acc: 0.9497 - val_loss: 1.7627 - val_acc: 0.6202\n",
      "Epoch 20/30\n",
      "213/213 [==============================] - 20s 92ms/step - loss: 0.1893 - acc: 0.9520 - val_loss: 1.7890 - val_acc: 0.6157\n",
      "Epoch 21/30\n",
      "213/213 [==============================] - 20s 93ms/step - loss: 0.1832 - acc: 0.9545 - val_loss: 1.7931 - val_acc: 0.6134\n",
      "Epoch 22/30\n",
      "213/213 [==============================] - 20s 92ms/step - loss: 0.1790 - acc: 0.9557 - val_loss: 1.8158 - val_acc: 0.6206\n",
      "Epoch 23/30\n",
      "213/213 [==============================] - 20s 94ms/step - loss: 0.1751 - acc: 0.9565 - val_loss: 1.8995 - val_acc: 0.6185\n",
      "Epoch 24/30\n",
      "213/213 [==============================] - 20s 92ms/step - loss: 0.1679 - acc: 0.9578 - val_loss: 1.8675 - val_acc: 0.6210\n",
      "Epoch 25/30\n",
      "213/213 [==============================] - 20s 92ms/step - loss: 0.1635 - acc: 0.9597 - val_loss: 1.9004 - val_acc: 0.6222\n",
      "Epoch 26/30\n",
      "213/213 [==============================] - 20s 92ms/step - loss: 0.1594 - acc: 0.9612 - val_loss: 1.9765 - val_acc: 0.6119\n",
      "Epoch 27/30\n",
      "213/213 [==============================] - 20s 93ms/step - loss: 0.1547 - acc: 0.9621 - val_loss: 1.9215 - val_acc: 0.6130\n",
      "Epoch 28/30\n",
      "213/213 [==============================] - 20s 93ms/step - loss: 0.1475 - acc: 0.9633 - val_loss: 2.0142 - val_acc: 0.6228\n",
      "Epoch 29/30\n",
      "213/213 [==============================] - 20s 93ms/step - loss: 0.1454 - acc: 0.9643 - val_loss: 2.0564 - val_acc: 0.6165\n",
      "Epoch 30/30\n",
      "213/213 [==============================] - 20s 92ms/step - loss: 0.1424 - acc: 0.9654 - val_loss: 1.9995 - val_acc: 0.6128\n"
     ]
    }
   ],
   "source": [
    "history = model.fit(X_train, y_train,\n",
    "                    epochs=30,\n",
    "                    batch_size=128,\n",
    "                    validation_split=0.2)"
   ]
  },
  {
   "cell_type": "code",
   "execution_count": null,
   "metadata": {
    "colab": {
     "base_uri": "https://localhost:8080/",
     "height": 545
    },
    "colab_type": "code",
    "id": "QlOWGBDM0wFE",
    "outputId": "40881629-33b6-42ea-8dd8-c500a9f59f04",
    "scrolled": true
   },
   "outputs": [
    {
     "data": {
      "image/png": "[encoded data removed]",
      "text/plain": [
       "<Figure size 432x288 with 1 Axes>"
      ]
     },
     "metadata": {
      "needs_background": "light",
      "tags": []
     },
     "output_type": "display_data"
    },
    {
     "data": {
      "image/png": "[encoded data removed]",
      "text/plain": [
       "<Figure size 432x288 with 1 Axes>"
      ]
     },
     "metadata": {
      "needs_background": "light",
      "tags": []
     },
     "output_type": "display_data"
    }
   ],
   "source": [
    "acc = history.history['acc']\n",
    "val_acc = history.history['val_acc']\n",
    "loss = history.history['loss']\n",
    "val_loss = history.history['val_loss']\n",
    "\n",
    "epochs = range(len(acc))\n",
    "\n",
    "plt.plot(epochs, acc, 'bo', label='Training acc')\n",
    "plt.plot(epochs, val_acc, 'b', label='Validation acc')\n",
    "plt.title('Training and validation accuracy')\n",
    "plt.legend()\n",
    "\n",
    "plt.figure()\n",
    "\n",
    "plt.plot(epochs, loss, 'bo', label='Training loss')\n",
    "plt.plot(epochs, val_loss, 'b', label='Validation loss')\n",
    "plt.title('Training and validation loss')\n",
    "plt.legend()\n",
    "\n",
    "plt.show()"
   ]
  },
  {
   "cell_type": "code",
   "execution_count": null,
   "metadata": {
    "colab": {},
    "colab_type": "code",
    "id": "fraj0vcr0wFG"
   },
   "outputs": [],
   "source": [
    "model.save('text_model_2.h5')"
   ]
  },
  {
   "cell_type": "markdown",
   "metadata": {
    "colab_type": "text",
    "id": "jNX7wyL00wFL"
   },
   "source": [
    "# Model 3 (Fine tuning Model 1)"
   ]
  },
  {
   "cell_type": "code",
   "execution_count": null,
   "metadata": {
    "colab": {
     "base_uri": "https://localhost:8080/",
     "height": 337
    },
    "colab_type": "code",
    "id": "_R1UHnnH0wFL",
    "outputId": "db478a17-3f69-4bbc-f351-552ca10f1154",
    "scrolled": true
   },
   "outputs": [
    {
     "name": "stdout",
     "output_type": "stream",
     "text": [
      "Model: \"sequential_8\"\n",
      "_________________________________________________________________\n",
      "Layer (type)                 Output Shape              Param #   \n",
      "=================================================================\n",
      "embedding_8 (Embedding)      (None, 34, 16)            240000    \n",
      "_________________________________________________________________\n",
      "lstm_21 (LSTM)               (None, 34, 32)            6272      \n",
      "_________________________________________________________________\n",
      "lstm_22 (LSTM)               (None, 34, 32)            8320      \n",
      "_________________________________________________________________\n",
      "lstm_23 (LSTM)               (None, 32)                8320      \n",
      "_________________________________________________________________\n",
      "dense_8 (Dense)              (None, 5)                 165       \n",
      "=================================================================\n",
      "Total params: 263,077\n",
      "Trainable params: 263,077\n",
      "Non-trainable params: 0\n",
      "_________________________________________________________________\n"
     ]
    }
   ],
   "source": [
    "# Build the Model\n",
    "model = Sequential()\n",
    "model.add(Embedding(max_features, 16, input_length=maxlen))\n",
    "model.add(LSTM(32, return_sequences=True, kernel_regularizer = regularizers.l1_l2(l1=0.001, l2=0.001)))\n",
    "model.add(LSTM(32, return_sequences=True, recurrent_dropout = 0.3))\n",
    "model.add(LSTM(32))\n",
    "model.add(Dense(5, activation='softmax'))\n",
    "model.summary()"
   ]
  },
  {
   "cell_type": "code",
   "execution_count": null,
   "metadata": {
    "colab": {},
    "colab_type": "code",
    "id": "5Oi3Iuse0wFO"
   },
   "outputs": [],
   "source": [
    "model.load_weights('text_model_1.h5')\n",
    "model.compile(optimizer='rmsprop', loss='categorical_crossentropy', metrics=['acc'])"
   ]
  },
  {
   "cell_type": "code",
   "execution_count": null,
   "metadata": {
    "colab": {
     "base_uri": "https://localhost:8080/",
     "height": 1000
    },
    "colab_type": "code",
    "id": "dikaJilO0wFQ",
    "outputId": "a4291405-5de4-445c-fcd6-22da9c60a4d6"
   },
   "outputs": [
    {
     "name": "stdout",
     "output_type": "stream",
     "text": [
      "Epoch 1/30\n",
      "213/213 [==============================] - 22s 101ms/step - loss: 0.9652 - acc: 0.9016 - val_loss: 1.8006 - val_acc: 0.6310\n",
      "Epoch 2/30\n",
      "213/213 [==============================] - 20s 93ms/step - loss: 0.6521 - acc: 0.9046 - val_loss: 1.6533 - val_acc: 0.6300\n",
      "Epoch 3/30\n",
      "213/213 [==============================] - 20s 93ms/step - loss: 0.4939 - acc: 0.9076 - val_loss: 1.5544 - val_acc: 0.6347\n",
      "Epoch 4/30\n",
      "213/213 [==============================] - 20s 93ms/step - loss: 0.4106 - acc: 0.9119 - val_loss: 1.5058 - val_acc: 0.6307\n",
      "Epoch 5/30\n",
      "213/213 [==============================] - 20s 93ms/step - loss: 0.3671 - acc: 0.9146 - val_loss: 1.5338 - val_acc: 0.6278\n",
      "Epoch 6/30\n",
      "213/213 [==============================] - 20s 93ms/step - loss: 0.3418 - acc: 0.9158 - val_loss: 1.5154 - val_acc: 0.6229\n",
      "Epoch 7/30\n",
      "213/213 [==============================] - 20s 93ms/step - loss: 0.3220 - acc: 0.9204 - val_loss: 1.5662 - val_acc: 0.6194\n",
      "Epoch 8/30\n",
      "213/213 [==============================] - 20s 94ms/step - loss: 0.3064 - acc: 0.9227 - val_loss: 1.5357 - val_acc: 0.6265\n",
      "Epoch 9/30\n",
      "213/213 [==============================] - 20s 93ms/step - loss: 0.2917 - acc: 0.9259 - val_loss: 1.5596 - val_acc: 0.6272\n",
      "Epoch 10/30\n",
      "213/213 [==============================] - 20s 92ms/step - loss: 0.2819 - acc: 0.9280 - val_loss: 1.6016 - val_acc: 0.6290\n",
      "Epoch 11/30\n",
      "213/213 [==============================] - 20s 93ms/step - loss: 0.2703 - acc: 0.9303 - val_loss: 1.6287 - val_acc: 0.6272\n",
      "Epoch 12/30\n",
      "213/213 [==============================] - 20s 94ms/step - loss: 0.2608 - acc: 0.9337 - val_loss: 1.6417 - val_acc: 0.6254\n",
      "Epoch 13/30\n",
      "213/213 [==============================] - 20s 93ms/step - loss: 0.2511 - acc: 0.9358 - val_loss: 1.6372 - val_acc: 0.6206\n",
      "Epoch 14/30\n",
      "213/213 [==============================] - 20s 92ms/step - loss: 0.2420 - acc: 0.9376 - val_loss: 1.6373 - val_acc: 0.6249\n",
      "Epoch 15/30\n",
      "213/213 [==============================] - 20s 92ms/step - loss: 0.2346 - acc: 0.9401 - val_loss: 1.6512 - val_acc: 0.6188\n",
      "Epoch 16/30\n",
      "213/213 [==============================] - 20s 92ms/step - loss: 0.2265 - acc: 0.9431 - val_loss: 1.7169 - val_acc: 0.6199\n",
      "Epoch 17/30\n",
      "213/213 [==============================] - 20s 95ms/step - loss: 0.2178 - acc: 0.9453 - val_loss: 1.7136 - val_acc: 0.6240\n",
      "Epoch 18/30\n",
      "213/213 [==============================] - 20s 92ms/step - loss: 0.2123 - acc: 0.9462 - val_loss: 1.7161 - val_acc: 0.6178\n",
      "Epoch 19/30\n",
      "213/213 [==============================] - 20s 92ms/step - loss: 0.2031 - acc: 0.9496 - val_loss: 1.7427 - val_acc: 0.6157\n",
      "Epoch 20/30\n",
      "213/213 [==============================] - 20s 92ms/step - loss: 0.1999 - acc: 0.9498 - val_loss: 1.7983 - val_acc: 0.6171\n",
      "Epoch 21/30\n",
      "213/213 [==============================] - 20s 92ms/step - loss: 0.1920 - acc: 0.9515 - val_loss: 1.8301 - val_acc: 0.6194\n",
      "Epoch 22/30\n",
      "213/213 [==============================] - 20s 92ms/step - loss: 0.1841 - acc: 0.9528 - val_loss: 1.8348 - val_acc: 0.6171\n",
      "Epoch 23/30\n",
      "213/213 [==============================] - 20s 94ms/step - loss: 0.1784 - acc: 0.9556 - val_loss: 1.8547 - val_acc: 0.6174\n",
      "Epoch 24/30\n",
      "213/213 [==============================] - 20s 93ms/step - loss: 0.1734 - acc: 0.9570 - val_loss: 1.8830 - val_acc: 0.6179\n",
      "Epoch 25/30\n",
      "213/213 [==============================] - 20s 93ms/step - loss: 0.1675 - acc: 0.9576 - val_loss: 1.8480 - val_acc: 0.6140\n",
      "Epoch 26/30\n",
      "213/213 [==============================] - 20s 92ms/step - loss: 0.1646 - acc: 0.9590 - val_loss: 1.8840 - val_acc: 0.6209\n",
      "Epoch 27/30\n",
      "213/213 [==============================] - 20s 93ms/step - loss: 0.1581 - acc: 0.9608 - val_loss: 1.9385 - val_acc: 0.6199\n",
      "Epoch 28/30\n",
      "213/213 [==============================] - 20s 93ms/step - loss: 0.1551 - acc: 0.9620 - val_loss: 1.9158 - val_acc: 0.6128\n",
      "Epoch 29/30\n",
      "213/213 [==============================] - 20s 93ms/step - loss: 0.1493 - acc: 0.9628 - val_loss: 2.0165 - val_acc: 0.6147\n",
      "Epoch 30/30\n",
      "213/213 [==============================] - 20s 92ms/step - loss: 0.1457 - acc: 0.9651 - val_loss: 1.9844 - val_acc: 0.6137\n"
     ]
    }
   ],
   "source": [
    "\n",
    "\n",
    "history = model.fit(X_train, y_train,\n",
    "                    epochs=30,\n",
    "                    batch_size=128,\n",
    "                    validation_split=0.2)"
   ]
  },
  {
   "cell_type": "code",
   "execution_count": null,
   "metadata": {
    "colab": {
     "base_uri": "https://localhost:8080/",
     "height": 545
    },
    "colab_type": "code",
    "id": "haMxjT9q0wFT",
    "outputId": "b03e14dc-12ad-40c6-899d-a6dcac8c4346"
   },
   "outputs": [
    {
     "data": {
      "image/png": "[encoded data removed]",
      "text/plain": [
       "<Figure size 432x288 with 1 Axes>"
      ]
     },
     "metadata": {
      "needs_background": "light",
      "tags": []
     },
     "output_type": "display_data"
    },
    {
     "data": {
      "image/png": "[encoded data removed]",
      "text/plain": [
       "<Figure size 432x288 with 1 Axes>"
      ]
     },
     "metadata": {
      "needs_background": "light",
      "tags": []
     },
     "output_type": "display_data"
    }
   ],
   "source": [
    "acc = history.history['acc']\n",
    "val_acc = history.history['val_acc']\n",
    "loss = history.history['loss']\n",
    "val_loss = history.history['val_loss']\n",
    "\n",
    "epochs = range(len(acc))\n",
    "\n",
    "plt.plot(epochs, acc, 'bo', label='Training acc')\n",
    "plt.plot(epochs, val_acc, 'b', label='Validation acc')\n",
    "plt.title('Training and validation accuracy')\n",
    "plt.legend()\n",
    "\n",
    "plt.figure()\n",
    "\n",
    "plt.plot(epochs, loss, 'bo', label='Training loss')\n",
    "plt.plot(epochs, val_loss, 'b', label='Validation loss')\n",
    "plt.title('Training and validation loss')\n",
    "plt.legend()\n",
    "\n",
    "plt.show()"
   ]
  },
  {
   "cell_type": "code",
   "execution_count": null,
   "metadata": {
    "colab": {},
    "colab_type": "code",
    "id": "HbqR51xa0wFV"
   },
   "outputs": [],
   "source": [
    "model.save('text_model_3.h5')"
   ]
  },
  {
   "cell_type": "markdown",
   "metadata": {
    "colab_type": "text",
    "id": "c0CqeA4Z0wFX"
   },
   "source": [
    "# Model 4 (Fine Tuning Model 1)"
   ]
  },
  {
   "cell_type": "code",
   "execution_count": null,
   "metadata": {
    "colab": {
     "base_uri": "https://localhost:8080/",
     "height": 337
    },
    "colab_type": "code",
    "id": "VJMIymXk0wFY",
    "outputId": "6e07b7b3-ffb6-4ea0-ca28-9a803552bfe3"
   },
   "outputs": [
    {
     "name": "stdout",
     "output_type": "stream",
     "text": [
      "Model: \"sequential_9\"\n",
      "_________________________________________________________________\n",
      "Layer (type)                 Output Shape              Param #   \n",
      "=================================================================\n",
      "embedding_9 (Embedding)      (None, 34, 16)            240000    \n",
      "_________________________________________________________________\n",
      "lstm_24 (LSTM)               (None, 34, 32)            6272      \n",
      "_________________________________________________________________\n",
      "lstm_25 (LSTM)               (None, 34, 32)            8320      \n",
      "_________________________________________________________________\n",
      "lstm_26 (LSTM)               (None, 32)                8320      \n",
      "_________________________________________________________________\n",
      "dense_9 (Dense)              (None, 5)                 165       \n",
      "=================================================================\n",
      "Total params: 263,077\n",
      "Trainable params: 263,077\n",
      "Non-trainable params: 0\n",
      "_________________________________________________________________\n"
     ]
    }
   ],
   "source": [
    "# Build the Model\n",
    "model = Sequential()\n",
    "model.add(Embedding(max_features, 16, input_length=maxlen))\n",
    "model.add(LSTM(32, return_sequences=True, kernel_regularizer = regularizers.l1_l2(l1=0.005, l2=0.003)))\n",
    "model.add(LSTM(32, return_sequences=True, recurrent_dropout = 0.3))\n",
    "model.add(LSTM(32))\n",
    "model.add(Dense(5, activation='softmax'))\n",
    "model.summary()"
   ]
  },
  {
   "cell_type": "code",
   "execution_count": null,
   "metadata": {
    "colab": {},
    "colab_type": "code",
    "id": "znxjv3X10wFb"
   },
   "outputs": [],
   "source": [
    "model.load_weights('text_model_1.h5')\n",
    "model.compile(optimizer='rmsprop', loss='categorical_crossentropy', metrics=['acc'])"
   ]
  },
  {
   "cell_type": "code",
   "execution_count": null,
   "metadata": {
    "colab": {
     "base_uri": "https://localhost:8080/",
     "height": 1000
    },
    "colab_type": "code",
    "id": "Wqe30KGW0wFd",
    "outputId": "559fde9c-0a5d-4406-ef46-b43e108ecfa2"
   },
   "outputs": [
    {
     "name": "stdout",
     "output_type": "stream",
     "text": [
      "Epoch 1/30\n",
      "213/213 [==============================] - 21s 97ms/step - loss: 3.0873 - acc: 0.9007 - val_loss: 3.2118 - val_acc: 0.6368\n",
      "Epoch 2/30\n",
      "213/213 [==============================] - 20s 95ms/step - loss: 1.6525 - acc: 0.9002 - val_loss: 2.2415 - val_acc: 0.6287\n",
      "Epoch 3/30\n",
      "213/213 [==============================] - 21s 99ms/step - loss: 0.9738 - acc: 0.9034 - val_loss: 1.7792 - val_acc: 0.6335\n",
      "Epoch 4/30\n",
      "213/213 [==============================] - 20s 92ms/step - loss: 0.6627 - acc: 0.9002 - val_loss: 1.5854 - val_acc: 0.6359\n",
      "Epoch 5/30\n",
      "213/213 [==============================] - 20s 94ms/step - loss: 0.5170 - acc: 0.9036 - val_loss: 1.5247 - val_acc: 0.6340\n",
      "Epoch 6/30\n",
      "213/213 [==============================] - 20s 93ms/step - loss: 0.4496 - acc: 0.9038 - val_loss: 1.4814 - val_acc: 0.6296\n",
      "Epoch 7/30\n",
      "213/213 [==============================] - 20s 93ms/step - loss: 0.4086 - acc: 0.9072 - val_loss: 1.5585 - val_acc: 0.6196\n",
      "Epoch 8/30\n",
      "213/213 [==============================] - 20s 94ms/step - loss: 0.3830 - acc: 0.9112 - val_loss: 1.5140 - val_acc: 0.6297\n",
      "Epoch 9/30\n",
      "213/213 [==============================] - 20s 95ms/step - loss: 0.3627 - acc: 0.9132 - val_loss: 1.5532 - val_acc: 0.6303\n",
      "Epoch 10/30\n",
      "213/213 [==============================] - 20s 93ms/step - loss: 0.3487 - acc: 0.9144 - val_loss: 1.5397 - val_acc: 0.6265\n",
      "Epoch 11/30\n",
      "213/213 [==============================] - 20s 93ms/step - loss: 0.3344 - acc: 0.9184 - val_loss: 1.5166 - val_acc: 0.6318\n",
      "Epoch 12/30\n",
      "213/213 [==============================] - 20s 93ms/step - loss: 0.3220 - acc: 0.9212 - val_loss: 1.5421 - val_acc: 0.6284\n",
      "Epoch 13/30\n",
      "213/213 [==============================] - 20s 93ms/step - loss: 0.3081 - acc: 0.9228 - val_loss: 1.5236 - val_acc: 0.6262\n",
      "Epoch 14/30\n",
      "213/213 [==============================] - 20s 93ms/step - loss: 0.3000 - acc: 0.9243 - val_loss: 1.5402 - val_acc: 0.6256\n",
      "Epoch 15/30\n",
      "213/213 [==============================] - 20s 93ms/step - loss: 0.2901 - acc: 0.9280 - val_loss: 1.6079 - val_acc: 0.6304\n",
      "Epoch 16/30\n",
      "213/213 [==============================] - 20s 92ms/step - loss: 0.2809 - acc: 0.9293 - val_loss: 1.6442 - val_acc: 0.6297\n",
      "Epoch 17/30\n",
      "213/213 [==============================] - 20s 93ms/step - loss: 0.2745 - acc: 0.9313 - val_loss: 1.6492 - val_acc: 0.6290\n",
      "Epoch 18/30\n",
      "213/213 [==============================] - 20s 93ms/step - loss: 0.2616 - acc: 0.9344 - val_loss: 2.1353 - val_acc: 0.5680\n",
      "Epoch 19/30\n",
      "213/213 [==============================] - 20s 96ms/step - loss: 0.2582 - acc: 0.9348 - val_loss: 1.6882 - val_acc: 0.6259\n",
      "Epoch 20/30\n",
      "213/213 [==============================] - 20s 92ms/step - loss: 0.2485 - acc: 0.9368 - val_loss: 1.7141 - val_acc: 0.6244\n",
      "Epoch 21/30\n",
      "213/213 [==============================] - 20s 92ms/step - loss: 0.2405 - acc: 0.9400 - val_loss: 1.7082 - val_acc: 0.6134\n",
      "Epoch 22/30\n",
      "213/213 [==============================] - 20s 92ms/step - loss: 0.2336 - acc: 0.9422 - val_loss: 1.7409 - val_acc: 0.6191\n",
      "Epoch 23/30\n",
      "213/213 [==============================] - 20s 93ms/step - loss: 0.2292 - acc: 0.9423 - val_loss: 1.7139 - val_acc: 0.6212\n",
      "Epoch 24/30\n",
      "213/213 [==============================] - 20s 94ms/step - loss: 0.2233 - acc: 0.9442 - val_loss: 1.7381 - val_acc: 0.6282\n",
      "Epoch 25/30\n",
      "213/213 [==============================] - 20s 92ms/step - loss: 0.2190 - acc: 0.9452 - val_loss: 1.6972 - val_acc: 0.6238\n",
      "Epoch 26/30\n",
      "213/213 [==============================] - 20s 93ms/step - loss: 0.2122 - acc: 0.9468 - val_loss: 1.7996 - val_acc: 0.6254\n",
      "Epoch 27/30\n",
      "213/213 [==============================] - 20s 92ms/step - loss: 0.2074 - acc: 0.9495 - val_loss: 1.8355 - val_acc: 0.6202\n",
      "Epoch 28/30\n",
      "213/213 [==============================] - 20s 93ms/step - loss: 0.2029 - acc: 0.9502 - val_loss: 1.8286 - val_acc: 0.6251\n",
      "Epoch 29/30\n",
      "213/213 [==============================] - 20s 92ms/step - loss: 0.1979 - acc: 0.9507 - val_loss: 1.7631 - val_acc: 0.6204\n",
      "Epoch 30/30\n",
      "213/213 [==============================] - 20s 92ms/step - loss: 0.1922 - acc: 0.9530 - val_loss: 1.8438 - val_acc: 0.6212\n"
     ]
    }
   ],
   "source": [
    "history = model.fit(X_train, y_train,\n",
    "                    epochs=30,\n",
    "                    batch_size=128,\n",
    "                    validation_split=0.2)"
   ]
  },
  {
   "cell_type": "code",
   "execution_count": null,
   "metadata": {
    "colab": {
     "base_uri": "https://localhost:8080/",
     "height": 545
    },
    "colab_type": "code",
    "id": "koVvnA7x8GsB",
    "outputId": "5ac863b0-c6a8-4e6a-8a08-c2d5400a6bcd"
   },
   "outputs": [
    {
     "data": {
      "image/png": "[encoded data removed]",
      "text/plain": [
       "<Figure size 432x288 with 1 Axes>"
      ]
     },
     "metadata": {
      "needs_background": "light",
      "tags": []
     },
     "output_type": "display_data"
    },
    {
     "data": {
      "image/png": "[encoded data removed]",
      "text/plain": [
       "<Figure size 432x288 with 1 Axes>"
      ]
     },
     "metadata": {
      "needs_background": "light",
      "tags": []
     },
     "output_type": "display_data"
    }
   ],
   "source": [
    "acc = history.history['acc']\n",
    "val_acc = history.history['val_acc']\n",
    "loss = history.history['loss']\n",
    "val_loss = history.history['val_loss']\n",
    "\n",
    "epochs = range(len(acc))\n",
    "\n",
    "plt.plot(epochs, acc, 'bo', label='Training acc')\n",
    "plt.plot(epochs, val_acc, 'b', label='Validation acc')\n",
    "plt.title('Training and validation accuracy')\n",
    "plt.legend()\n",
    "\n",
    "plt.figure()\n",
    "\n",
    "plt.plot(epochs, loss, 'bo', label='Training loss')\n",
    "plt.plot(epochs, val_loss, 'b', label='Validation loss')\n",
    "plt.title('Training and validation loss')\n",
    "plt.legend()\n",
    "\n",
    "plt.show()"
   ]
  },
  {
   "cell_type": "code",
   "execution_count": null,
   "metadata": {
    "colab": {},
    "colab_type": "code",
    "id": "QBuurAZu8IgJ"
   },
   "outputs": [],
   "source": [
    "model.save('text_model_4.h5')"
   ]
  },
  {
   "cell_type": "markdown",
   "metadata": {
    "colab_type": "text",
    "id": "kCeuPszE0wFh"
   },
   "source": [
    "# Model 5 (GloVe embedding with GRU layers)"
   ]
  },
  {
   "cell_type": "code",
   "execution_count": 87,
   "metadata": {
    "colab": {
     "base_uri": "https://localhost:8080/",
     "height": 35
    },
    "colab_type": "code",
    "id": "PoExhyCD0wFh",
    "outputId": "08d4cb14-ff58-4076-b36f-eb685050f425"
   },
   "outputs": [
    {
     "name": "stdout",
     "output_type": "stream",
     "text": [
      "Found 400000 word vectors.\n"
     ]
    }
   ],
   "source": [
    "import os\n",
    "\n",
    "glove_dir = 'glove.6B'\n",
    "\n",
    "embeddings_index = {}\n",
    "f = open(os.path.join(glove_dir, 'glove.6B.50d.txt'), encoding=\"utf8\")\n",
    "for line in f:\n",
    "    values = line.split()\n",
    "    word = values[0]\n",
    "    coefs = np.asarray(values[1:], dtype='float32')\n",
    "    embeddings_index[word] = coefs\n",
    "f.close()\n",
    "\n",
    "print('Found %s word vectors.' % len(embeddings_index))"
   ]
  },
  {
   "cell_type": "code",
   "execution_count": 88,
   "metadata": {
    "colab": {},
    "colab_type": "code",
    "id": "ZGc8SUd20wFj"
   },
   "outputs": [],
   "source": [
    "embedding_dim = 50\n",
    "\n",
    "embedding_matrix = np.zeros((max_features, embedding_dim))\n",
    "for word, i in word_index.items():\n",
    "    embedding_vector = embeddings_index.get(word)\n",
    "    if i < max_features:\n",
    "        if embedding_vector is not None:\n",
    "            # Words not found in embedding index will be all-zeros.\n",
    "            embedding_matrix[i] = embedding_vector"
   ]
  },
  {
   "cell_type": "code",
   "execution_count": 89,
   "metadata": {
    "colab": {
     "base_uri": "https://localhost:8080/",
     "height": 337
    },
    "colab_type": "code",
    "id": "FOsdJUYt0wFm",
    "outputId": "653bda6f-3dab-488a-d407-b3363daedd80"
   },
   "outputs": [],
   "source": [
    "model = Sequential()\n",
    "model.add(Embedding(max_features, embedding_dim, input_length=maxlen))\n",
    "model.add(layers.GRU(32, return_sequences=True))\n",
    "model.add(layers.GRU(32, return_sequences=True))\n",
    "model.add(layers.GRU(32))\n",
    "model.add(Dense(5, activation='softmax'))"
   ]
  },
  {
   "cell_type": "code",
   "execution_count": 90,
   "metadata": {
    "colab": {},
    "colab_type": "code",
    "id": "UuvDLZn6LRkH"
   },
   "outputs": [
    {
     "name": "stdout",
     "output_type": "stream",
     "text": [
      "Model: \"sequential_9\"\n",
      "_________________________________________________________________\n",
      "Layer (type)                 Output Shape              Param #   \n",
      "=================================================================\n",
      "embedding_9 (Embedding)      (None, 34, 50)            750000    \n",
      "_________________________________________________________________\n",
      "gru_27 (GRU)                 (None, 34, 32)            8064      \n",
      "_________________________________________________________________\n",
      "gru_28 (GRU)                 (None, 34, 32)            6336      \n",
      "_________________________________________________________________\n",
      "gru_29 (GRU)                 (None, 32)                6336      \n",
      "_________________________________________________________________\n",
      "dense_9 (Dense)              (None, 5)                 165       \n",
      "=================================================================\n",
      "Total params: 770,901\n",
      "Trainable params: 20,901\n",
      "Non-trainable params: 750,000\n",
      "_________________________________________________________________\n"
     ]
    }
   ],
   "source": [
    "model.layers[0].set_weights([embedding_matrix])\n",
    "model.layers[0].trainable = False\n",
    "model.summary()\n",
    "model.compile(optimizer='rmsprop', loss='categorical_crossentropy', metrics=['acc'])\n"
   ]
  },
  {
   "cell_type": "code",
   "execution_count": null,
   "metadata": {
    "colab": {
     "base_uri": "https://localhost:8080/",
     "height": 1000
    },
    "colab_type": "code",
    "id": "P2tsUdJRJX-p",
    "outputId": "e57c8292-c5c3-486c-8b92-10269ad24c30"
   },
   "outputs": [
    {
     "name": "stdout",
     "output_type": "stream",
     "text": [
      "Epoch 1/30\n",
      "213/213 [==============================] - 15s 72ms/step - loss: 1.3176 - acc: 0.4593 - val_loss: 1.2855 - val_acc: 0.4739\n",
      "Epoch 2/30\n",
      "213/213 [==============================] - 14s 68ms/step - loss: 1.2291 - acc: 0.4973 - val_loss: 1.2163 - val_acc: 0.5059\n",
      "Epoch 3/30\n",
      "213/213 [==============================] - 15s 69ms/step - loss: 1.1924 - acc: 0.5202 - val_loss: 1.2045 - val_acc: 0.5242\n",
      "Epoch 4/30\n",
      "213/213 [==============================] - 15s 70ms/step - loss: 1.1709 - acc: 0.5316 - val_loss: 1.1777 - val_acc: 0.5244\n",
      "Epoch 5/30\n",
      "213/213 [==============================] - 15s 69ms/step - loss: 1.1505 - acc: 0.5427 - val_loss: 1.1953 - val_acc: 0.5219\n",
      "Epoch 6/30\n",
      "213/213 [==============================] - 15s 71ms/step - loss: 1.1352 - acc: 0.5481 - val_loss: 1.1775 - val_acc: 0.5292\n",
      "Epoch 7/30\n",
      "213/213 [==============================] - 15s 68ms/step - loss: 1.1200 - acc: 0.5538 - val_loss: 1.1569 - val_acc: 0.5231\n",
      "Epoch 8/30\n",
      "213/213 [==============================] - 15s 68ms/step - loss: 1.1074 - acc: 0.5602 - val_loss: 1.1568 - val_acc: 0.5338\n",
      "Epoch 9/30\n",
      "213/213 [==============================] - 15s 68ms/step - loss: 1.0958 - acc: 0.5659 - val_loss: 1.1381 - val_acc: 0.5477\n",
      "Epoch 10/30\n",
      "213/213 [==============================] - 14s 68ms/step - loss: 1.0839 - acc: 0.5703 - val_loss: 1.1474 - val_acc: 0.5404\n",
      "Epoch 11/30\n",
      "213/213 [==============================] - 15s 69ms/step - loss: 1.0726 - acc: 0.5731 - val_loss: 1.1409 - val_acc: 0.5383\n",
      "Epoch 12/30\n",
      "213/213 [==============================] - 14s 68ms/step - loss: 1.0630 - acc: 0.5788 - val_loss: 1.1445 - val_acc: 0.5400\n",
      "Epoch 13/30\n",
      "213/213 [==============================] - 15s 68ms/step - loss: 1.0537 - acc: 0.5821 - val_loss: 1.1230 - val_acc: 0.5520\n",
      "Epoch 14/30\n",
      "213/213 [==============================] - 15s 69ms/step - loss: 1.0432 - acc: 0.5867 - val_loss: 1.1244 - val_acc: 0.5435\n",
      "Epoch 15/30\n",
      "213/213 [==============================] - 15s 70ms/step - loss: 1.0349 - acc: 0.5910 - val_loss: 1.1190 - val_acc: 0.5477\n",
      "Epoch 16/30\n",
      "213/213 [==============================] - 15s 68ms/step - loss: 1.0255 - acc: 0.5935 - val_loss: 1.1294 - val_acc: 0.5345\n",
      "Epoch 17/30\n",
      "213/213 [==============================] - 15s 70ms/step - loss: 1.0168 - acc: 0.5971 - val_loss: 1.1264 - val_acc: 0.5536\n",
      "Epoch 18/30\n",
      "213/213 [==============================] - 15s 69ms/step - loss: 1.0076 - acc: 0.6006 - val_loss: 1.1784 - val_acc: 0.5326\n",
      "Epoch 19/30\n",
      "213/213 [==============================] - 15s 69ms/step - loss: 0.9999 - acc: 0.6051 - val_loss: 1.1418 - val_acc: 0.5441\n",
      "Epoch 20/30\n",
      "213/213 [==============================] - 15s 69ms/step - loss: 0.9915 - acc: 0.6084 - val_loss: 1.1372 - val_acc: 0.5529\n",
      "Epoch 21/30\n",
      "213/213 [==============================] - 15s 69ms/step - loss: 0.9826 - acc: 0.6146 - val_loss: 1.1551 - val_acc: 0.5386\n",
      "Epoch 22/30\n",
      "213/213 [==============================] - 15s 68ms/step - loss: 0.9761 - acc: 0.6157 - val_loss: 1.1207 - val_acc: 0.5502\n",
      "Epoch 23/30\n",
      "213/213 [==============================] - 15s 69ms/step - loss: 0.9673 - acc: 0.6205 - val_loss: 1.1146 - val_acc: 0.5538\n",
      "Epoch 24/30\n",
      "213/213 [==============================] - 15s 68ms/step - loss: 0.9579 - acc: 0.6210 - val_loss: 1.1305 - val_acc: 0.5520\n",
      "Epoch 25/30\n",
      "213/213 [==============================] - 15s 70ms/step - loss: 0.9499 - acc: 0.6268 - val_loss: 1.1226 - val_acc: 0.5568\n",
      "Epoch 26/30\n",
      "213/213 [==============================] - 15s 72ms/step - loss: 0.9415 - acc: 0.6307 - val_loss: 1.1558 - val_acc: 0.5472\n",
      "Epoch 27/30\n",
      "213/213 [==============================] - 15s 72ms/step - loss: 0.9351 - acc: 0.6334 - val_loss: 1.1302 - val_acc: 0.5549\n",
      "Epoch 28/30\n",
      "213/213 [==============================] - 15s 68ms/step - loss: 0.9255 - acc: 0.6385 - val_loss: 1.1359 - val_acc: 0.5614\n",
      "Epoch 29/30\n",
      "213/213 [==============================] - 15s 69ms/step - loss: 0.9167 - acc: 0.6419 - val_loss: 1.1553 - val_acc: 0.5552\n",
      "Epoch 30/30\n",
      "213/213 [==============================] - 15s 69ms/step - loss: 0.9077 - acc: 0.6439 - val_loss: 1.1625 - val_acc: 0.5552\n"
     ]
    }
   ],
   "source": [
    "\n",
    "history = model.fit(X_train, y_train,\n",
    "                    epochs=30,\n",
    "                    batch_size=128,\n",
    "                    validation_split=0.2)"
   ]
  },
  {
   "cell_type": "code",
   "execution_count": null,
   "metadata": {
    "colab": {
     "base_uri": "https://localhost:8080/",
     "height": 545
    },
    "colab_type": "code",
    "id": "Yw2VEJmc0wFo",
    "outputId": "470f141a-4ea0-4bcf-fcac-42e3747217dd"
   },
   "outputs": [
    {
     "data": {
      "image/png": "[encoded data removed]",
      "text/plain": [
       "<Figure size 432x288 with 1 Axes>"
      ]
     },
     "metadata": {
      "needs_background": "light",
      "tags": []
     },
     "output_type": "display_data"
    },
    {
     "data": {
      "image/png": "[encoded data removed]",
      "text/plain": [
       "<Figure size 432x288 with 1 Axes>"
      ]
     },
     "metadata": {
      "needs_background": "light",
      "tags": []
     },
     "output_type": "display_data"
    }
   ],
   "source": [
    "acc = history.history['acc']\n",
    "val_acc = history.history['val_acc']\n",
    "loss = history.history['loss']\n",
    "val_loss = history.history['val_loss']\n",
    "\n",
    "epochs = range(len(acc))\n",
    "\n",
    "plt.plot(epochs, acc, 'bo', label='Training acc')\n",
    "plt.plot(epochs, val_acc, 'b', label='Validation acc')\n",
    "plt.title('Training and validation accuracy')\n",
    "plt.legend()\n",
    "\n",
    "plt.figure()\n",
    "\n",
    "plt.plot(epochs, loss, 'bo', label='Training loss')\n",
    "plt.plot(epochs, val_loss, 'b', label='Validation loss')\n",
    "plt.title('Training and validation loss')\n",
    "plt.legend()\n",
    "\n",
    "plt.show()"
   ]
  },
  {
   "cell_type": "code",
   "execution_count": null,
   "metadata": {
    "colab": {},
    "colab_type": "code",
    "id": "NBd204N70wFq"
   },
   "outputs": [],
   "source": [
    "model.save('text_model_5.h5')"
   ]
  },
  {
   "cell_type": "markdown",
   "metadata": {
    "colab_type": "text",
    "id": "ThkctIoxQERL"
   },
   "source": [
    "# Model 6 (Fine Tuning Model 5)\n"
   ]
  },
  {
   "cell_type": "code",
   "execution_count": 50,
   "metadata": {
    "colab": {
     "base_uri": "https://localhost:8080/",
     "height": 35
    },
    "colab_type": "code",
    "id": "FiDSHcfCPwwE",
    "outputId": "5e17c0e4-db24-4f08-9171-e7030f71993f"
   },
   "outputs": [
    {
     "name": "stdout",
     "output_type": "stream",
     "text": [
      "Found 400000 word vectors.\n"
     ]
    }
   ],
   "source": [
    "import os\n",
    "\n",
    "glove_dir = 'glove.6B'\n",
    "\n",
    "embeddings_index = {}\n",
    "f = open(os.path.join(glove_dir, 'glove.6B.50d.txt'), encoding=\"utf8\")\n",
    "for line in f:\n",
    "    values = line.split()\n",
    "    word = values[0]\n",
    "    coefs = np.asarray(values[1:], dtype='float32')\n",
    "    embeddings_index[word] = coefs\n",
    "f.close()\n",
    "\n",
    "print('Found %s word vectors.' % len(embeddings_index))"
   ]
  },
  {
   "cell_type": "code",
   "execution_count": 51,
   "metadata": {
    "colab": {},
    "colab_type": "code",
    "id": "UOeVmx22Pwub"
   },
   "outputs": [],
   "source": [
    "embedding_dim = 50\n",
    "\n",
    "embedding_matrix = np.zeros((max_features, embedding_dim))\n",
    "for word, i in word_index.items():\n",
    "    embedding_vector = embeddings_index.get(word)\n",
    "    if i < max_features:\n",
    "        if embedding_vector is not None:\n",
    "            # Words not found in embedding index will be all-zeros.\n",
    "            embedding_matrix[i] = embedding_vector"
   ]
  },
  {
   "cell_type": "code",
   "execution_count": 91,
   "metadata": {
    "colab": {
     "base_uri": "https://localhost:8080/",
     "height": 337
    },
    "colab_type": "code",
    "id": "A0wLS7r0PwsG",
    "outputId": "59cfae99-e566-4335-833b-fb167b1b410b"
   },
   "outputs": [],
   "source": [
    "model = Sequential()\n",
    "model.add(Embedding(max_features, embedding_dim, input_length=maxlen))\n",
    "model.add(layers.GRU(32, return_sequences=True))\n",
    "model.add(layers.GRU(32, return_sequences=True))\n",
    "model.add(layers.GRU(32))\n",
    "model.add(Dense(5, activation='softmax'))"
   ]
  },
  {
   "cell_type": "code",
   "execution_count": 92,
   "metadata": {
    "colab": {
     "base_uri": "https://localhost:8080/",
     "height": 337
    },
    "colab_type": "code",
    "id": "W_fPT0MpPwph",
    "outputId": "e2b59255-7e8c-4841-a465-b350cb4e5de0"
   },
   "outputs": [
    {
     "name": "stdout",
     "output_type": "stream",
     "text": [
      "Model: \"sequential_10\"\n",
      "_________________________________________________________________\n",
      "Layer (type)                 Output Shape              Param #   \n",
      "=================================================================\n",
      "embedding_10 (Embedding)     (None, 34, 50)            750000    \n",
      "_________________________________________________________________\n",
      "gru_30 (GRU)                 (None, 34, 32)            8064      \n",
      "_________________________________________________________________\n",
      "gru_31 (GRU)                 (None, 34, 32)            6336      \n",
      "_________________________________________________________________\n",
      "gru_32 (GRU)                 (None, 32)                6336      \n",
      "_________________________________________________________________\n",
      "dense_10 (Dense)             (None, 5)                 165       \n",
      "=================================================================\n",
      "Total params: 770,901\n",
      "Trainable params: 770,901\n",
      "Non-trainable params: 0\n",
      "_________________________________________________________________\n"
     ]
    }
   ],
   "source": [
    "model.layers[0].set_weights([embedding_matrix])\n",
    "#model.layers[0].trainable = False\n",
    "model.summary()"
   ]
  },
  {
   "cell_type": "code",
   "execution_count": 54,
   "metadata": {
    "colab": {},
    "colab_type": "code",
    "id": "A8Skj0MzRIcE"
   },
   "outputs": [],
   "source": [
    "model.load_weights('text_model_5.h5')\n",
    "model.compile(optimizer='rmsprop', loss='categorical_crossentropy', metrics=['acc'])"
   ]
  },
  {
   "cell_type": "code",
   "execution_count": null,
   "metadata": {
    "colab": {
     "base_uri": "https://localhost:8080/",
     "height": 1000
    },
    "colab_type": "code",
    "id": "RJKA0XIfPwnY",
    "outputId": "de10d9bc-5b1e-4d63-c169-5819fe456bda"
   },
   "outputs": [
    {
     "name": "stdout",
     "output_type": "stream",
     "text": [
      "Epoch 1/30\n",
      "213/213 [==============================] - 17s 79ms/step - loss: 0.8693 - acc: 0.6603 - val_loss: 1.0769 - val_acc: 0.5824\n",
      "Epoch 2/30\n",
      "213/213 [==============================] - 16s 75ms/step - loss: 0.7747 - acc: 0.7002 - val_loss: 1.0417 - val_acc: 0.6002\n",
      "Epoch 3/30\n",
      "213/213 [==============================] - 16s 75ms/step - loss: 0.7080 - acc: 0.7281 - val_loss: 1.0400 - val_acc: 0.6093\n",
      "Epoch 4/30\n",
      "213/213 [==============================] - 16s 74ms/step - loss: 0.6554 - acc: 0.7513 - val_loss: 1.0453 - val_acc: 0.6155\n",
      "Epoch 5/30\n",
      "213/213 [==============================] - 16s 75ms/step - loss: 0.6043 - acc: 0.7751 - val_loss: 1.0365 - val_acc: 0.6243\n",
      "Epoch 6/30\n",
      "213/213 [==============================] - 16s 76ms/step - loss: 0.5581 - acc: 0.7945 - val_loss: 1.0508 - val_acc: 0.6260\n",
      "Epoch 7/30\n",
      "213/213 [==============================] - 16s 75ms/step - loss: 0.5144 - acc: 0.8101 - val_loss: 1.0837 - val_acc: 0.6309\n",
      "Epoch 8/30\n",
      "213/213 [==============================] - 16s 75ms/step - loss: 0.4725 - acc: 0.8269 - val_loss: 1.1042 - val_acc: 0.6381\n",
      "Epoch 9/30\n",
      "213/213 [==============================] - 16s 76ms/step - loss: 0.4326 - acc: 0.8439 - val_loss: 1.1365 - val_acc: 0.6334\n",
      "Epoch 10/30\n",
      "213/213 [==============================] - 16s 77ms/step - loss: 0.3937 - acc: 0.8606 - val_loss: 1.1806 - val_acc: 0.6335\n",
      "Epoch 11/30\n",
      "213/213 [==============================] - 16s 76ms/step - loss: 0.3593 - acc: 0.8740 - val_loss: 1.2161 - val_acc: 0.6334\n",
      "Epoch 12/30\n",
      "213/213 [==============================] - 16s 75ms/step - loss: 0.3260 - acc: 0.8870 - val_loss: 1.2560 - val_acc: 0.6447\n",
      "Epoch 13/30\n",
      "213/213 [==============================] - 16s 76ms/step - loss: 0.2945 - acc: 0.9005 - val_loss: 1.2867 - val_acc: 0.6379\n",
      "Epoch 14/30\n",
      "213/213 [==============================] - 16s 75ms/step - loss: 0.2657 - acc: 0.9098 - val_loss: 1.3147 - val_acc: 0.6460\n",
      "Epoch 15/30\n",
      "213/213 [==============================] - 17s 78ms/step - loss: 0.2381 - acc: 0.9208 - val_loss: 1.3762 - val_acc: 0.6445\n",
      "Epoch 16/30\n",
      "213/213 [==============================] - 16s 75ms/step - loss: 0.2138 - acc: 0.9298 - val_loss: 1.4429 - val_acc: 0.6510\n",
      "Epoch 17/30\n",
      "213/213 [==============================] - 16s 76ms/step - loss: 0.1898 - acc: 0.9381 - val_loss: 1.5017 - val_acc: 0.6506\n",
      "Epoch 18/30\n",
      "213/213 [==============================] - 16s 75ms/step - loss: 0.1697 - acc: 0.9457 - val_loss: 1.5382 - val_acc: 0.6467\n",
      "Epoch 19/30\n",
      "213/213 [==============================] - 16s 75ms/step - loss: 0.1497 - acc: 0.9525 - val_loss: 1.6001 - val_acc: 0.6479\n",
      "Epoch 20/30\n",
      "213/213 [==============================] - 16s 74ms/step - loss: 0.1324 - acc: 0.9586 - val_loss: 1.6374 - val_acc: 0.6494\n",
      "Epoch 21/30\n",
      "213/213 [==============================] - 16s 75ms/step - loss: 0.1157 - acc: 0.9637 - val_loss: 1.7430 - val_acc: 0.6481\n",
      "Epoch 22/30\n",
      "213/213 [==============================] - 16s 75ms/step - loss: 0.1009 - acc: 0.9704 - val_loss: 1.8248 - val_acc: 0.6439\n",
      "Epoch 23/30\n",
      "213/213 [==============================] - 16s 75ms/step - loss: 0.0887 - acc: 0.9739 - val_loss: 1.8796 - val_acc: 0.6447\n",
      "Epoch 24/30\n",
      "213/213 [==============================] - 16s 76ms/step - loss: 0.0783 - acc: 0.9757 - val_loss: 1.9182 - val_acc: 0.6478\n",
      "Epoch 25/30\n",
      "213/213 [==============================] - 16s 75ms/step - loss: 0.0672 - acc: 0.9804 - val_loss: 1.9681 - val_acc: 0.6525\n",
      "Epoch 26/30\n",
      "213/213 [==============================] - 16s 75ms/step - loss: 0.0586 - acc: 0.9835 - val_loss: 2.0553 - val_acc: 0.6504\n",
      "Epoch 27/30\n",
      "213/213 [==============================] - 16s 75ms/step - loss: 0.0513 - acc: 0.9850 - val_loss: 2.1223 - val_acc: 0.6495\n",
      "Epoch 28/30\n",
      "213/213 [==============================] - 16s 77ms/step - loss: 0.0439 - acc: 0.9875 - val_loss: 2.2402 - val_acc: 0.6464\n",
      "Epoch 29/30\n",
      "213/213 [==============================] - 16s 77ms/step - loss: 0.0393 - acc: 0.9885 - val_loss: 2.2211 - val_acc: 0.6529\n",
      "Epoch 30/30\n",
      "213/213 [==============================] - 16s 75ms/step - loss: 0.0334 - acc: 0.9910 - val_loss: 2.3116 - val_acc: 0.6510\n"
     ]
    }
   ],
   "source": [
    "history = model.fit(X_train, y_train,\n",
    "                    epochs=30,\n",
    "                    batch_size=128,\n",
    "                    validation_split=0.2)"
   ]
  },
  {
   "cell_type": "code",
   "execution_count": null,
   "metadata": {
    "colab": {
     "base_uri": "https://localhost:8080/",
     "height": 545
    },
    "colab_type": "code",
    "id": "qpxAyGdYPwlB",
    "outputId": "4ff47ee8-6bcb-4ce4-c18d-3a0c98fe5179"
   },
   "outputs": [
    {
     "data": {
      "image/png": "[encoded data removed]",
      "text/plain": [
       "<Figure size 432x288 with 1 Axes>"
      ]
     },
     "metadata": {
      "needs_background": "light",
      "tags": []
     },
     "output_type": "display_data"
    },
    {
     "data": {
      "image/png": "[encoded data removed]",
      "text/plain": [
       "<Figure size 432x288 with 1 Axes>"
      ]
     },
     "metadata": {
      "needs_background": "light",
      "tags": []
     },
     "output_type": "display_data"
    }
   ],
   "source": [
    "acc = history.history['acc']\n",
    "val_acc = history.history['val_acc']\n",
    "loss = history.history['loss']\n",
    "val_loss = history.history['val_loss']\n",
    "\n",
    "epochs = range(len(acc))\n",
    "\n",
    "plt.plot(epochs, acc, 'bo', label='Training acc')\n",
    "plt.plot(epochs, val_acc, 'b', label='Validation acc')\n",
    "plt.title('Training and validation accuracy')\n",
    "plt.legend()\n",
    "\n",
    "plt.figure()\n",
    "\n",
    "plt.plot(epochs, loss, 'bo', label='Training loss')\n",
    "plt.plot(epochs, val_loss, 'b', label='Validation loss')\n",
    "plt.title('Training and validation loss')\n",
    "plt.legend()\n",
    "\n",
    "plt.show()"
   ]
  },
  {
   "cell_type": "code",
   "execution_count": null,
   "metadata": {
    "colab": {},
    "colab_type": "code",
    "id": "xIbBFRZUPvyg"
   },
   "outputs": [],
   "source": [
    "model.save('text_model_6.h5')"
   ]
  },
  {
   "cell_type": "markdown",
   "metadata": {
    "colab_type": "text",
    "id": "j0fy-7B0YVwe"
   },
   "source": [
    "# Model 7 (Fine Tuning Model 5)"
   ]
  },
  {
   "cell_type": "code",
   "execution_count": 8,
   "metadata": {
    "colab": {
     "base_uri": "https://localhost:8080/",
     "height": 35
    },
    "colab_type": "code",
    "id": "eGVUyR8NPvwe",
    "outputId": "f1f53604-faf0-4125-fe4d-45d49224a4ff"
   },
   "outputs": [
    {
     "name": "stdout",
     "output_type": "stream",
     "text": [
      "Found 400000 word vectors.\n"
     ]
    }
   ],
   "source": [
    "import os\n",
    "\n",
    "glove_dir = 'glove.6B'\n",
    "\n",
    "embeddings_index = {}\n",
    "f = open(os.path.join(glove_dir, 'glove.6B.50d.txt'), encoding=\"utf8\")\n",
    "for line in f:\n",
    "    values = line.split()\n",
    "    word = values[0]\n",
    "    coefs = np.asarray(values[1:], dtype='float32')\n",
    "    embeddings_index[word] = coefs\n",
    "f.close()\n",
    "\n",
    "print('Found %s word vectors.' % len(embeddings_index))"
   ]
  },
  {
   "cell_type": "code",
   "execution_count": 9,
   "metadata": {
    "colab": {},
    "colab_type": "code",
    "id": "1jmhiAvwYSEX"
   },
   "outputs": [],
   "source": [
    "embedding_dim = 50\n",
    "\n",
    "embedding_matrix = np.zeros((max_features, embedding_dim))\n",
    "for word, i in word_index.items():\n",
    "    embedding_vector = embeddings_index.get(word)\n",
    "    if i < max_features:\n",
    "        if embedding_vector is not None:\n",
    "            # Words not found in embedding index will be all-zeros.\n",
    "            embedding_matrix[i] = embedding_vector"
   ]
  },
  {
   "cell_type": "code",
   "execution_count": 10,
   "metadata": {
    "colab": {
     "base_uri": "https://localhost:8080/",
     "height": 372
    },
    "colab_type": "code",
    "id": "AWc0Ett9YSQv",
    "outputId": "f8ca0191-6584-42b7-9877-4e25350dd1da"
   },
   "outputs": [],
   "source": [
    "model = Sequential()\n",
    "model.add(Embedding(max_features, embedding_dim, input_length=maxlen))\n",
    "model.add(layers.Dropout(0.2))\n",
    "model.add(layers.GRU(32, return_sequences=True, kernel_regularizer=regularizers.l2(0.005)))\n",
    "model.add(layers.GRU(32, return_sequences=True))\n",
    "model.add(layers.GRU(32))\n",
    "model.add(Dense(5, activation='softmax'))"
   ]
  },
  {
   "cell_type": "code",
   "execution_count": 11,
   "metadata": {
    "colab": {
     "base_uri": "https://localhost:8080/",
     "height": 372
    },
    "colab_type": "code",
    "id": "-rYc6JjGYSV3",
    "outputId": "d97e50bd-80bb-4a33-c520-daee874a087d"
   },
   "outputs": [
    {
     "name": "stdout",
     "output_type": "stream",
     "text": [
      "Model: \"sequential\"\n",
      "_________________________________________________________________\n",
      "Layer (type)                 Output Shape              Param #   \n",
      "=================================================================\n",
      "embedding (Embedding)        (None, 34, 50)            750000    \n",
      "_________________________________________________________________\n",
      "dropout (Dropout)            (None, 34, 50)            0         \n",
      "_________________________________________________________________\n",
      "gru (GRU)                    (None, 34, 32)            8064      \n",
      "_________________________________________________________________\n",
      "gru_1 (GRU)                  (None, 34, 32)            6336      \n",
      "_________________________________________________________________\n",
      "gru_2 (GRU)                  (None, 32)                6336      \n",
      "_________________________________________________________________\n",
      "dense (Dense)                (None, 5)                 165       \n",
      "=================================================================\n",
      "Total params: 770,901\n",
      "Trainable params: 770,901\n",
      "Non-trainable params: 0\n",
      "_________________________________________________________________\n"
     ]
    }
   ],
   "source": [
    "model.layers[0].set_weights([embedding_matrix])\n",
    "#model.layers[0].trainable = False\n",
    "model.summary()"
   ]
  },
  {
   "cell_type": "code",
   "execution_count": 12,
   "metadata": {
    "colab": {},
    "colab_type": "code",
    "id": "VQYJS6I3YSNU"
   },
   "outputs": [],
   "source": [
    "model.load_weights('text_model_6.h5')\n",
    "model.compile(optimizer='rmsprop', loss='categorical_crossentropy', metrics=['acc'])"
   ]
  },
  {
   "cell_type": "code",
   "execution_count": null,
   "metadata": {
    "colab": {
     "base_uri": "https://localhost:8080/",
     "height": 1000
    },
    "colab_type": "code",
    "id": "cLqfPQyLYSC2",
    "outputId": "3792cb0d-13ca-4656-eb5e-a75a20bd18a8"
   },
   "outputs": [
    {
     "name": "stdout",
     "output_type": "stream",
     "text": [
      "Epoch 1/30\n",
      "213/213 [==============================] - 19s 89ms/step - loss: 3.1207 - acc: 0.6713 - val_loss: 2.2519 - val_acc: 0.7537\n",
      "Epoch 2/30\n",
      "213/213 [==============================] - 18s 85ms/step - loss: 2.0181 - acc: 0.6940 - val_loss: 1.5318 - val_acc: 0.7757\n",
      "Epoch 3/30\n",
      "213/213 [==============================] - 19s 88ms/step - loss: 1.4482 - acc: 0.7201 - val_loss: 1.2069 - val_acc: 0.7659\n",
      "Epoch 4/30\n",
      "213/213 [==============================] - 18s 83ms/step - loss: 1.1708 - acc: 0.7257 - val_loss: 1.0140 - val_acc: 0.7641\n",
      "Epoch 5/30\n",
      "213/213 [==============================] - 18s 85ms/step - loss: 1.0194 - acc: 0.7331 - val_loss: 0.9646 - val_acc: 0.7344\n",
      "Epoch 6/30\n",
      "213/213 [==============================] - 18s 83ms/step - loss: 0.9386 - acc: 0.7375 - val_loss: 0.8829 - val_acc: 0.7510\n",
      "Epoch 7/30\n",
      "213/213 [==============================] - 18s 86ms/step - loss: 0.8786 - acc: 0.7455 - val_loss: 0.8551 - val_acc: 0.7526\n",
      "Epoch 8/30\n",
      "213/213 [==============================] - 17s 82ms/step - loss: 0.8333 - acc: 0.7524 - val_loss: 0.8401 - val_acc: 0.7482\n",
      "Epoch 9/30\n",
      "213/213 [==============================] - 18s 83ms/step - loss: 0.8021 - acc: 0.7598 - val_loss: 0.8497 - val_acc: 0.7334\n",
      "Epoch 10/30\n",
      "213/213 [==============================] - 18s 85ms/step - loss: 0.7763 - acc: 0.7637 - val_loss: 0.8219 - val_acc: 0.7402\n",
      "Epoch 11/30\n",
      "213/213 [==============================] - 18s 83ms/step - loss: 0.7456 - acc: 0.7709 - val_loss: 0.8304 - val_acc: 0.7341\n",
      "Epoch 12/30\n",
      "213/213 [==============================] - 18s 85ms/step - loss: 0.7235 - acc: 0.7751 - val_loss: 0.8167 - val_acc: 0.7440\n",
      "Epoch 13/30\n",
      "213/213 [==============================] - 18s 84ms/step - loss: 0.7014 - acc: 0.7809 - val_loss: 0.8092 - val_acc: 0.7410\n",
      "Epoch 14/30\n",
      "213/213 [==============================] - 18s 86ms/step - loss: 0.6861 - acc: 0.7856 - val_loss: 0.8130 - val_acc: 0.7360\n",
      "Epoch 15/30\n",
      "213/213 [==============================] - 18s 85ms/step - loss: 0.6646 - acc: 0.7919 - val_loss: 0.8199 - val_acc: 0.7321\n",
      "Epoch 16/30\n",
      "213/213 [==============================] - 18s 84ms/step - loss: 0.6480 - acc: 0.7979 - val_loss: 0.8170 - val_acc: 0.7290\n",
      "Epoch 17/30\n",
      "213/213 [==============================] - 18s 86ms/step - loss: 0.6328 - acc: 0.7995 - val_loss: 0.8132 - val_acc: 0.7337\n",
      "Epoch 18/30\n",
      "213/213 [==============================] - 21s 99ms/step - loss: 0.6164 - acc: 0.8069 - val_loss: 0.8347 - val_acc: 0.7328\n",
      "Epoch 19/30\n",
      "213/213 [==============================] - 21s 100ms/step - loss: 0.6120 - acc: 0.8076 - val_loss: 0.8045 - val_acc: 0.7366\n",
      "Epoch 20/30\n",
      "213/213 [==============================] - 22s 104ms/step - loss: 0.5905 - acc: 0.8138 - val_loss: 0.8369 - val_acc: 0.7318\n",
      "Epoch 21/30\n",
      "213/213 [==============================] - 21s 99ms/step - loss: 0.5709 - acc: 0.8213 - val_loss: 0.8635 - val_acc: 0.7093\n",
      "Epoch 22/30\n",
      "213/213 [==============================] - 21s 98ms/step - loss: 0.5639 - acc: 0.8236 - val_loss: 0.8294 - val_acc: 0.7334\n",
      "Epoch 23/30\n",
      "213/213 [==============================] - 23s 110ms/step - loss: 0.5521 - acc: 0.8263 - val_loss: 0.8255 - val_acc: 0.7287\n",
      "Epoch 24/30\n",
      "213/213 [==============================] - 20s 96ms/step - loss: 0.5387 - acc: 0.8340 - val_loss: 0.8555 - val_acc: 0.7272\n",
      "Epoch 25/30\n",
      "213/213 [==============================] - 20s 96ms/step - loss: 0.5305 - acc: 0.8333 - val_loss: 0.8559 - val_acc: 0.7237\n",
      "Epoch 26/30\n",
      "213/213 [==============================] - 20s 92ms/step - loss: 0.5172 - acc: 0.8393 - val_loss: 0.8393 - val_acc: 0.7302\n",
      "Epoch 27/30\n",
      "213/213 [==============================] - 19s 90ms/step - loss: 0.5059 - acc: 0.8431 - val_loss: 0.8853 - val_acc: 0.7249\n",
      "Epoch 28/30\n",
      "213/213 [==============================] - 20s 93ms/step - loss: 0.5026 - acc: 0.8436 - val_loss: 0.8761 - val_acc: 0.7171\n",
      "Epoch 29/30\n",
      "213/213 [==============================] - 20s 95ms/step - loss: 0.4856 - acc: 0.8519 - val_loss: 0.8888 - val_acc: 0.7236\n",
      "Epoch 30/30\n",
      "213/213 [==============================] - 22s 104ms/step - loss: 0.4812 - acc: 0.8507 - val_loss: 0.8740 - val_acc: 0.7211\n"
     ]
    }
   ],
   "source": [
    "history = model.fit(X_train, y_train,\n",
    "                    epochs=30,\n",
    "                    batch_size=128,\n",
    "                    validation_split=0.2)"
   ]
  },
  {
   "cell_type": "code",
   "execution_count": null,
   "metadata": {
    "colab": {
     "base_uri": "https://localhost:8080/",
     "height": 545
    },
    "colab_type": "code",
    "id": "QT5XziTrYSAk",
    "outputId": "8c0a2974-ad55-4350-c2d7-bbebdee1c271"
   },
   "outputs": [
    {
     "data": {
      "image/png": "[encoded data removed]",
      "text/plain": [
       "<Figure size 432x288 with 1 Axes>"
      ]
     },
     "metadata": {
      "needs_background": "light",
      "tags": []
     },
     "output_type": "display_data"
    },
    {
     "data": {
      "image/png": "[encoded data removed]",
      "text/plain": [
       "<Figure size 432x288 with 1 Axes>"
      ]
     },
     "metadata": {
      "needs_background": "light",
      "tags": []
     },
     "output_type": "display_data"
    }
   ],
   "source": [
    "acc = history.history['acc']\n",
    "val_acc = history.history['val_acc']\n",
    "loss = history.history['loss']\n",
    "val_loss = history.history['val_loss']\n",
    "\n",
    "epochs = range(len(acc))\n",
    "\n",
    "plt.plot(epochs, acc, 'bo', label='Training acc')\n",
    "plt.plot(epochs, val_acc, 'b', label='Validation acc')\n",
    "plt.title('Training and validation accuracy')\n",
    "plt.legend()\n",
    "\n",
    "plt.figure()\n",
    "\n",
    "plt.plot(epochs, loss, 'bo', label='Training loss')\n",
    "plt.plot(epochs, val_loss, 'b', label='Validation loss')\n",
    "plt.title('Training and validation loss')\n",
    "plt.legend()\n",
    "\n",
    "plt.show()"
   ]
  },
  {
   "cell_type": "code",
   "execution_count": 13,
   "metadata": {},
   "outputs": [
    {
     "name": "stdout",
     "output_type": "stream",
     "text": [
      "Train on 27228 samples, validate on 6808 samples\n",
      "Epoch 1/10\n",
      "27228/27228 [==============================] - 15s 558us/sample - loss: 3.2301 - acc: 0.6850 - val_loss: 2.3322 - val_acc: 0.7634\n",
      "Epoch 2/10\n",
      "27228/27228 [==============================] - 7s 249us/sample - loss: 2.2314 - acc: 0.6923 - val_loss: 1.7246 - val_acc: 0.7588\n",
      "Epoch 3/10\n",
      "27228/27228 [==============================] - 7s 248us/sample - loss: 1.6140 - acc: 0.7130 - val_loss: 1.2825 - val_acc: 0.7789\n",
      "Epoch 4/10\n",
      "27228/27228 [==============================] - 7s 264us/sample - loss: 1.2771 - acc: 0.7216 - val_loss: 1.0642 - val_acc: 0.7747\n",
      "Epoch 5/10\n",
      "27228/27228 [==============================] - 7s 254us/sample - loss: 1.0907 - acc: 0.7280 - val_loss: 0.9649 - val_acc: 0.7687\n",
      "Epoch 6/10\n",
      "27228/27228 [==============================] - 7s 255us/sample - loss: 0.9835 - acc: 0.7348 - val_loss: 0.8981 - val_acc: 0.7637\n",
      "Epoch 7/10\n",
      "27228/27228 [==============================] - 7s 259us/sample - loss: 0.9062 - acc: 0.7445 - val_loss: 0.8628 - val_acc: 0.7569\n",
      "Epoch 8/10\n",
      "27228/27228 [==============================] - 7s 249us/sample - loss: 0.8574 - acc: 0.7483 - val_loss: 0.8483 - val_acc: 0.7560\n",
      "Epoch 9/10\n",
      "27228/27228 [==============================] - 7s 266us/sample - loss: 0.8149 - acc: 0.7575 - val_loss: 0.8294 - val_acc: 0.7540\n",
      "Epoch 10/10\n",
      "27228/27228 [==============================] - 9s 320us/sample - loss: 0.7842 - acc: 0.7614 - val_loss: 0.8180 - val_acc: 0.7484\n"
     ]
    }
   ],
   "source": [
    "history = model.fit(X_train, y_train,\n",
    "                    epochs=10,\n",
    "                    batch_size=128,\n",
    "                    validation_split=0.2)"
   ]
  },
  {
   "cell_type": "code",
   "execution_count": 14,
   "metadata": {},
   "outputs": [
    {
     "data": {
      "image/png": "[encoded data removed]",
      "text/plain": [
       "<Figure size 432x288 with 1 Axes>"
      ]
     },
     "metadata": {
      "needs_background": "light"
     },
     "output_type": "display_data"
    },
    {
     "data": {
      "image/png": "[encoded data removed]",
      "text/plain": [
       "<Figure size 432x288 with 1 Axes>"
      ]
     },
     "metadata": {
      "needs_background": "light"
     },
     "output_type": "display_data"
    }
   ],
   "source": [
    "acc = history.history['acc']\n",
    "val_acc = history.history['val_acc']\n",
    "loss = history.history['loss']\n",
    "val_loss = history.history['val_loss']\n",
    "\n",
    "epochs = range(len(acc))\n",
    "\n",
    "plt.plot(epochs, acc, 'bo', label='Training acc')\n",
    "plt.plot(epochs, val_acc, 'b', label='Validation acc')\n",
    "plt.title('Training and validation accuracy')\n",
    "plt.legend()\n",
    "\n",
    "plt.figure()\n",
    "\n",
    "plt.plot(epochs, loss, 'bo', label='Training loss')\n",
    "plt.plot(epochs, val_loss, 'b', label='Validation loss')\n",
    "plt.title('Training and validation loss')\n",
    "plt.legend()\n",
    "\n",
    "plt.show()"
   ]
  },
  {
   "cell_type": "code",
   "execution_count": null,
   "metadata": {
    "colab": {},
    "colab_type": "code",
    "id": "1rnfxDDdYR-q"
   },
   "outputs": [],
   "source": [
    "model.save('text_model_7.h5')"
   ]
  },
  {
   "cell_type": "code",
   "execution_count": 15,
   "metadata": {},
   "outputs": [],
   "source": [
    "model.save('text_model_7b.h5')"
   ]
  },
  {
   "cell_type": "markdown",
   "metadata": {
    "colab_type": "text",
    "id": "sUv8iiRWK0VC"
   },
   "source": [
    "# Model 8 (Fine Tuning Model 5)"
   ]
  },
  {
   "cell_type": "code",
   "execution_count": 8,
   "metadata": {
    "colab": {
     "base_uri": "https://localhost:8080/",
     "height": 35
    },
    "colab_type": "code",
    "id": "oUaKY3QiZjy4",
    "outputId": "4b475e86-3a28-4bf2-9a4a-0a337539f90c"
   },
   "outputs": [
    {
     "name": "stdout",
     "output_type": "stream",
     "text": [
      "Found 400000 word vectors.\n"
     ]
    }
   ],
   "source": [
    "import os\n",
    "\n",
    "glove_dir = 'glove.6B'\n",
    "\n",
    "embeddings_index = {}\n",
    "f = open(os.path.join(glove_dir, 'glove.6B.50d.txt'), encoding=\"utf8\")\n",
    "for line in f:\n",
    "    values = line.split()\n",
    "    word = values[0]\n",
    "    coefs = np.asarray(values[1:], dtype='float32')\n",
    "    embeddings_index[word] = coefs\n",
    "f.close()\n",
    "\n",
    "print('Found %s word vectors.' % len(embeddings_index))"
   ]
  },
  {
   "cell_type": "code",
   "execution_count": 9,
   "metadata": {
    "colab": {},
    "colab_type": "code",
    "id": "3ZX5wqmrYR5E"
   },
   "outputs": [],
   "source": [
    "embedding_dim = 50\n",
    "\n",
    "embedding_matrix = np.zeros((max_features, embedding_dim))\n",
    "for word, i in word_index.items():\n",
    "    embedding_vector = embeddings_index.get(word)\n",
    "    if i < max_features:\n",
    "        if embedding_vector is not None:\n",
    "            # Words not found in embedding index will be all-zeros.\n",
    "            embedding_matrix[i] = embedding_vector"
   ]
  },
  {
   "cell_type": "code",
   "execution_count": 10,
   "metadata": {
    "colab": {
     "base_uri": "https://localhost:8080/",
     "height": 372
    },
    "colab_type": "code",
    "id": "2mbK92SzPvuT",
    "outputId": "3b2af7e3-5657-45a1-ae79-72be3372a9a8"
   },
   "outputs": [],
   "source": [
    "model = Sequential()\n",
    "model.add(Embedding(max_features, embedding_dim, input_length=maxlen))\n",
    "model.add(layers.Dropout(0.2))\n",
    "model.add(layers.GRU(32, return_sequences=True, kernel_regularizer=regularizers.l2(0.005)))\n",
    "model.add(layers.GRU(32, return_sequences=True, recurrent_dropout = 0.1))\n",
    "model.add(layers.GRU(32))\n",
    "model.add(Dense(5, activation='softmax'))"
   ]
  },
  {
   "cell_type": "code",
   "execution_count": 11,
   "metadata": {
    "colab": {
     "base_uri": "https://localhost:8080/",
     "height": 372
    },
    "colab_type": "code",
    "id": "jyd7u6QaPvpc",
    "outputId": "50b04ee9-88f2-4ea9-cd84-937d57b0b9d4"
   },
   "outputs": [
    {
     "name": "stdout",
     "output_type": "stream",
     "text": [
      "Model: \"sequential\"\n",
      "_________________________________________________________________\n",
      "Layer (type)                 Output Shape              Param #   \n",
      "=================================================================\n",
      "embedding (Embedding)        (None, 34, 50)            750000    \n",
      "_________________________________________________________________\n",
      "dropout (Dropout)            (None, 34, 50)            0         \n",
      "_________________________________________________________________\n",
      "gru (GRU)                    (None, 34, 32)            8064      \n",
      "_________________________________________________________________\n",
      "gru_1 (GRU)                  (None, 34, 32)            6336      \n",
      "_________________________________________________________________\n",
      "gru_2 (GRU)                  (None, 32)                6336      \n",
      "_________________________________________________________________\n",
      "dense (Dense)                (None, 5)                 165       \n",
      "=================================================================\n",
      "Total params: 770,901\n",
      "Trainable params: 770,901\n",
      "Non-trainable params: 0\n",
      "_________________________________________________________________\n"
     ]
    }
   ],
   "source": [
    "model.layers[0].set_weights([embedding_matrix])\n",
    "#model.layers[0].trainable = False\n",
    "model.summary()"
   ]
  },
  {
   "cell_type": "code",
   "execution_count": 12,
   "metadata": {
    "colab": {},
    "colab_type": "code",
    "id": "gWOu08r6LDfG"
   },
   "outputs": [],
   "source": [
    "model.load_weights('text_model_7.h5')\n",
    "model.compile(optimizer='rmsprop', loss='categorical_crossentropy', metrics=['acc'])"
   ]
  },
  {
   "cell_type": "code",
   "execution_count": null,
   "metadata": {
    "colab": {
     "base_uri": "https://localhost:8080/",
     "height": 1000
    },
    "colab_type": "code",
    "id": "B1UXynDIPvc6",
    "outputId": "645cebd5-5d5d-4bd5-ffa8-38fba08233aa"
   },
   "outputs": [
    {
     "name": "stdout",
     "output_type": "stream",
     "text": [
      "Train on 27228 samples, validate on 6808 samples\n",
      "Epoch 1/30\n",
      "27228/27228 [==============================] - 30s 1ms/sample - loss: 0.6624 - acc: 0.7858 - val_loss: 0.5849 - val_acc: 0.8252\n",
      "Epoch 2/30\n",
      "27228/27228 [==============================] - 25s 906us/sample - loss: 0.6283 - acc: 0.7971 - val_loss: 0.5770 - val_acc: 0.8243\n",
      "Epoch 3/30\n",
      "26368/27228 [============================>.] - ETA: 0s - loss: 0.6223 - acc: 0.7962"
     ]
    }
   ],
   "source": [
    "history = model.fit(X_train, y_train,\n",
    "                    epochs=30,\n",
    "                    batch_size=128,\n",
    "                    validation_split=0.2)"
   ]
  },
  {
   "cell_type": "code",
   "execution_count": null,
   "metadata": {
    "colab": {
     "base_uri": "https://localhost:8080/",
     "height": 545
    },
    "colab_type": "code",
    "id": "JHerX75NKw52",
    "outputId": "43870f7e-5f78-4ea3-8b25-fe7d819713b5"
   },
   "outputs": [],
   "source": [
    "acc = history.history['acc']\n",
    "val_acc = history.history['val_acc']\n",
    "loss = history.history['loss']\n",
    "val_loss = history.history['val_loss']\n",
    "\n",
    "epochs = range(len(acc))\n",
    "\n",
    "plt.plot(epochs, acc, 'bo', label='Training acc')\n",
    "plt.plot(epochs, val_acc, 'b', label='Validation acc')\n",
    "plt.title('Training and validation accuracy')\n",
    "plt.legend()\n",
    "\n",
    "plt.figure()\n",
    "\n",
    "plt.plot(epochs, loss, 'bo', label='Training loss')\n",
    "plt.plot(epochs, val_loss, 'b', label='Validation loss')\n",
    "plt.title('Training and validation loss')\n",
    "plt.legend()\n",
    "\n",
    "plt.show()"
   ]
  },
  {
   "cell_type": "code",
   "execution_count": null,
   "metadata": {
    "colab": {},
    "colab_type": "code",
    "id": "BLa_J7GPPuos"
   },
   "outputs": [],
   "source": [
    "model.save('text_model_8.h5')"
   ]
  },
  {
   "cell_type": "markdown",
   "metadata": {
    "colab_type": "text",
    "id": "9cduK46KUSX-"
   },
   "source": [
    "# Model 9 (Fine Tuning Model 5)"
   ]
  },
  {
   "cell_type": "code",
   "execution_count": 33,
   "metadata": {
    "colab": {
     "base_uri": "https://localhost:8080/",
     "height": 35
    },
    "colab_type": "code",
    "id": "cDCEIFf5eWUv",
    "outputId": "e34de5e6-35fa-4fe3-8dd7-9d3a29a54ea0"
   },
   "outputs": [
    {
     "name": "stdout",
     "output_type": "stream",
     "text": [
      "Found 400000 word vectors.\n"
     ]
    }
   ],
   "source": [
    "import os\n",
    "\n",
    "glove_dir = 'glove.6B'\n",
    "\n",
    "embeddings_index = {}\n",
    "f = open(os.path.join(glove_dir, 'glove.6B.50d.txt'), encoding=\"utf8\")\n",
    "for line in f:\n",
    "    values = line.split()\n",
    "    word = values[0]\n",
    "    coefs = np.asarray(values[1:], dtype='float32')\n",
    "    embeddings_index[word] = coefs\n",
    "f.close()\n",
    "\n",
    "print('Found %s word vectors.' % len(embeddings_index))"
   ]
  },
  {
   "cell_type": "code",
   "execution_count": 34,
   "metadata": {
    "colab": {},
    "colab_type": "code",
    "id": "nLcIWk9BeWfY"
   },
   "outputs": [],
   "source": [
    "embedding_dim = 50\n",
    "\n",
    "embedding_matrix = np.zeros((max_features, embedding_dim))\n",
    "for word, i in word_index.items():\n",
    "    embedding_vector = embeddings_index.get(word)\n",
    "    if i < max_features:\n",
    "        if embedding_vector is not None:\n",
    "            # Words not found in embedding index will be all-zeros.\n",
    "            embedding_matrix[i] = embedding_vector"
   ]
  },
  {
   "cell_type": "code",
   "execution_count": 97,
   "metadata": {
    "colab": {
     "base_uri": "https://localhost:8080/",
     "height": 372
    },
    "colab_type": "code",
    "id": "UYnljCJweWcI",
    "outputId": "6b221b38-9099-401f-caa5-2e0c75185507"
   },
   "outputs": [],
   "source": [
    "model = Sequential()\n",
    "model.add(Embedding(max_features, embedding_dim, input_length=maxlen))\n",
    "model.add(layers.Dropout(0.3))\n",
    "model.add(layers.GRU(32, return_sequences=True, kernel_regularizer=regularizers.l2(0.02)))\n",
    "model.add(layers.GRU(32, return_sequences=True, recurrent_dropout = 0.1))\n",
    "model.add(layers.GRU(32))\n",
    "model.add(Dense(5, activation='softmax'))"
   ]
  },
  {
   "cell_type": "code",
   "execution_count": 98,
   "metadata": {
    "colab": {
     "base_uri": "https://localhost:8080/",
     "height": 372
    },
    "colab_type": "code",
    "id": "D_bPfXVYTq9v",
    "outputId": "9e0bda02-3f24-43b4-c410-881e3c98d527"
   },
   "outputs": [
    {
     "name": "stdout",
     "output_type": "stream",
     "text": [
      "Model: \"sequential_13\"\n",
      "_________________________________________________________________\n",
      "Layer (type)                 Output Shape              Param #   \n",
      "=================================================================\n",
      "embedding_13 (Embedding)     (None, 34, 50)            750000    \n",
      "_________________________________________________________________\n",
      "dropout_9 (Dropout)          (None, 34, 50)            0         \n",
      "_________________________________________________________________\n",
      "gru_39 (GRU)                 (None, 34, 32)            8064      \n",
      "_________________________________________________________________\n",
      "gru_40 (GRU)                 (None, 34, 32)            6336      \n",
      "_________________________________________________________________\n",
      "gru_41 (GRU)                 (None, 32)                6336      \n",
      "_________________________________________________________________\n",
      "dense_13 (Dense)             (None, 5)                 165       \n",
      "=================================================================\n",
      "Total params: 770,901\n",
      "Trainable params: 770,901\n",
      "Non-trainable params: 0\n",
      "_________________________________________________________________\n"
     ]
    }
   ],
   "source": [
    "model.layers[0].set_weights([embedding_matrix])\n",
    "#model.layers[0].trainable = False\n",
    "model.summary()"
   ]
  },
  {
   "cell_type": "code",
   "execution_count": 37,
   "metadata": {
    "colab": {},
    "colab_type": "code",
    "id": "tbmqe9D2Tq7o"
   },
   "outputs": [],
   "source": [
    "model.load_weights('text_model_8.h5')\n",
    "model.compile(optimizer='rmsprop', loss='categorical_crossentropy', metrics=['acc'])"
   ]
  },
  {
   "cell_type": "code",
   "execution_count": null,
   "metadata": {
    "colab": {
     "base_uri": "https://localhost:8080/",
     "height": 1000
    },
    "colab_type": "code",
    "id": "5hKagzSsTq5N",
    "outputId": "a91dd503-8eb7-419c-8134-97f747ddb32a"
   },
   "outputs": [
    {
     "name": "stdout",
     "output_type": "stream",
     "text": [
      "Epoch 1/30\n",
      "213/213 [==============================] - 23s 108ms/step - loss: 0.7581 - acc: 0.8025 - val_loss: 0.6225 - val_acc: 0.8352\n",
      "Epoch 2/30\n",
      "213/213 [==============================] - 23s 106ms/step - loss: 0.6774 - acc: 0.8023 - val_loss: 0.5765 - val_acc: 0.8458\n",
      "Epoch 3/30\n",
      "213/213 [==============================] - 21s 100ms/step - loss: 0.6495 - acc: 0.8027 - val_loss: 0.5727 - val_acc: 0.8353\n",
      "Epoch 4/30\n",
      "213/213 [==============================] - 22s 102ms/step - loss: 0.6236 - acc: 0.8069 - val_loss: 0.5640 - val_acc: 0.8393\n",
      "Epoch 5/30\n",
      "213/213 [==============================] - 22s 102ms/step - loss: 0.6167 - acc: 0.8070 - val_loss: 0.5610 - val_acc: 0.8403\n",
      "Epoch 6/30\n",
      "213/213 [==============================] - 21s 100ms/step - loss: 0.5957 - acc: 0.8125 - val_loss: 0.5754 - val_acc: 0.8237\n",
      "Epoch 7/30\n",
      "213/213 [==============================] - 22s 102ms/step - loss: 0.5866 - acc: 0.8147 - val_loss: 0.5689 - val_acc: 0.8280\n",
      "Epoch 8/30\n",
      "213/213 [==============================] - 22s 102ms/step - loss: 0.5787 - acc: 0.8189 - val_loss: 0.5567 - val_acc: 0.8311\n",
      "Epoch 9/30\n",
      "213/213 [==============================] - 21s 98ms/step - loss: 0.5688 - acc: 0.8206 - val_loss: 0.5643 - val_acc: 0.8245\n",
      "Epoch 10/30\n",
      "213/213 [==============================] - 22s 105ms/step - loss: 0.5560 - acc: 0.8248 - val_loss: 0.5813 - val_acc: 0.8170\n",
      "Epoch 11/30\n",
      "213/213 [==============================] - 22s 103ms/step - loss: 0.5473 - acc: 0.8271 - val_loss: 0.5638 - val_acc: 0.8273\n",
      "Epoch 12/30\n",
      "213/213 [==============================] - 21s 99ms/step - loss: 0.5420 - acc: 0.8280 - val_loss: 0.5693 - val_acc: 0.8251\n",
      "Epoch 13/30\n",
      "213/213 [==============================] - 21s 99ms/step - loss: 0.5311 - acc: 0.8308 - val_loss: 0.5691 - val_acc: 0.8255\n",
      "Epoch 14/30\n",
      "213/213 [==============================] - 22s 102ms/step - loss: 0.5285 - acc: 0.8320 - val_loss: 0.5719 - val_acc: 0.8201\n",
      "Epoch 15/30\n",
      "213/213 [==============================] - 22s 102ms/step - loss: 0.5152 - acc: 0.8369 - val_loss: 0.6209 - val_acc: 0.8043\n",
      "Epoch 16/30\n",
      "213/213 [==============================] - 21s 97ms/step - loss: 0.5070 - acc: 0.8381 - val_loss: 0.5646 - val_acc: 0.8215\n",
      "Epoch 17/30\n",
      "213/213 [==============================] - 21s 97ms/step - loss: 0.5023 - acc: 0.8419 - val_loss: 0.5879 - val_acc: 0.8155\n",
      "Epoch 18/30\n",
      "213/213 [==============================] - 22s 102ms/step - loss: 0.4928 - acc: 0.8451 - val_loss: 0.5891 - val_acc: 0.8140\n",
      "Epoch 19/30\n",
      "213/213 [==============================] - 22s 103ms/step - loss: 0.4904 - acc: 0.8446 - val_loss: 0.5778 - val_acc: 0.8167\n",
      "Epoch 20/30\n",
      "213/213 [==============================] - 21s 100ms/step - loss: 0.4782 - acc: 0.8480 - val_loss: 0.5943 - val_acc: 0.8105\n",
      "Epoch 21/30\n",
      "213/213 [==============================] - 22s 102ms/step - loss: 0.4724 - acc: 0.8489 - val_loss: 0.6252 - val_acc: 0.8004\n",
      "Epoch 22/30\n",
      "213/213 [==============================] - 22s 103ms/step - loss: 0.4665 - acc: 0.8533 - val_loss: 0.5854 - val_acc: 0.8146\n",
      "Epoch 23/30\n",
      "213/213 [==============================] - 21s 101ms/step - loss: 0.4580 - acc: 0.8562 - val_loss: 0.5986 - val_acc: 0.8079\n",
      "Epoch 24/30\n",
      "213/213 [==============================] - 22s 104ms/step - loss: 0.4524 - acc: 0.8586 - val_loss: 0.6173 - val_acc: 0.8083\n",
      "Epoch 25/30\n",
      "213/213 [==============================] - 22s 103ms/step - loss: 0.4494 - acc: 0.8575 - val_loss: 0.6089 - val_acc: 0.8080\n",
      "Epoch 26/30\n",
      "213/213 [==============================] - 22s 102ms/step - loss: 0.4407 - acc: 0.8614 - val_loss: 0.6261 - val_acc: 0.8005\n",
      "Epoch 27/30\n",
      "213/213 [==============================] - 21s 99ms/step - loss: 0.4383 - acc: 0.8615 - val_loss: 0.6182 - val_acc: 0.8035\n",
      "Epoch 28/30\n",
      "213/213 [==============================] - 22s 102ms/step - loss: 0.4291 - acc: 0.8658 - val_loss: 0.6240 - val_acc: 0.7992\n",
      "Epoch 29/30\n",
      "213/213 [==============================] - 23s 106ms/step - loss: 0.4257 - acc: 0.8664 - val_loss: 0.6209 - val_acc: 0.8011\n",
      "Epoch 30/30\n",
      "213/213 [==============================] - 22s 102ms/step - loss: 0.4178 - acc: 0.8682 - val_loss: 0.6521 - val_acc: 0.7923\n"
     ]
    }
   ],
   "source": [
    "history = model.fit(X_train, y_train,\n",
    "                    epochs=30,\n",
    "                    batch_size=128,\n",
    "                    validation_split=0.2)"
   ]
  },
  {
   "cell_type": "code",
   "execution_count": null,
   "metadata": {
    "colab": {
     "base_uri": "https://localhost:8080/",
     "height": 545
    },
    "colab_type": "code",
    "id": "FvtLsmqsTq25",
    "outputId": "0fd55c83-e457-4ac2-8b78-74aab9c80e5e"
   },
   "outputs": [
    {
     "data": {
      "image/png": "[encoded data removed]",
      "text/plain": [
       "<Figure size 432x288 with 1 Axes>"
      ]
     },
     "metadata": {
      "needs_background": "light",
      "tags": []
     },
     "output_type": "display_data"
    },
    {
     "data": {
      "image/png": "[encoded data removed]",
      "text/plain": [
       "<Figure size 432x288 with 1 Axes>"
      ]
     },
     "metadata": {
      "needs_background": "light",
      "tags": []
     },
     "output_type": "display_data"
    }
   ],
   "source": [
    "acc = history.history['acc']\n",
    "val_acc = history.history['val_acc']\n",
    "loss = history.history['loss']\n",
    "val_loss = history.history['val_loss']\n",
    "\n",
    "epochs = range(len(acc))\n",
    "\n",
    "plt.plot(epochs, acc, 'bo', label='Training acc')\n",
    "plt.plot(epochs, val_acc, 'b', label='Validation acc')\n",
    "plt.title('Training and validation accuracy')\n",
    "plt.legend()\n",
    "\n",
    "plt.figure()\n",
    "\n",
    "plt.plot(epochs, loss, 'bo', label='Training loss')\n",
    "plt.plot(epochs, val_loss, 'b', label='Validation loss')\n",
    "plt.title('Training and validation loss')\n",
    "plt.legend()\n",
    "\n",
    "plt.show()"
   ]
  },
  {
   "cell_type": "code",
   "execution_count": null,
   "metadata": {
    "colab": {},
    "colab_type": "code",
    "id": "0JQHl2CjeWKW"
   },
   "outputs": [],
   "source": [
    "model.save('text_model_9.h5')"
   ]
  },
  {
   "cell_type": "markdown",
   "metadata": {
    "colab_type": "text",
    "id": "oydL0PceUH3K"
   },
   "source": [
    "# Model 10 (Fine Tuning Model 5)"
   ]
  },
  {
   "cell_type": "code",
   "execution_count": 39,
   "metadata": {
    "colab": {
     "base_uri": "https://localhost:8080/",
     "height": 35
    },
    "colab_type": "code",
    "id": "zLSQOEa_eV6k",
    "outputId": "6ee9127a-7454-46d3-dafd-809667220341"
   },
   "outputs": [
    {
     "name": "stdout",
     "output_type": "stream",
     "text": [
      "Found 400000 word vectors.\n"
     ]
    }
   ],
   "source": [
    "import os\n",
    "\n",
    "glove_dir = 'glove.6B'\n",
    "\n",
    "embeddings_index = {}\n",
    "f = open(os.path.join(glove_dir, 'glove.6B.50d.txt'), encoding=\"utf8\")\n",
    "for line in f:\n",
    "    values = line.split()\n",
    "    word = values[0]\n",
    "    coefs = np.asarray(values[1:], dtype='float32')\n",
    "    embeddings_index[word] = coefs\n",
    "f.close()\n",
    "\n",
    "print('Found %s word vectors.' % len(embeddings_index))"
   ]
  },
  {
   "cell_type": "code",
   "execution_count": 40,
   "metadata": {
    "colab": {},
    "colab_type": "code",
    "id": "vzlWb2BEUNTQ"
   },
   "outputs": [],
   "source": [
    "embedding_dim = 50\n",
    "\n",
    "embedding_matrix = np.zeros((max_features, embedding_dim))\n",
    "for word, i in word_index.items():\n",
    "    embedding_vector = embeddings_index.get(word)\n",
    "    if i < max_features:\n",
    "        if embedding_vector is not None:\n",
    "            # Words not found in embedding index will be all-zeros.\n",
    "            embedding_matrix[i] = embedding_vector"
   ]
  },
  {
   "cell_type": "code",
   "execution_count": 99,
   "metadata": {
    "colab": {
     "base_uri": "https://localhost:8080/",
     "height": 372
    },
    "colab_type": "code",
    "id": "1vimMy98UPvY",
    "outputId": "ad7947b7-a97c-4f29-ecbe-de6149e0a74d"
   },
   "outputs": [],
   "source": [
    "model = Sequential()\n",
    "model.add(Embedding(max_features, embedding_dim, input_length=maxlen))\n",
    "model.add(layers.Dropout(0.3))\n",
    "model.add(layers.GRU(32, return_sequences=True, kernel_regularizer=regularizers.l2(0.02)))\n",
    "model.add(layers.GRU(32, return_sequences=True, recurrent_dropout = 0.1))\n",
    "model.add(layers.GRU(32))\n",
    "model.add(Dense(5, activation='softmax'))"
   ]
  },
  {
   "cell_type": "code",
   "execution_count": 100,
   "metadata": {
    "colab": {
     "base_uri": "https://localhost:8080/",
     "height": 372
    },
    "colab_type": "code",
    "id": "8nrzSQW8UPtj",
    "outputId": "50cc5824-7b0b-4c92-cb51-d37fba30cb44"
   },
   "outputs": [
    {
     "name": "stdout",
     "output_type": "stream",
     "text": [
      "Model: \"sequential_14\"\n",
      "_________________________________________________________________\n",
      "Layer (type)                 Output Shape              Param #   \n",
      "=================================================================\n",
      "embedding_14 (Embedding)     (None, 34, 50)            750000    \n",
      "_________________________________________________________________\n",
      "dropout_10 (Dropout)         (None, 34, 50)            0         \n",
      "_________________________________________________________________\n",
      "gru_42 (GRU)                 (None, 34, 32)            8064      \n",
      "_________________________________________________________________\n",
      "gru_43 (GRU)                 (None, 34, 32)            6336      \n",
      "_________________________________________________________________\n",
      "gru_44 (GRU)                 (None, 32)                6336      \n",
      "_________________________________________________________________\n",
      "dense_14 (Dense)             (None, 5)                 165       \n",
      "=================================================================\n",
      "Total params: 770,901\n",
      "Trainable params: 770,901\n",
      "Non-trainable params: 0\n",
      "_________________________________________________________________\n"
     ]
    }
   ],
   "source": [
    "model.layers[0].set_weights([embedding_matrix])\n",
    "#model.layers[0].trainable = False\n",
    "model.summary()"
   ]
  },
  {
   "cell_type": "code",
   "execution_count": 43,
   "metadata": {
    "colab": {},
    "colab_type": "code",
    "id": "BabdmNiTUPrE"
   },
   "outputs": [],
   "source": [
    "model.load_weights('text_model_9.h5')\n",
    "model.compile(optimizer='rmsprop', loss='categorical_crossentropy', metrics=['acc'])"
   ]
  },
  {
   "cell_type": "code",
   "execution_count": null,
   "metadata": {
    "colab": {
     "base_uri": "https://localhost:8080/",
     "height": 1000
    },
    "colab_type": "code",
    "id": "EN0D_XTxUPoc",
    "outputId": "047ed94d-5a1e-4da7-eb53-7c8ad6612067"
   },
   "outputs": [
    {
     "name": "stdout",
     "output_type": "stream",
     "text": [
      "Epoch 1/50\n",
      "426/426 [==============================] - 36s 85ms/step - loss: 0.4368 - acc: 0.8652 - val_loss: 0.6386 - val_acc: 0.7998\n",
      "Epoch 2/50\n",
      "426/426 [==============================] - 34s 81ms/step - loss: 0.4284 - acc: 0.8657 - val_loss: 0.7069 - val_acc: 0.7847\n",
      "Epoch 3/50\n",
      "426/426 [==============================] - 35s 81ms/step - loss: 0.4260 - acc: 0.8681 - val_loss: 0.6821 - val_acc: 0.7916\n",
      "Epoch 4/50\n",
      "426/426 [==============================] - 35s 81ms/step - loss: 0.4176 - acc: 0.8715 - val_loss: 0.7011 - val_acc: 0.7838\n",
      "Epoch 5/50\n",
      "426/426 [==============================] - 36s 85ms/step - loss: 0.4195 - acc: 0.8679 - val_loss: 0.6935 - val_acc: 0.7822\n",
      "Epoch 6/50\n",
      "426/426 [==============================] - 35s 81ms/step - loss: 0.4095 - acc: 0.8729 - val_loss: 0.6459 - val_acc: 0.7939\n",
      "Epoch 7/50\n",
      "426/426 [==============================] - 33s 79ms/step - loss: 0.4039 - acc: 0.8767 - val_loss: 0.6585 - val_acc: 0.7930\n",
      "Epoch 8/50\n",
      "426/426 [==============================] - 35s 83ms/step - loss: 0.4017 - acc: 0.8758 - val_loss: 0.7023 - val_acc: 0.7800\n",
      "Epoch 9/50\n",
      "426/426 [==============================] - 36s 84ms/step - loss: 0.3951 - acc: 0.8768 - val_loss: 0.6709 - val_acc: 0.7907\n",
      "Epoch 10/50\n",
      "426/426 [==============================] - 35s 82ms/step - loss: 0.3947 - acc: 0.8781 - val_loss: 0.6917 - val_acc: 0.7820\n",
      "Epoch 11/50\n",
      "426/426 [==============================] - 36s 83ms/step - loss: 0.3863 - acc: 0.8828 - val_loss: 0.7048 - val_acc: 0.7825\n",
      "Epoch 12/50\n",
      "426/426 [==============================] - 35s 82ms/step - loss: 0.3846 - acc: 0.8831 - val_loss: 0.6778 - val_acc: 0.7854\n",
      "Epoch 13/50\n",
      "426/426 [==============================] - 34s 79ms/step - loss: 0.3804 - acc: 0.8836 - val_loss: 0.7218 - val_acc: 0.7850\n",
      "Epoch 14/50\n",
      "426/426 [==============================] - 36s 84ms/step - loss: 0.3744 - acc: 0.8863 - val_loss: 0.7199 - val_acc: 0.7753\n",
      "Epoch 15/50\n",
      "426/426 [==============================] - 34s 80ms/step - loss: 0.3685 - acc: 0.8864 - val_loss: 0.7107 - val_acc: 0.7804\n",
      "Epoch 16/50\n",
      "426/426 [==============================] - 35s 82ms/step - loss: 0.3709 - acc: 0.8878 - val_loss: 0.7212 - val_acc: 0.7811\n",
      "Epoch 17/50\n",
      "426/426 [==============================] - 35s 81ms/step - loss: 0.3655 - acc: 0.8891 - val_loss: 0.7177 - val_acc: 0.7807\n",
      "Epoch 18/50\n",
      "426/426 [==============================] - 34s 80ms/step - loss: 0.3642 - acc: 0.8893 - val_loss: 0.7227 - val_acc: 0.7803\n",
      "Epoch 19/50\n",
      "426/426 [==============================] - 35s 83ms/step - loss: 0.3557 - acc: 0.8940 - val_loss: 0.7441 - val_acc: 0.7720\n",
      "Epoch 20/50\n",
      "426/426 [==============================] - 35s 82ms/step - loss: 0.3519 - acc: 0.8932 - val_loss: 0.7261 - val_acc: 0.7742\n",
      "Epoch 21/50\n",
      "426/426 [==============================] - 35s 82ms/step - loss: 0.3485 - acc: 0.8961 - val_loss: 0.7181 - val_acc: 0.7833\n",
      "Epoch 22/50\n",
      "426/426 [==============================] - 35s 81ms/step - loss: 0.3473 - acc: 0.8929 - val_loss: 0.7144 - val_acc: 0.7841\n",
      "Epoch 23/50\n",
      "426/426 [==============================] - 36s 84ms/step - loss: 0.3414 - acc: 0.8971 - val_loss: 0.7413 - val_acc: 0.7769\n",
      "Epoch 24/50\n",
      "426/426 [==============================] - 36s 84ms/step - loss: 0.3398 - acc: 0.8960 - val_loss: 0.7386 - val_acc: 0.7685\n",
      "Epoch 25/50\n",
      "426/426 [==============================] - 36s 84ms/step - loss: 0.3345 - acc: 0.8982 - val_loss: 0.7529 - val_acc: 0.7775\n",
      "Epoch 26/50\n",
      "426/426 [==============================] - 36s 84ms/step - loss: 0.3331 - acc: 0.8979 - val_loss: 0.7549 - val_acc: 0.7735\n",
      "Epoch 27/50\n",
      "426/426 [==============================] - 34s 80ms/step - loss: 0.3325 - acc: 0.8989 - val_loss: 0.7839 - val_acc: 0.7682\n",
      "Epoch 28/50\n",
      "426/426 [==============================] - 34s 80ms/step - loss: 0.3256 - acc: 0.9002 - val_loss: 0.7640 - val_acc: 0.7684\n",
      "Epoch 29/50\n",
      "426/426 [==============================] - 35s 81ms/step - loss: 0.3254 - acc: 0.9014 - val_loss: 0.7980 - val_acc: 0.7650\n",
      "Epoch 30/50\n",
      "426/426 [==============================] - 34s 80ms/step - loss: 0.3199 - acc: 0.9041 - val_loss: 0.7679 - val_acc: 0.7691\n",
      "Epoch 31/50\n",
      "426/426 [==============================] - 34s 79ms/step - loss: 0.3169 - acc: 0.9045 - val_loss: 0.7766 - val_acc: 0.7688\n",
      "Epoch 32/50\n",
      "426/426 [==============================] - 36s 83ms/step - loss: 0.3139 - acc: 0.9048 - val_loss: 0.7942 - val_acc: 0.7651\n",
      "Epoch 33/50\n",
      "426/426 [==============================] - 34s 80ms/step - loss: 0.3147 - acc: 0.9056 - val_loss: 0.7798 - val_acc: 0.7732\n",
      "Epoch 34/50\n",
      "426/426 [==============================] - 35s 82ms/step - loss: 0.3069 - acc: 0.9083 - val_loss: 0.7937 - val_acc: 0.7707\n",
      "Epoch 35/50\n",
      "426/426 [==============================] - 35s 81ms/step - loss: 0.3067 - acc: 0.9079 - val_loss: 0.8171 - val_acc: 0.7606\n",
      "Epoch 36/50\n",
      "426/426 [==============================] - 35s 81ms/step - loss: 0.3016 - acc: 0.9105 - val_loss: 0.8152 - val_acc: 0.7645\n",
      "Epoch 37/50\n",
      "426/426 [==============================] - 34s 81ms/step - loss: 0.2984 - acc: 0.9102 - val_loss: 0.8044 - val_acc: 0.7632\n",
      "Epoch 38/50\n",
      "426/426 [==============================] - 34s 79ms/step - loss: 0.2996 - acc: 0.9090 - val_loss: 0.8118 - val_acc: 0.7559\n",
      "Epoch 39/50\n",
      "426/426 [==============================] - 35s 82ms/step - loss: 0.2953 - acc: 0.9123 - val_loss: 0.8653 - val_acc: 0.7565\n",
      "Epoch 40/50\n",
      "426/426 [==============================] - 34s 80ms/step - loss: 0.2969 - acc: 0.9109 - val_loss: 0.8146 - val_acc: 0.7692\n",
      "Epoch 41/50\n",
      "426/426 [==============================] - 37s 87ms/step - loss: 0.2935 - acc: 0.9138 - val_loss: 0.7985 - val_acc: 0.7701\n",
      "Epoch 42/50\n",
      "426/426 [==============================] - 35s 83ms/step - loss: 0.2871 - acc: 0.9149 - val_loss: 0.7980 - val_acc: 0.7641\n",
      "Epoch 43/50\n",
      "426/426 [==============================] - 36s 85ms/step - loss: 0.2871 - acc: 0.9156 - val_loss: 0.8280 - val_acc: 0.7626\n",
      "Epoch 44/50\n",
      "426/426 [==============================] - 35s 82ms/step - loss: 0.2868 - acc: 0.9144 - val_loss: 0.8361 - val_acc: 0.7667\n",
      "Epoch 45/50\n",
      "426/426 [==============================] - 36s 84ms/step - loss: 0.2798 - acc: 0.9181 - val_loss: 0.8375 - val_acc: 0.7568\n",
      "Epoch 46/50\n",
      "426/426 [==============================] - 36s 84ms/step - loss: 0.2769 - acc: 0.9176 - val_loss: 0.8682 - val_acc: 0.7660\n",
      "Epoch 47/50\n",
      "426/426 [==============================] - 35s 81ms/step - loss: 0.2787 - acc: 0.9185 - val_loss: 0.8732 - val_acc: 0.7623\n",
      "Epoch 48/50\n",
      "426/426 [==============================] - 35s 82ms/step - loss: 0.2756 - acc: 0.9196 - val_loss: 0.8689 - val_acc: 0.7593\n",
      "Epoch 49/50\n",
      "426/426 [==============================] - 34s 80ms/step - loss: 0.2746 - acc: 0.9189 - val_loss: 0.8605 - val_acc: 0.7615\n",
      "Epoch 50/50\n",
      "426/426 [==============================] - 36s 85ms/step - loss: 0.2656 - acc: 0.9205 - val_loss: 0.8740 - val_acc: 0.7598\n"
     ]
    }
   ],
   "source": [
    "history = model.fit(X_train, y_train,\n",
    "                    epochs=50,\n",
    "                    batch_size=64,\n",
    "                    validation_split=0.2)"
   ]
  },
  {
   "cell_type": "code",
   "execution_count": null,
   "metadata": {
    "colab": {
     "base_uri": "https://localhost:8080/",
     "height": 545
    },
    "colab_type": "code",
    "id": "KVTaevgiUPme",
    "outputId": "5a6b8388-e5c5-4ddf-cfba-15661b3bc183"
   },
   "outputs": [
    {
     "data": {
      "image/png": "[encoded data removed]",
      "text/plain": [
       "<Figure size 432x288 with 1 Axes>"
      ]
     },
     "metadata": {
      "needs_background": "light",
      "tags": []
     },
     "output_type": "display_data"
    },
    {
     "data": {
      "image/png": "[encoded data removed]",
      "text/plain": [
       "<Figure size 432x288 with 1 Axes>"
      ]
     },
     "metadata": {
      "needs_background": "light",
      "tags": []
     },
     "output_type": "display_data"
    }
   ],
   "source": [
    "acc = history.history['acc']\n",
    "val_acc = history.history['val_acc']\n",
    "loss = history.history['loss']\n",
    "val_loss = history.history['val_loss']\n",
    "\n",
    "epochs = range(len(acc))\n",
    "\n",
    "plt.plot(epochs, acc, 'bo', label='Training acc')\n",
    "plt.plot(epochs, val_acc, 'b', label='Validation acc')\n",
    "plt.title('Training and validation accuracy')\n",
    "plt.legend()\n",
    "\n",
    "plt.figure()\n",
    "\n",
    "plt.plot(epochs, loss, 'bo', label='Training loss')\n",
    "plt.plot(epochs, val_loss, 'b', label='Validation loss')\n",
    "plt.title('Training and validation loss')\n",
    "plt.legend()\n",
    "\n",
    "plt.show()"
   ]
  },
  {
   "cell_type": "code",
   "execution_count": null,
   "metadata": {
    "colab": {},
    "colab_type": "code",
    "id": "XQ1NJp_UUPj7"
   },
   "outputs": [],
   "source": [
    "model.save('text_model_10.h5')"
   ]
  },
  {
   "cell_type": "code",
   "execution_count": null,
   "metadata": {
    "colab": {},
    "colab_type": "code",
    "id": "TuHmS7OAZyWm"
   },
   "outputs": [],
   "source": []
  },
  {
   "cell_type": "markdown",
   "metadata": {
    "colab_type": "text",
    "id": "KipDmcvT0wFt"
   },
   "source": [
    "# Step 3 – Evaluate the Model using Testing Data "
   ]
  },
  {
   "cell_type": "code",
   "execution_count": null,
   "metadata": {
    "colab": {
     "base_uri": "https://localhost:8080/",
     "height": 52
    },
    "colab_type": "code",
    "id": "NPlaWx7C0wFt",
    "outputId": "88703559-c45a-49a4-dc5b-b7f1ef223924"
   },
   "outputs": [
    {
     "name": "stdout",
     "output_type": "stream",
     "text": [
      "Test score:  0.6533899307250977\n",
      "Test accuracy:  0.8119859099388123\n"
     ]
    }
   ],
   "source": [
    "# Model #1 (replicate where necessary for other models)\n",
    "model.load_weights('text_model_1.h5')\n",
    "score = model.evaluate(X_test, y_test, verbose=False) \n",
    "model.metrics_names\n",
    "print('Test score: ', score[0])    #Loss on test\n",
    "print('Test accuracy: ', score[1])"
   ]
  },
  {
   "cell_type": "code",
   "execution_count": null,
   "metadata": {
    "colab": {
     "base_uri": "https://localhost:8080/",
     "height": 52
    },
    "colab_type": "code",
    "id": "ZjQcvxpqhFM-",
    "outputId": "c8cdfbf0-f563-406d-9828-5b89723aefe4"
   },
   "outputs": [
    {
     "name": "stdout",
     "output_type": "stream",
     "text": [
      "Test score:  0.8104938268661499\n",
      "Test accuracy:  0.8432432413101196\n"
     ]
    }
   ],
   "source": [
    "model.load_weights('text_model_2.h5')\n",
    "score = model.evaluate(X_test, y_test, verbose=False) \n",
    "model.metrics_names\n",
    "print('Test score: ', score[0])    #Loss on test\n",
    "print('Test accuracy: ', score[1])"
   ]
  },
  {
   "cell_type": "code",
   "execution_count": null,
   "metadata": {
    "colab": {
     "base_uri": "https://localhost:8080/",
     "height": 52
    },
    "colab_type": "code",
    "id": "5NHbhPkFhFRI",
    "outputId": "0b375311-9ad2-4a6a-d9fe-0d64382e0f6b"
   },
   "outputs": [
    {
     "name": "stdout",
     "output_type": "stream",
     "text": [
      "Test score:  0.8145182132720947\n",
      "Test accuracy:  0.8391304612159729\n"
     ]
    }
   ],
   "source": [
    "model.load_weights('text_model_3.h5')\n",
    "score = model.evaluate(X_test, y_test, verbose=False) \n",
    "model.metrics_names\n",
    "print('Test score: ', score[0])    #Loss on test\n",
    "print('Test accuracy: ', score[1])"
   ]
  },
  {
   "cell_type": "code",
   "execution_count": null,
   "metadata": {
    "colab": {
     "base_uri": "https://localhost:8080/",
     "height": 52
    },
    "colab_type": "code",
    "id": "_cs8r_IMhFqO",
    "outputId": "d7cdc36e-490a-420d-b2c0-59d6437813ff"
   },
   "outputs": [
    {
     "name": "stdout",
     "output_type": "stream",
     "text": [
      "Test score:  0.7866398692131042\n",
      "Test accuracy:  0.8359577059745789\n"
     ]
    }
   ],
   "source": [
    "model.load_weights('text_model_4.h5')\n",
    "score = model.evaluate(X_test, y_test, verbose=False) \n",
    "model.metrics_names\n",
    "print('Test score: ', score[0])    #Loss on test\n",
    "print('Test accuracy: ', score[1])"
   ]
  },
  {
   "cell_type": "code",
   "execution_count": 49,
   "metadata": {
    "colab": {
     "base_uri": "https://localhost:8080/",
     "height": 52
    },
    "colab_type": "code",
    "id": "V8ZKWIaxhFlT",
    "outputId": "fe51f46b-4ba6-4972-fa19-5846ae34f8df"
   },
   "outputs": [
    {
     "name": "stdout",
     "output_type": "stream",
     "text": [
      "Test score:  0.9926936334364562\n",
      "Test accuracy:  0.6151586\n"
     ]
    }
   ],
   "source": [
    "model.load_weights('text_model_5.h5')\n",
    "score = model.evaluate(X_test, y_test, verbose=False) \n",
    "model.metrics_names\n",
    "print('Test score: ', score[0])    #Loss on test\n",
    "print('Test accuracy: ', score[1])"
   ]
  },
  {
   "cell_type": "code",
   "execution_count": 55,
   "metadata": {
    "colab": {
     "base_uri": "https://localhost:8080/",
     "height": 52
    },
    "colab_type": "code",
    "id": "hzro5gn_hE9x",
    "outputId": "ce781469-d344-44d4-bedb-c2e6672945dd"
   },
   "outputs": [
    {
     "name": "stdout",
     "output_type": "stream",
     "text": [
      "Test score:  0.8563094082243574\n",
      "Test accuracy:  0.8658049\n"
     ]
    }
   ],
   "source": [
    "model.load_weights('text_model_6.h5')\n",
    "score = model.evaluate(X_test, y_test, verbose=False) \n",
    "model.metrics_names\n",
    "print('Test score: ', score[0])    #Loss on test\n",
    "print('Test accuracy: ', score[1])"
   ]
  },
  {
   "cell_type": "code",
   "execution_count": 106,
   "metadata": {
    "colab": {
     "base_uri": "https://localhost:8080/",
     "height": 52
    },
    "colab_type": "code",
    "id": "4bUU2jP6hJNg",
    "outputId": "c3ee5b57-bd07-4ff2-a9de-01e36c0545f7",
    "scrolled": true
   },
   "outputs": [
    {
     "name": "stdout",
     "output_type": "stream",
     "text": [
      "Test score:  0.5386471347088819\n",
      "Test accuracy:  0.8415981\n"
     ]
    }
   ],
   "source": [
    "model.load_weights('text_model_7.h5')\n",
    "score = model.evaluate(X_test, y_test, verbose=False) \n",
    "model.metrics_names\n",
    "print('Test score: ', score[0])    #Loss on test\n",
    "print('Test accuracy: ', score[1])"
   ]
  },
  {
   "cell_type": "code",
   "execution_count": 32,
   "metadata": {
    "colab": {
     "base_uri": "https://localhost:8080/",
     "height": 52
    },
    "colab_type": "code",
    "id": "KJGNR0YjhJSc",
    "outputId": "0d4d84cc-fe2b-4031-b429-120a3f81bf7c"
   },
   "outputs": [
    {
     "name": "stdout",
     "output_type": "stream",
     "text": [
      "Test score:  0.4912914411651822\n",
      "Test accuracy:  0.87297297\n"
     ]
    }
   ],
   "source": [
    "model.load_weights('text_model_8.h5')\n",
    "score = model.evaluate(X_test, y_test, verbose=False) \n",
    "model.metrics_names\n",
    "print('Test score: ', score[0])    #Loss on test\n",
    "print('Test accuracy: ', score[1])"
   ]
  },
  {
   "cell_type": "code",
   "execution_count": 38,
   "metadata": {
    "colab": {
     "base_uri": "https://localhost:8080/",
     "height": 52
    },
    "colab_type": "code",
    "id": "17H87XXMUffJ",
    "outputId": "8f90f4f5-e9a8-42df-92af-c714b3ad348d"
   },
   "outputs": [
    {
     "name": "stdout",
     "output_type": "stream",
     "text": [
      "Test score:  0.41770602167002885\n",
      "Test accuracy:  0.87673324\n"
     ]
    }
   ],
   "source": [
    "model.load_weights('text_model_9.h5')\n",
    "score = model.evaluate(X_test, y_test, verbose=False) \n",
    "model.metrics_names\n",
    "print('Test score: ', score[0])    #Loss on test\n",
    "print('Test accuracy: ', score[1])"
   ]
  },
  {
   "cell_type": "code",
   "execution_count": 44,
   "metadata": {
    "colab": {
     "base_uri": "https://localhost:8080/",
     "height": 52
    },
    "colab_type": "code",
    "id": "0bZN-3pghJEN",
    "outputId": "c1fa1441-6b6d-4856-fc95-31c07c233e40"
   },
   "outputs": [
    {
     "name": "stdout",
     "output_type": "stream",
     "text": [
      "Test score:  0.4085199668040427\n",
      "Test accuracy:  0.89424205\n"
     ]
    }
   ],
   "source": [
    "model.load_weights('text_model_10.h5')\n",
    "score = model.evaluate(X_test, y_test, verbose=False) \n",
    "model.metrics_names\n",
    "print('Test score: ', score[0])    #Loss on test\n",
    "print('Test accuracy: ', score[1])"
   ]
  },
  {
   "cell_type": "code",
   "execution_count": 63,
   "metadata": {
    "colab": {},
    "colab_type": "code",
    "id": "WsFUNhAN0wFv"
   },
   "outputs": [],
   "source": [
    "# Save the Best Model (Model 7)\n",
    "model.save('text_model_best.h5')"
   ]
  },
  {
   "cell_type": "markdown",
   "metadata": {
    "colab_type": "text",
    "id": "DszRyngl0wFx"
   },
   "source": [
    "# Step 4 – Use the Best Model to make prediction"
   ]
  },
  {
   "cell_type": "code",
   "execution_count": 64,
   "metadata": {
    "colab": {},
    "colab_type": "code",
    "id": "Tz6zTpXx0wFy"
   },
   "outputs": [],
   "source": [
    "model.load_weights('text_model_best.h5')"
   ]
  },
  {
   "cell_type": "code",
   "execution_count": 119,
   "metadata": {
    "colab": {
     "base_uri": "https://localhost:8080/",
     "height": 35
    },
    "colab_type": "code",
    "id": "5QmcpOVG0wF0",
    "outputId": "c9d5427b-17f6-4b24-d5c3-b253a49372fc",
    "scrolled": true
   },
   "outputs": [
    {
     "name": "stdout",
     "output_type": "stream",
     "text": [
      "Haha, that was a funny joke\n"
     ]
    }
   ],
   "source": [
    "# takes the user input\n",
    "text_input = np.array([input()])"
   ]
  },
  {
   "cell_type": "code",
   "execution_count": 120,
   "metadata": {
    "colab": {
     "base_uri": "https://localhost:8080/",
     "height": 88
    },
    "colab_type": "code",
    "id": "18O8kf9p0wF2",
    "outputId": "75034aae-346d-42ae-a46d-e88946ee0deb"
   },
   "outputs": [
    {
     "name": "stdout",
     "output_type": "stream",
     "text": [
      "The prediction is:  😂 \n",
      "\n",
      " emoticons         😍         😂         📷         🔥         ❤\n",
      "0          0.050208  0.918644  0.000907  0.006309  0.023931\n"
     ]
    }
   ],
   "source": [
    "# convert the user input into numeric tensor\n",
    "def prediction(model, text_input, items_l):\n",
    "    tokenizer.fit_on_texts(text_input)\n",
    "    sequences = tokenizer.texts_to_sequences(text_input)\n",
    "    data = pad_sequences(sequences, maxlen=maxlen)\n",
    "    prob = model.predict(data)\n",
    "    pro_df = pd.DataFrame(prob, columns = items_l)\n",
    "    result = items_l[np.argmax(prob)]\n",
    "    return pro_df, result\n",
    "prob_df, result = prediction(model,text_input,df['emoticons'])\n",
    "print('The prediction is: ', result, '\\n\\n', prob_df)"
   ]
  },
  {
   "cell_type": "code",
   "execution_count": 127,
   "metadata": {},
   "outputs": [
    {
     "name": "stdout",
     "output_type": "stream",
     "text": [
      "I am scared of fire\n"
     ]
    }
   ],
   "source": [
    "# takes the user input\n",
    "text_input = np.array([input()])"
   ]
  },
  {
   "cell_type": "code",
   "execution_count": 128,
   "metadata": {},
   "outputs": [
    {
     "name": "stdout",
     "output_type": "stream",
     "text": [
      "The prediction is:  🔥 \n",
      "\n",
      " emoticons         😍         😂         📷         🔥         ❤\n",
      "0          0.043837  0.091206  0.062119  0.780686  0.022151\n"
     ]
    }
   ],
   "source": [
    "# convert the user input into numeric tensor\n",
    "def prediction(model, text_input, items_l):\n",
    "    tokenizer.fit_on_texts(text_input)\n",
    "    sequences = tokenizer.texts_to_sequences(text_input)\n",
    "    data = pad_sequences(sequences, maxlen=maxlen)\n",
    "    prob = model.predict(data)\n",
    "    pro_df = pd.DataFrame(prob, columns = items_l)\n",
    "    result = items_l[np.argmax(prob)]\n",
    "    return pro_df, result\n",
    "prob_df, result = prediction(model,text_input,df['emoticons'])\n",
    "print('The prediction is: ', result, '\\n\\n', prob_df)"
   ]
  },
  {
   "cell_type": "code",
   "execution_count": 117,
   "metadata": {},
   "outputs": [
    {
     "name": "stdout",
     "output_type": "stream",
     "text": [
      "I love you!\n"
     ]
    }
   ],
   "source": [
    "# takes the user input\n",
    "text_input = np.array([input()])"
   ]
  },
  {
   "cell_type": "code",
   "execution_count": 118,
   "metadata": {},
   "outputs": [
    {
     "name": "stdout",
     "output_type": "stream",
     "text": [
      "The prediction is:  ❤ \n",
      "\n",
      " emoticons         😍       😂         📷         🔥         ❤\n",
      "0          0.224624  0.0021  0.000205  0.000766  0.772305\n"
     ]
    }
   ],
   "source": [
    "# convert the user input into numeric tensor\n",
    "def prediction(model, text_input, items_l):\n",
    "    tokenizer.fit_on_texts(text_input)\n",
    "    sequences = tokenizer.texts_to_sequences(text_input)\n",
    "    data = pad_sequences(sequences, maxlen=maxlen)\n",
    "    prob = model.predict(data)\n",
    "    pro_df = pd.DataFrame(prob, columns = items_l)\n",
    "    result = items_l[np.argmax(prob)]\n",
    "    return pro_df, result\n",
    "prob_df, result = prediction(model,text_input,df['emoticons'])\n",
    "print('The prediction is: ', result, '\\n\\n', prob_df)"
   ]
  }
 ],
 "metadata": {
  "colab": {
   "collapsed_sections": [],
   "name": "Assignment_2_p1.ipynb",
   "provenance": [],
   "toc_visible": true
  },
  "kernelspec": {
   "display_name": "Python 3",
   "language": "python",
   "name": "python3"
  },
  "language_info": {
   "codemirror_mode": {
    "name": "ipython",
    "version": 3
   },
   "file_extension": ".py",
   "mimetype": "text/x-python",
   "name": "python",
   "nbconvert_exporter": "python",
   "pygments_lexer": "ipython3",
   "version": "3.7.3"
  }
 },
 "nbformat": 4,
 "nbformat_minor": 1
}
